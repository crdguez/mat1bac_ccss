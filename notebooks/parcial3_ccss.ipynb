{
 "cells": [
  {
   "cell_type": "code",
   "execution_count": 1,
   "metadata": {},
   "outputs": [
    {
     "name": "stdout",
     "output_type": "stream",
     "text": [
      "IPython console for SymPy 1.2 (Python 3.6.8-64-bit) (ground types: gmpy)\n",
      "\n",
      "These commands were executed:\n",
      ">>> from __future__ import division\n",
      ">>> from sympy import *\n",
      ">>> x, y, z, t = symbols('x y z t')\n",
      ">>> k, m, n = symbols('k m n', integer=True)\n",
      ">>> f, g, h = symbols('f g h', cls=Function)\n",
      ">>> init_printing()\n",
      "\n",
      "Documentation can be found at http://docs.sympy.org/1.2/\n",
      "\n"
     ]
    }
   ],
   "source": [
    "from sympy import init_session\n",
    "from sympy import div, QQ\n",
    "from sympy.parsing.latex import parse_latex\n",
    "from sympy.parsing.sympy_parser import parse_expr\n",
    "from IPython.display import Markdown as md\n",
    "from IPython.display import display\n",
    "import pandas as pd\n",
    "\n",
    "import numpy as np\n",
    "\n",
    "\n",
    "\n",
    "\n",
    "init_session()\n",
    "\n",
    "a, b, c, d = symbols('a b c d', real = True)\n",
    "from docparts import añadir_ejercicios, doc_ejer, escribir_preambulo, escribir_ejercicios, escribir_fin\n",
    "\n",
    "df_ejercicios = pd.DataFrame()\n",
    "\n",
    "fichero = 'parc3'\n",
    "titulo = 'Parcial3'\n",
    "curso = '1BC'\n",
    "\n",
    "\n",
    "x,y = symbols('x, y', real=True)\n",
    "\n",
    "import matplotlib.pyplot as plt\n",
    "from matplotlib import style\n",
    "#style.use('ggplot')\n",
    "style.use('seaborn-whitegrid')\n",
    "\n",
    "\n",
    "%matplotlib inline\n"
   ]
  },
  {
   "cell_type": "code",
   "execution_count": 2,
   "metadata": {},
   "outputs": [
    {
     "data": {
      "text/markdown": [
       "**Halla el dominio de las siguientes funciones: \n",
       "    **"
      ],
      "text/plain": [
       "<IPython.core.display.Markdown object>"
      ]
     },
     "metadata": {},
     "output_type": "display_data"
    },
    {
     "data": {
      "text/markdown": [
       "$f(x)=7x-1$ $ \\rightarrow $$Dom\\left(f \\right)=\\mathbb{R}$"
      ],
      "text/plain": [
       "<IPython.core.display.Markdown object>"
      ]
     },
     "metadata": {},
     "output_type": "display_data"
    },
    {
     "data": {
      "text/markdown": [
       "$f(x)=x^3-5x^2+2$ $ \\rightarrow $$Dom\\left(f \\right)=\\mathbb{R}$"
      ],
      "text/plain": [
       "<IPython.core.display.Markdown object>"
      ]
     },
     "metadata": {},
     "output_type": "display_data"
    },
    {
     "data": {
      "text/markdown": [
       "$f(x)=\\frac{{x - 1}}{{x + 5}}$ $ \\rightarrow $$Dom\\left(f \\right)=\\left(-\\infty, -5\\right) \\cup \\left(-5, \\infty\\right)$"
      ],
      "text/plain": [
       "<IPython.core.display.Markdown object>"
      ]
     },
     "metadata": {},
     "output_type": "display_data"
    },
    {
     "data": {
      "text/markdown": [
       "$f(x)=\\sqrt[3]{\\frac{x + 1}{x - 2}}$ $ \\rightarrow $$Dom\\left(f \\right)=\\left(-\\infty, 2\\right) \\cup \\left(2, \\infty\\right)$"
      ],
      "text/plain": [
       "<IPython.core.display.Markdown object>"
      ]
     },
     "metadata": {},
     "output_type": "display_data"
    },
    {
     "data": {
      "text/markdown": [
       "$f(x)=\\sqrt {{x^2} - 9}$ $ \\rightarrow $$Dom\\left(f \\right)=\\left(-\\infty, -3\\right] \\cup \\left[3, \\infty\\right)$"
      ],
      "text/plain": [
       "<IPython.core.display.Markdown object>"
      ]
     },
     "metadata": {},
     "output_type": "display_data"
    },
    {
     "data": {
      "text/markdown": [
       "$f(x)=\\sqrt {2x+3}$ $ \\rightarrow $$Dom\\left(f \\right)=\\left[- \\frac{3}{2}, \\infty\\right)$"
      ],
      "text/plain": [
       "<IPython.core.display.Markdown object>"
      ]
     },
     "metadata": {},
     "output_type": "display_data"
    }
   ],
   "source": [
    "puntuacion = '1'                          \n",
    "                      \n",
    "datos = [[r'7x-1',r'x^3-5x^2+2',r'\\frac{{x - 1}}{{x + 5}}']]\n",
    "\n",
    "# vectores iniciales correspondientes al texto del enunciado\n",
    "\n",
    "for i, s in enumerate(datos) : \n",
    "    n_ejercicio = 'ex31e01-'+str(i)\n",
    "    enunciado_latex, enunciado, solucion = [],[],[]\n",
    "    \n",
    "    texto_ejercicio = r\"\"\"Halla el dominio de las siguientes funciones: \n",
    "    \"\"\"\n",
    "    \n",
    "    display(md(\"**\"+texto_ejercicio+\"**\"))\n",
    "    \n",
    "    for j, t in enumerate(s):\n",
    "        enunciado_latex.append(\"$f(x)=\"+t+\"$\")\n",
    "        enunciado.append(parse_latex(t))\n",
    "        # voy por aquí\n",
    "\n",
    "        sol = r\"$Dom\\left(f \\right)=\"\n",
    "        sol+=latex(S.Reals - singularities(eval(str(parse_latex(t))),x))+r\"$\"\n",
    "        solucion.append(sol)\n",
    "        display(md(enunciado_latex[j] +\" $ \\\\rightarrow $\" + solucion[j] ))\n",
    "        \n",
    "    # Estos los añado yo\n",
    "    \n",
    "    dato = r'\\sqrt[3]{\\frac{x + 1}{x - 2}}'\n",
    "    enunciado_latex.append(\"$f(x)=\"+dato+\"$\")\n",
    "    enunciado.append(parse_latex(dato))\n",
    "    sol = r\"$Dom\\left(f \\right)=\"\n",
    "    sol+=latex(S.Reals - singularities((x+1)/(x-2),x))+r\"$\"\n",
    "    solucion.append(sol)\n",
    "    display(md(r\"$f(x)=\"+dato+\"$\"+\" $ \\\\rightarrow $\" + sol))\n",
    "    \n",
    "    dato = r'\\sqrt {{x^2} - 9}'\n",
    "    enunciado_latex.append(\"$f(x)=\"+dato+\"$\")\n",
    "    enunciado.append(parse_latex(dato))\n",
    "    sol = r\"$Dom\\left(f \\right)=\"\n",
    "    sol+=latex(S.Reals - solve_univariate_inequality(x**2-9<0,x, relational=False))+r\"$\"\n",
    "    solucion.append(sol)\n",
    "    display(md(r\"$f(x)=\"+dato+\"$\"+\" $ \\\\rightarrow $\" + sol))\n",
    "    \n",
    "    dato = r'\\sqrt {2x+3}'\n",
    "    enunciado_latex.append(\"$f(x)=\"+dato+\"$\")\n",
    "    enunciado.append(parse_latex(dato))\n",
    "    sol = r\"$Dom\\left(f \\right)=\"\n",
    "    sol+=latex(S.Reals - solve_univariate_inequality(2*x+3<0,x, relational=False))+r\"$\"\n",
    "    solucion.append(sol)\n",
    "    display(md(r\"$f(x)=\"+dato+\"$\"+\" $ \\\\rightarrow $\" + sol))\n",
    "\n",
    "        \n",
    "    df_ejercicios = df_ejercicios.append(añadir_ejercicios(enunciado_latex, enunciado, solucion, texto_ejercicio, curso, titulo , n_ejercicio, '5', '1', enun_tex=False, sol_tex=False), ignore_index=True)\n",
    "\n",
    "\n"
   ]
  },
  {
   "cell_type": "code",
   "execution_count": 3,
   "metadata": {},
   "outputs": [
    {
     "data": {
      "text/markdown": [
       "**Dadas las funciones $f(x)= (2x-1)/3$ y $g(x)= x^2-3x$. Calcula: \n",
       "    **"
      ],
      "text/plain": [
       "<IPython.core.display.Markdown object>"
      ]
     },
     "metadata": {},
     "output_type": "display_data"
    },
    {
     "data": {
      "text/markdown": [
       "$g \\circ f$ $ \\rightarrow $$g{\\left (f{\\left (x \\right )} \\right )}=\\frac{4 x^{2}}{9} - \\frac{22 x}{9} + \\frac{10}{9}$"
      ],
      "text/plain": [
       "<IPython.core.display.Markdown object>"
      ]
     },
     "metadata": {},
     "output_type": "display_data"
    },
    {
     "data": {
      "text/markdown": [
       "$f \\circ g$ $ \\rightarrow $$f{\\left (g{\\left (x \\right )} \\right )}=\\frac{2 x^{2}}{3} - 2 x - \\frac{1}{3}$"
      ],
      "text/plain": [
       "<IPython.core.display.Markdown object>"
      ]
     },
     "metadata": {},
     "output_type": "display_data"
    }
   ],
   "source": [
    "puntuacion = '1'                          \n",
    "                      \n",
    "datos = [[r'(2x-1)/3',r'x^2-3x'],]\n",
    "\n",
    "# vectores iniciales correspondientes al texto del enunciado\n",
    "\n",
    "for i, s in enumerate(datos) : \n",
    "    n_ejercicio = 'ex31e02-'+str(i)\n",
    "    enunciado_latex, enunciado, solucion = [],[],[]\n",
    "    \n",
    "    texto_ejercicio = r\"\"\"Dadas las funciones $f(x)= {}$ y $g(x)= {}$. Calcula: \n",
    "    \"\"\".format(datos[i][0],datos[i][1])\n",
    "    \n",
    "    display(md(\"**\"+texto_ejercicio+\"**\"))\n",
    "    \n",
    "    f = Lambda(x,eval(str(parse_latex(s[0]))))\n",
    "    g = Lambda(x,eval(str(parse_latex(s[1]))))\n",
    "    \n",
    "    \n",
    "    apartados = [[r'g \\circ f','g(f(x))'],[r'f \\circ g','f(g(x))']]\n",
    "    \n",
    "    for j, t in enumerate(apartados):\n",
    "        enunciado_latex.append(\"$\"+t[0]+\"$\")\n",
    "        enunciado.append(t[1])\n",
    "\n",
    "\n",
    "        sol = r\"$\"+latex(S(t[1]))+\"=\"\n",
    "        sol+=latex(simplify(eval(t[1])))+r\"$\"\n",
    "        solucion.append(sol)\n",
    "        display(md(enunciado_latex[j] +\" $ \\\\rightarrow $\" + solucion[j] ))\n",
    "        \n",
    "\n",
    "        \n",
    "    df_ejercicios = df_ejercicios.append(añadir_ejercicios(enunciado_latex, enunciado, solucion, texto_ejercicio, curso, titulo , n_ejercicio, '5', '1', enun_tex=False, sol_tex=False), ignore_index=True)\n",
    "\n",
    "\n"
   ]
  },
  {
   "cell_type": "code",
   "execution_count": 4,
   "metadata": {
    "scrolled": true
   },
   "outputs": [
    {
     "data": {
      "text/markdown": [
       "**Halla la función inversa de $f(x)$, siendo:**"
      ],
      "text/plain": [
       "<IPython.core.display.Markdown object>"
      ]
     },
     "metadata": {},
     "output_type": "display_data"
    },
    {
     "data": {
      "image/png": "[encoded data removed]",
      "text/plain": [
       "<Figure size 720x720 with 1 Axes>"
      ]
     },
     "metadata": {},
     "output_type": "display_data"
    },
    {
     "data": {
      "text/markdown": [
       "$f(x)=\\frac{3 x - 2}{2}$ $ \\rightarrow $$f^{-1}(x)=\\frac{2 x}{3} + \\frac{2}{3}$ \\\\ $f^{-1} \\circ f(x)=x=x$ \\\\"
      ],
      "text/plain": [
       "<IPython.core.display.Markdown object>"
      ]
     },
     "metadata": {},
     "output_type": "display_data"
    },
    {
     "data": {
      "image/png": "[encoded data removed]",
      "text/plain": [
       "<Figure size 720x720 with 1 Axes>"
      ]
     },
     "metadata": {},
     "output_type": "display_data"
    },
    {
     "data": {
      "text/markdown": [
       "$f(x)=\\frac{x}{- x + 1}$ $ \\rightarrow $$f^{-1}(x)=\\frac{x}{x + 1}$ \\\\ $f^{-1} \\circ f(x)=\\frac{x}{\\left(- x + 1\\right) \\left(\\frac{x}{- x + 1} + 1\\right)}=x$ \\\\"
      ],
      "text/plain": [
       "<IPython.core.display.Markdown object>"
      ]
     },
     "metadata": {},
     "output_type": "display_data"
    }
   ],
   "source": [
    "puntuacion = '1'                          \n",
    "                      \n",
    "datos = [r'(3x-2)/2',r'\\frac{{x}}{{1 - x}}']\n",
    "\n",
    "# vectores iniciales correspondientes al texto del enunciado\n",
    "n_ejercicio = 'ex31e03'\n",
    "enunciado_latex, enunciado, solucion = [],[],[]\n",
    "\n",
    "texto_ejercicio = r\"\"\"Halla la función inversa de $f(x)$, siendo:\"\"\"\n",
    "display(md(\"**\"+texto_ejercicio+\"**\"))\n",
    "\n",
    "for i, s in enumerate(datos) : \n",
    "    \n",
    "    enunciado_latex.append(\"$f(x)=\"+latex(parse_latex(s))+\"$\")\n",
    "    enunciado.append(s)\n",
    "    \n",
    "    inv = solve(S('x')-eval(str(parse_latex(s))).subs([(x,y)]),y)[0]\n",
    "    f = Lambda(x,eval(str(parse_latex(s))))\n",
    "    g = Lambda(x,eval(str(inv)))\n",
    "    \n",
    "    #display(f(x),g(x), f(g(x)), g(f(x)))\n",
    "    sol = r\"$f^{-1}(x)=\"\n",
    "    sol+=latex(inv)+r\"$ \\\\ $f^{-1} \\circ f(x)=\"+ latex(g(f(x)))+ \"=\" + latex(simplify(g(f(x)))) + r\"$ \\\\\"\n",
    "    \n",
    "    plt.rcParams['figure.figsize'] = 10,10\n",
    "    p1 = plot(f(x),g(x),show=True, xlim=(-10,10), ylim=(-10,10))\n",
    "    \n",
    "    \n",
    "       \n",
    "    \n",
    "    solucion.append(sol)\n",
    "    display(md(enunciado_latex[i] +\" $ \\\\rightarrow $\" + solucion[i] ))\n",
    "        \n",
    "    df_ejercicios = df_ejercicios.append(añadir_ejercicios(enunciado_latex, enunciado, solucion, texto_ejercicio, curso, titulo , n_ejercicio, '5', '1', enun_tex=False, sol_tex=False), ignore_index=True)\n",
    "\n",
    "\n"
   ]
  },
  {
   "cell_type": "code",
   "execution_count": 13,
   "metadata": {
    "scrolled": true
   },
   "outputs": [
    {
     "data": {
      "text/markdown": [
       "**Calcula los siguientes límites:**"
      ],
      "text/plain": [
       "<IPython.core.display.Markdown object>"
      ]
     },
     "metadata": {},
     "output_type": "display_data"
    },
    {
     "data": {
      "text/markdown": [
       "$\\lim_{x \\to -1}\\left(x^{2} - 3\\right)$ $ \\rightarrow $$\\lim_{x \\to -1^-}\\left(x^{2} - 3\\right)=-2$ y  \\\\ $\\lim_{x \\to -1^+}\\left(x^{2} - 3\\right)=-2$"
      ],
      "text/plain": [
       "<IPython.core.display.Markdown object>"
      ]
     },
     "metadata": {},
     "output_type": "display_data"
    },
    {
     "data": {
      "text/markdown": [
       "$\\lim_{x \\to 0} \\frac{1}{x^{2} - x}$ $ \\rightarrow $$\\lim_{x \\to 0^-} \\frac{1}{x^{2} - x}=\\infty$ y  \\\\ $\\lim_{x \\to 0^+} \\frac{1}{x^{2} - x}=-\\infty$"
      ],
      "text/plain": [
       "<IPython.core.display.Markdown object>"
      ]
     },
     "metadata": {},
     "output_type": "display_data"
    }
   ],
   "source": [
    "puntuacion = '1'                          \n",
    "                      \n",
    "datos = [[r'x**2-3',-1],[r'1/(x**2-x)',0]]\n",
    "\n",
    "# vectores iniciales correspondientes al texto del enunciado\n",
    "n_ejercicio = 'ex31e04'\n",
    "enunciado_latex, enunciado, solucion = [],[],[]\n",
    "\n",
    "texto_ejercicio = r\"\"\"Calcula los siguientes límites:\"\"\"\n",
    "display(md(\"**\"+texto_ejercicio+\"**\"))\n",
    "\n",
    "for i, s in enumerate(datos) : \n",
    "    \n",
    "    enunciado_latex.append(\"$\"+latex(Limit(S(s[0]),x,s[1],dir='+-'))+\"$\")\n",
    "    enunciado.append(s)\n",
    "       \n",
    "    #display(f(x),g(x), f(g(x)), g(f(x)))\n",
    "    sol = r\"$\"+latex(Limit(S(s[0]),x,s[1],dir='-'))+r\"=\"+latex(limit(eval(s[0]),x,s[1],dir='-'))+r\"$ y  \\\\ \"\n",
    "    sol+= r\"$\"+latex(Limit(S(s[0]),x,s[1],dir='+'))+r\"=\"+latex(limit(eval(s[0]),x,s[1],dir='+'))+r\"$\" \n",
    "      \n",
    "    \n",
    "    solucion.append(sol)\n",
    "    display(md(enunciado_latex[i] +\" $ \\\\rightarrow $\" + solucion[i] ))\n",
    "        \n",
    "    df_ejercicios = df_ejercicios.append(añadir_ejercicios(enunciado_latex, enunciado, solucion, texto_ejercicio, curso, titulo , n_ejercicio, '5', '1', enun_tex=False, sol_tex=False), ignore_index=True)\n",
    "\n",
    "\n"
   ]
  },
  {
   "cell_type": "code",
   "execution_count": 7,
   "metadata": {},
   "outputs": [
    {
     "data": {
      "image/png": "[encoded data removed]",
      "text/latex": [
       "$$\\lim_{x \\to -1}\\left(x^{2} - 3\\right)$$"
      ],
      "text/plain": [
       "     ⎛ 2    ⎞\n",
       " lim ⎝x  - 3⎠\n",
       "x─→-1        "
      ]
     },
     "metadata": {},
     "output_type": "display_data"
    },
    {
     "data": {
      "text/plain": [
       "'Límite por la izquierda / Límite por la derecha / valor de la función en el punto: '"
      ]
     },
     "metadata": {},
     "output_type": "display_data"
    },
    {
     "data": {
      "image/png": "[encoded data removed]",
      "text/latex": [
       "$$\\left [ -2, \\quad -2, \\quad -2\\right ]$$"
      ],
      "text/plain": [
       "[-2, -2, -2]"
      ]
     },
     "metadata": {},
     "output_type": "display_data"
    },
    {
     "data": {
      "text/plain": [
       "{'Límite por la izquierda': -2,\n",
       " 'Límite por la derecha': -2,\n",
       " 'Valor de la función en el punto': -2}"
      ]
     },
     "metadata": {},
     "output_type": "display_data"
    },
    {
     "data": {
      "image/png": "[encoded data removed]",
      "text/plain": [
       "<Figure size 720x720 with 1 Axes>"
      ]
     },
     "metadata": {},
     "output_type": "display_data"
    },
    {
     "data": {
      "image/png": "[encoded data removed]",
      "text/latex": [
       "$$\\lim_{x \\to 0} \\frac{1}{x^{2} - x}$$"
      ],
      "text/plain": [
       "      1   \n",
       "lim ──────\n",
       "x─→0 2    \n",
       "    x  - x"
      ]
     },
     "metadata": {},
     "output_type": "display_data"
    },
    {
     "data": {
      "text/plain": [
       "'Límite por la izquierda / Límite por la derecha / valor de la función en el punto: '"
      ]
     },
     "metadata": {},
     "output_type": "display_data"
    },
    {
     "data": {
      "image/png": "[encoded data removed]",
      "text/latex": [
       "$$\\left [ \\infty, \\quad -\\infty, \\quad \\tilde{\\infty}\\right ]$$"
      ],
      "text/plain": [
       "[∞, -∞, zoo]"
      ]
     },
     "metadata": {},
     "output_type": "display_data"
    },
    {
     "data": {
      "text/plain": [
       "{'Límite por la izquierda': oo,\n",
       " 'Límite por la derecha': -oo,\n",
       " 'Valor de la función en el punto': zoo}"
      ]
     },
     "metadata": {},
     "output_type": "display_data"
    },
    {
     "data": {
      "image/png": "[encoded data removed]",
      "text/plain": [
       "<Figure size 720x720 with 1 Axes>"
      ]
     },
     "metadata": {},
     "output_type": "display_data"
    },
    {
     "data": {
      "text/plain": [
       "[None, None]"
      ]
     },
     "execution_count": 7,
     "metadata": {},
     "output_type": "execute_result"
    }
   ],
   "source": [
    "def lim(expr,x0):\n",
    "    f = Lambda(x,eval(expr))\n",
    "    display(Limit(S(expr),x,x0,dir='+-'))\n",
    "    display(\"Límite por la izquierda / Límite por la derecha / valor de la función en el punto: \")\n",
    "    display([limit(f(x),x,x0, dir='-'),limit(f(x),x,x0), f(x0)])\n",
    "    display({'Límite por la izquierda':limit(f(x),x,x0, dir='-'),'Límite por la derecha':limit(f(x),x,x0),'Valor de la función en el punto': f(x0)})\n",
    "    plot(f(x),show=True, xlim=(-10,10), ylim=(-10,10))\n",
    "    \n",
    "# lim('(x+1)/(x-2)',2), lim('(x**2-5*x+6)/(x**2+3*x-10)',2)\n",
    "\n",
    "datos = [[r'x^2-3',-1],[r'\\frac{1}{x^2-x}',0]]\n",
    "[lim(str(parse_latex(k[0])),k[1]) for k in datos]\n"
   ]
  },
  {
   "cell_type": "code",
   "execution_count": 37,
   "metadata": {
    "scrolled": true
   },
   "outputs": [
    {
     "data": {
      "text/markdown": [
       "**Estudia la continuidad primero, y después representa gráficamente la siguiente función (se valorará el rigor de la respueta):**"
      ],
      "text/plain": [
       "<IPython.core.display.Markdown object>"
      ]
     },
     "metadata": {},
     "output_type": "display_data"
    },
    {
     "data": {
      "image/png": "[encoded data removed]",
      "text/plain": [
       "<Figure size 720x720 with 1 Axes>"
      ]
     },
     "metadata": {},
     "output_type": "display_data"
    },
    {
     "data": {
      "text/markdown": [
       "$\\begin{cases} x^{2} & \\text{for}\\: x < 1 \\\\\\frac{3 x}{2} - \\frac{1}{2} & \\text{otherwise} \\end{cases}$ $ \\rightarrow $Ver gráfica "
      ],
      "text/plain": [
       "<IPython.core.display.Markdown object>"
      ]
     },
     "metadata": {},
     "output_type": "display_data"
    }
   ],
   "source": [
    "puntuacion = '1'                          \n",
    "                      \n",
    "datos = [['Piecewise((x**2, x < 1), (3*x/2 - 1/2, True))']]\n",
    "\n",
    "# vectores iniciales correspondientes al texto del enunciado\n",
    "n_ejercicio = 'ex31e05'\n",
    "enunciado_latex, enunciado, solucion = [],[],[]\n",
    "\n",
    "texto_ejercicio = r\"\"\"Estudia la continuidad primero, y después representa gráficamente la siguiente función (se valorará el rigor de la respueta):\"\"\"\n",
    "display(md(\"**\"+texto_ejercicio+\"**\"))\n",
    "\n",
    "for i, s in enumerate(datos) : \n",
    "    \n",
    "    enunciado_latex.append(\"$\"+latex(S(s[0]))+\"$\")\n",
    "    enunciado.append(s)\n",
    "    \n",
    "    plot(S(s[0]),show=True, xlim=(-10,10), ylim=(-10,10))\n",
    "       \n",
    "    #display(f(x),g(x), f(g(x)), g(f(x)))\n",
    "    sol = r\"Ver gráfica \"\n",
    "     \n",
    "      \n",
    "    \n",
    "    solucion.append(sol)\n",
    "    display(md(enunciado_latex[i] +\" $ \\\\rightarrow $\" + solucion[i] ))\n",
    "        \n",
    "    df_ejercicios = df_ejercicios.append(añadir_ejercicios(enunciado_latex, enunciado, solucion, texto_ejercicio, curso, titulo , n_ejercicio, '5', '1', enun_tex=False, sol_tex=False), ignore_index=True)\n",
    "\n",
    "\n"
   ]
  },
  {
   "cell_type": "code",
   "execution_count": 32,
   "metadata": {},
   "outputs": [
    {
     "data": {
      "image/png": "[encoded data removed]",
      "text/latex": [
       "$$-1$$"
      ],
      "text/plain": [
       "-1"
      ]
     },
     "execution_count": 32,
     "metadata": {},
     "output_type": "execute_result"
    }
   ],
   "source": [
    "from sympy import Piecewise\n",
    "\n",
    "p = str(Piecewise( (x**2, x<-1), ((3*x-1)/2, True)))\n",
    "eval(p)\n",
    "f = S(p)\n",
    "set = f.args[0][1]\n",
    "\n",
    "set.args[1]\n",
    "\n"
   ]
  },
  {
   "cell_type": "code",
   "execution_count": null,
   "metadata": {},
   "outputs": [],
   "source": [
    "df_ejercicios"
   ]
  },
  {
   "cell_type": "code",
   "execution_count": null,
   "metadata": {},
   "outputs": [],
   "source": [
    "df_ejercicios.to_csv('ex31.csv', index = False)"
   ]
  },
  {
   "cell_type": "code",
   "execution_count": null,
   "metadata": {},
   "outputs": [],
   "source": [
    "df_ejercicios = pd.read_csv('ex31.csv', index_col= None)"
   ]
  },
  {
   "cell_type": "code",
   "execution_count": 8,
   "metadata": {},
   "outputs": [
    {
     "data": {
      "text/markdown": [
       "**Ejercicio: **ex31e01-0"
      ],
      "text/plain": [
       "<IPython.core.display.Markdown object>"
      ]
     },
     "metadata": {},
     "output_type": "display_data"
    },
    {
     "data": {
      "text/html": [
       "<div>\n",
       "<style scoped>\n",
       "    .dataframe tbody tr th:only-of-type {\n",
       "        vertical-align: middle;\n",
       "    }\n",
       "\n",
       "    .dataframe tbody tr th {\n",
       "        vertical-align: top;\n",
       "    }\n",
       "\n",
       "    .dataframe thead th {\n",
       "        text-align: right;\n",
       "    }\n",
       "</style>\n",
       "<table border=\"1\" class=\"dataframe\">\n",
       "  <thead>\n",
       "    <tr style=\"text-align: right;\">\n",
       "      <th></th>\n",
       "      <th>enunciado_latex</th>\n",
       "      <th>enunciado</th>\n",
       "      <th>solucion</th>\n",
       "      <th>texto</th>\n",
       "      <th>curso</th>\n",
       "      <th>titulo</th>\n",
       "      <th>n_ejercicio</th>\n",
       "      <th>dificultad</th>\n",
       "      <th>n_columnas</th>\n",
       "      <th>puntos</th>\n",
       "      <th>enun_tex</th>\n",
       "      <th>sol_tex</th>\n",
       "    </tr>\n",
       "  </thead>\n",
       "  <tbody>\n",
       "    <tr>\n",
       "      <th>0</th>\n",
       "      <td>$f(x)=7x-1$</td>\n",
       "      <td>7*x - 1</td>\n",
       "      <td>$Dom\\left(f \\right)=\\mathbb{R}$</td>\n",
       "      <td>Halla el dominio de las siguientes funciones: ...</td>\n",
       "      <td>1BC</td>\n",
       "      <td>Parcial3</td>\n",
       "      <td>ex31e01-0</td>\n",
       "      <td>5</td>\n",
       "      <td>1</td>\n",
       "      <td>1</td>\n",
       "      <td>False</td>\n",
       "      <td>False</td>\n",
       "    </tr>\n",
       "    <tr>\n",
       "      <th>1</th>\n",
       "      <td>$f(x)=x^3-5x^2+2$</td>\n",
       "      <td>x**3 - 5*x**2 + 2</td>\n",
       "      <td>$Dom\\left(f \\right)=\\mathbb{R}$</td>\n",
       "      <td>Halla el dominio de las siguientes funciones: ...</td>\n",
       "      <td>1BC</td>\n",
       "      <td>Parcial3</td>\n",
       "      <td>ex31e01-0</td>\n",
       "      <td>5</td>\n",
       "      <td>1</td>\n",
       "      <td>1</td>\n",
       "      <td>False</td>\n",
       "      <td>False</td>\n",
       "    </tr>\n",
       "    <tr>\n",
       "      <th>2</th>\n",
       "      <td>$f(x)=\\frac{{x - 1}}{{x + 5}}$</td>\n",
       "      <td>(x - 1)/(x + 5)</td>\n",
       "      <td>$Dom\\left(f \\right)=\\left(-\\infty, -5\\right) \\...</td>\n",
       "      <td>Halla el dominio de las siguientes funciones: ...</td>\n",
       "      <td>1BC</td>\n",
       "      <td>Parcial3</td>\n",
       "      <td>ex31e01-0</td>\n",
       "      <td>5</td>\n",
       "      <td>1</td>\n",
       "      <td>1</td>\n",
       "      <td>False</td>\n",
       "      <td>False</td>\n",
       "    </tr>\n",
       "    <tr>\n",
       "      <th>3</th>\n",
       "      <td>$f(x)=\\sqrt[3]{\\frac{x + 1}{x - 2}}$</td>\n",
       "      <td>((x + 1)/(x - 2))**(1/3)</td>\n",
       "      <td>$Dom\\left(f \\right)=\\left(-\\infty, 2\\right) \\c...</td>\n",
       "      <td>Halla el dominio de las siguientes funciones: ...</td>\n",
       "      <td>1BC</td>\n",
       "      <td>Parcial3</td>\n",
       "      <td>ex31e01-0</td>\n",
       "      <td>5</td>\n",
       "      <td>1</td>\n",
       "      <td>1</td>\n",
       "      <td>False</td>\n",
       "      <td>False</td>\n",
       "    </tr>\n",
       "    <tr>\n",
       "      <th>4</th>\n",
       "      <td>$f(x)=\\sqrt {{x^2} - 9}$</td>\n",
       "      <td>sqrt(x**2 - 9)</td>\n",
       "      <td>$Dom\\left(f \\right)=\\left(-\\infty, -3\\right] \\...</td>\n",
       "      <td>Halla el dominio de las siguientes funciones: ...</td>\n",
       "      <td>1BC</td>\n",
       "      <td>Parcial3</td>\n",
       "      <td>ex31e01-0</td>\n",
       "      <td>5</td>\n",
       "      <td>1</td>\n",
       "      <td>1</td>\n",
       "      <td>False</td>\n",
       "      <td>False</td>\n",
       "    </tr>\n",
       "    <tr>\n",
       "      <th>5</th>\n",
       "      <td>$f(x)=\\sqrt {2x+3}$</td>\n",
       "      <td>sqrt(2*x + 3)</td>\n",
       "      <td>$Dom\\left(f \\right)=\\left[- \\frac{3}{2}, \\inft...</td>\n",
       "      <td>Halla el dominio de las siguientes funciones: ...</td>\n",
       "      <td>1BC</td>\n",
       "      <td>Parcial3</td>\n",
       "      <td>ex31e01-0</td>\n",
       "      <td>5</td>\n",
       "      <td>1</td>\n",
       "      <td>1</td>\n",
       "      <td>False</td>\n",
       "      <td>False</td>\n",
       "    </tr>\n",
       "  </tbody>\n",
       "</table>\n",
       "</div>"
      ],
      "text/plain": [
       "                        enunciado_latex                 enunciado  \\\n",
       "0                           $f(x)=7x-1$                   7*x - 1   \n",
       "1                     $f(x)=x^3-5x^2+2$         x**3 - 5*x**2 + 2   \n",
       "2        $f(x)=\\frac{{x - 1}}{{x + 5}}$           (x - 1)/(x + 5)   \n",
       "3  $f(x)=\\sqrt[3]{\\frac{x + 1}{x - 2}}$  ((x + 1)/(x - 2))**(1/3)   \n",
       "4              $f(x)=\\sqrt {{x^2} - 9}$            sqrt(x**2 - 9)   \n",
       "5                   $f(x)=\\sqrt {2x+3}$             sqrt(2*x + 3)   \n",
       "\n",
       "                                            solucion  \\\n",
       "0                    $Dom\\left(f \\right)=\\mathbb{R}$   \n",
       "1                    $Dom\\left(f \\right)=\\mathbb{R}$   \n",
       "2  $Dom\\left(f \\right)=\\left(-\\infty, -5\\right) \\...   \n",
       "3  $Dom\\left(f \\right)=\\left(-\\infty, 2\\right) \\c...   \n",
       "4  $Dom\\left(f \\right)=\\left(-\\infty, -3\\right] \\...   \n",
       "5  $Dom\\left(f \\right)=\\left[- \\frac{3}{2}, \\inft...   \n",
       "\n",
       "                                               texto curso    titulo  \\\n",
       "0  Halla el dominio de las siguientes funciones: ...   1BC  Parcial3   \n",
       "1  Halla el dominio de las siguientes funciones: ...   1BC  Parcial3   \n",
       "2  Halla el dominio de las siguientes funciones: ...   1BC  Parcial3   \n",
       "3  Halla el dominio de las siguientes funciones: ...   1BC  Parcial3   \n",
       "4  Halla el dominio de las siguientes funciones: ...   1BC  Parcial3   \n",
       "5  Halla el dominio de las siguientes funciones: ...   1BC  Parcial3   \n",
       "\n",
       "  n_ejercicio dificultad n_columnas puntos  enun_tex  sol_tex  \n",
       "0   ex31e01-0          5          1      1     False    False  \n",
       "1   ex31e01-0          5          1      1     False    False  \n",
       "2   ex31e01-0          5          1      1     False    False  \n",
       "3   ex31e01-0          5          1      1     False    False  \n",
       "4   ex31e01-0          5          1      1     False    False  \n",
       "5   ex31e01-0          5          1      1     False    False  "
      ]
     },
     "metadata": {},
     "output_type": "display_data"
    },
    {
     "data": {
      "text/markdown": [
       "**Ejercicio: **ex31e02-0"
      ],
      "text/plain": [
       "<IPython.core.display.Markdown object>"
      ]
     },
     "metadata": {},
     "output_type": "display_data"
    },
    {
     "data": {
      "text/html": [
       "<div>\n",
       "<style scoped>\n",
       "    .dataframe tbody tr th:only-of-type {\n",
       "        vertical-align: middle;\n",
       "    }\n",
       "\n",
       "    .dataframe tbody tr th {\n",
       "        vertical-align: top;\n",
       "    }\n",
       "\n",
       "    .dataframe thead th {\n",
       "        text-align: right;\n",
       "    }\n",
       "</style>\n",
       "<table border=\"1\" class=\"dataframe\">\n",
       "  <thead>\n",
       "    <tr style=\"text-align: right;\">\n",
       "      <th></th>\n",
       "      <th>enunciado_latex</th>\n",
       "      <th>enunciado</th>\n",
       "      <th>solucion</th>\n",
       "      <th>texto</th>\n",
       "      <th>curso</th>\n",
       "      <th>titulo</th>\n",
       "      <th>n_ejercicio</th>\n",
       "      <th>dificultad</th>\n",
       "      <th>n_columnas</th>\n",
       "      <th>puntos</th>\n",
       "      <th>enun_tex</th>\n",
       "      <th>sol_tex</th>\n",
       "    </tr>\n",
       "  </thead>\n",
       "  <tbody>\n",
       "    <tr>\n",
       "      <th>6</th>\n",
       "      <td>$g \\circ f$</td>\n",
       "      <td>g(f(x))</td>\n",
       "      <td>$g{\\left (f{\\left (x \\right )} \\right )}=\\frac...</td>\n",
       "      <td>Dadas las funciones $f(x)= (2x-1)/3$ y $g(x)= ...</td>\n",
       "      <td>1BC</td>\n",
       "      <td>Parcial3</td>\n",
       "      <td>ex31e02-0</td>\n",
       "      <td>5</td>\n",
       "      <td>1</td>\n",
       "      <td>1</td>\n",
       "      <td>False</td>\n",
       "      <td>False</td>\n",
       "    </tr>\n",
       "    <tr>\n",
       "      <th>7</th>\n",
       "      <td>$f \\circ g$</td>\n",
       "      <td>f(g(x))</td>\n",
       "      <td>$f{\\left (g{\\left (x \\right )} \\right )}=\\frac...</td>\n",
       "      <td>Dadas las funciones $f(x)= (2x-1)/3$ y $g(x)= ...</td>\n",
       "      <td>1BC</td>\n",
       "      <td>Parcial3</td>\n",
       "      <td>ex31e02-0</td>\n",
       "      <td>5</td>\n",
       "      <td>1</td>\n",
       "      <td>1</td>\n",
       "      <td>False</td>\n",
       "      <td>False</td>\n",
       "    </tr>\n",
       "  </tbody>\n",
       "</table>\n",
       "</div>"
      ],
      "text/plain": [
       "  enunciado_latex enunciado  \\\n",
       "6     $g \\circ f$   g(f(x))   \n",
       "7     $f \\circ g$   f(g(x))   \n",
       "\n",
       "                                            solucion  \\\n",
       "6  $g{\\left (f{\\left (x \\right )} \\right )}=\\frac...   \n",
       "7  $f{\\left (g{\\left (x \\right )} \\right )}=\\frac...   \n",
       "\n",
       "                                               texto curso    titulo  \\\n",
       "6  Dadas las funciones $f(x)= (2x-1)/3$ y $g(x)= ...   1BC  Parcial3   \n",
       "7  Dadas las funciones $f(x)= (2x-1)/3$ y $g(x)= ...   1BC  Parcial3   \n",
       "\n",
       "  n_ejercicio dificultad n_columnas puntos  enun_tex  sol_tex  \n",
       "6   ex31e02-0          5          1      1     False    False  \n",
       "7   ex31e02-0          5          1      1     False    False  "
      ]
     },
     "metadata": {},
     "output_type": "display_data"
    },
    {
     "data": {
      "text/markdown": [
       "**Ejercicio: **ex31e03"
      ],
      "text/plain": [
       "<IPython.core.display.Markdown object>"
      ]
     },
     "metadata": {},
     "output_type": "display_data"
    },
    {
     "data": {
      "text/html": [
       "<div>\n",
       "<style scoped>\n",
       "    .dataframe tbody tr th:only-of-type {\n",
       "        vertical-align: middle;\n",
       "    }\n",
       "\n",
       "    .dataframe tbody tr th {\n",
       "        vertical-align: top;\n",
       "    }\n",
       "\n",
       "    .dataframe thead th {\n",
       "        text-align: right;\n",
       "    }\n",
       "</style>\n",
       "<table border=\"1\" class=\"dataframe\">\n",
       "  <thead>\n",
       "    <tr style=\"text-align: right;\">\n",
       "      <th></th>\n",
       "      <th>enunciado_latex</th>\n",
       "      <th>enunciado</th>\n",
       "      <th>solucion</th>\n",
       "      <th>texto</th>\n",
       "      <th>curso</th>\n",
       "      <th>titulo</th>\n",
       "      <th>n_ejercicio</th>\n",
       "      <th>dificultad</th>\n",
       "      <th>n_columnas</th>\n",
       "      <th>puntos</th>\n",
       "      <th>enun_tex</th>\n",
       "      <th>sol_tex</th>\n",
       "    </tr>\n",
       "  </thead>\n",
       "  <tbody>\n",
       "    <tr>\n",
       "      <th>8</th>\n",
       "      <td>$f(x)=\\frac{3 x - 2}{2}$</td>\n",
       "      <td>(3x-2)/2</td>\n",
       "      <td>$f^{-1}(x)=\\frac{2 x}{3} + \\frac{2}{3}$ \\\\ $f^...</td>\n",
       "      <td>Halla la función inversa de $f(x)$, siendo:</td>\n",
       "      <td>1BC</td>\n",
       "      <td>Parcial3</td>\n",
       "      <td>ex31e03</td>\n",
       "      <td>5</td>\n",
       "      <td>1</td>\n",
       "      <td>1</td>\n",
       "      <td>False</td>\n",
       "      <td>False</td>\n",
       "    </tr>\n",
       "    <tr>\n",
       "      <th>9</th>\n",
       "      <td>$f(x)=\\frac{3 x - 2}{2}$</td>\n",
       "      <td>(3x-2)/2</td>\n",
       "      <td>$f^{-1}(x)=\\frac{2 x}{3} + \\frac{2}{3}$ \\\\ $f^...</td>\n",
       "      <td>Halla la función inversa de $f(x)$, siendo:</td>\n",
       "      <td>1BC</td>\n",
       "      <td>Parcial3</td>\n",
       "      <td>ex31e03</td>\n",
       "      <td>5</td>\n",
       "      <td>1</td>\n",
       "      <td>1</td>\n",
       "      <td>False</td>\n",
       "      <td>False</td>\n",
       "    </tr>\n",
       "    <tr>\n",
       "      <th>10</th>\n",
       "      <td>$f(x)=\\frac{x}{- x + 1}$</td>\n",
       "      <td>\\frac{{x}}{{1 - x}}</td>\n",
       "      <td>$f^{-1}(x)=\\frac{x}{x + 1}$ \\\\ $f^{-1} \\circ f...</td>\n",
       "      <td>Halla la función inversa de $f(x)$, siendo:</td>\n",
       "      <td>1BC</td>\n",
       "      <td>Parcial3</td>\n",
       "      <td>ex31e03</td>\n",
       "      <td>5</td>\n",
       "      <td>1</td>\n",
       "      <td>1</td>\n",
       "      <td>False</td>\n",
       "      <td>False</td>\n",
       "    </tr>\n",
       "  </tbody>\n",
       "</table>\n",
       "</div>"
      ],
      "text/plain": [
       "             enunciado_latex            enunciado  \\\n",
       "8   $f(x)=\\frac{3 x - 2}{2}$             (3x-2)/2   \n",
       "9   $f(x)=\\frac{3 x - 2}{2}$             (3x-2)/2   \n",
       "10  $f(x)=\\frac{x}{- x + 1}$  \\frac{{x}}{{1 - x}}   \n",
       "\n",
       "                                             solucion  \\\n",
       "8   $f^{-1}(x)=\\frac{2 x}{3} + \\frac{2}{3}$ \\\\ $f^...   \n",
       "9   $f^{-1}(x)=\\frac{2 x}{3} + \\frac{2}{3}$ \\\\ $f^...   \n",
       "10  $f^{-1}(x)=\\frac{x}{x + 1}$ \\\\ $f^{-1} \\circ f...   \n",
       "\n",
       "                                          texto curso    titulo n_ejercicio  \\\n",
       "8   Halla la función inversa de $f(x)$, siendo:   1BC  Parcial3     ex31e03   \n",
       "9   Halla la función inversa de $f(x)$, siendo:   1BC  Parcial3     ex31e03   \n",
       "10  Halla la función inversa de $f(x)$, siendo:   1BC  Parcial3     ex31e03   \n",
       "\n",
       "   dificultad n_columnas puntos  enun_tex  sol_tex  \n",
       "8           5          1      1     False    False  \n",
       "9           5          1      1     False    False  \n",
       "10          5          1      1     False    False  "
      ]
     },
     "metadata": {},
     "output_type": "display_data"
    },
    {
     "data": {
      "text/markdown": [
       "**Ejercicio: **ex31e04"
      ],
      "text/plain": [
       "<IPython.core.display.Markdown object>"
      ]
     },
     "metadata": {},
     "output_type": "display_data"
    },
    {
     "data": {
      "text/html": [
       "<div>\n",
       "<style scoped>\n",
       "    .dataframe tbody tr th:only-of-type {\n",
       "        vertical-align: middle;\n",
       "    }\n",
       "\n",
       "    .dataframe tbody tr th {\n",
       "        vertical-align: top;\n",
       "    }\n",
       "\n",
       "    .dataframe thead th {\n",
       "        text-align: right;\n",
       "    }\n",
       "</style>\n",
       "<table border=\"1\" class=\"dataframe\">\n",
       "  <thead>\n",
       "    <tr style=\"text-align: right;\">\n",
       "      <th></th>\n",
       "      <th>enunciado_latex</th>\n",
       "      <th>enunciado</th>\n",
       "      <th>solucion</th>\n",
       "      <th>texto</th>\n",
       "      <th>curso</th>\n",
       "      <th>titulo</th>\n",
       "      <th>n_ejercicio</th>\n",
       "      <th>dificultad</th>\n",
       "      <th>n_columnas</th>\n",
       "      <th>puntos</th>\n",
       "      <th>enun_tex</th>\n",
       "      <th>sol_tex</th>\n",
       "    </tr>\n",
       "  </thead>\n",
       "  <tbody>\n",
       "    <tr>\n",
       "      <th>11</th>\n",
       "      <td>$\\lim_{x \\to -1}\\left(x^{2} - 3\\right)$</td>\n",
       "      <td>[x**2-3, -1]</td>\n",
       "      <td>$\\lim_{x \\to -1^-}\\left(x^{2} - 3\\right)=-2$ y...</td>\n",
       "      <td>Calcula los siguientes límites:</td>\n",
       "      <td>1BC</td>\n",
       "      <td>Parcial3</td>\n",
       "      <td>ex31e04</td>\n",
       "      <td>5</td>\n",
       "      <td>1</td>\n",
       "      <td>1</td>\n",
       "      <td>False</td>\n",
       "      <td>False</td>\n",
       "    </tr>\n",
       "  </tbody>\n",
       "</table>\n",
       "</div>"
      ],
      "text/plain": [
       "                            enunciado_latex     enunciado  \\\n",
       "11  $\\lim_{x \\to -1}\\left(x^{2} - 3\\right)$  [x**2-3, -1]   \n",
       "\n",
       "                                             solucion  \\\n",
       "11  $\\lim_{x \\to -1^-}\\left(x^{2} - 3\\right)=-2$ y...   \n",
       "\n",
       "                              texto curso    titulo n_ejercicio dificultad  \\\n",
       "11  Calcula los siguientes límites:   1BC  Parcial3     ex31e04          5   \n",
       "\n",
       "   n_columnas puntos  enun_tex  sol_tex  \n",
       "11          1      1     False    False  "
      ]
     },
     "metadata": {},
     "output_type": "display_data"
    },
    {
     "ename": "FileNotFoundError",
     "evalue": "[Errno 2] No such file or directory: '/home/hp/mi_git/mat1bac_ccss/notebooks/parc3.pdf' -> '../ejercicios/build/parc3.pdf'",
     "output_type": "error",
     "traceback": [
      "\u001b[0;31m---------------------------------------------------------------------------\u001b[0m",
      "\u001b[0;31mFileNotFoundError\u001b[0m                         Traceback (most recent call last)",
      "\u001b[0;32m<ipython-input-8-30e0b480c3de>\u001b[0m in \u001b[0;36m<module>\u001b[0;34m()\u001b[0m\n\u001b[1;32m      5\u001b[0m     \u001b[0mescribir_ejercicios\u001b[0m\u001b[0;34m(\u001b[0m\u001b[0mdf_ejercicios\u001b[0m\u001b[0;34m[\u001b[0m\u001b[0mdf_ejercicios\u001b[0m\u001b[0;34m.\u001b[0m\u001b[0mn_ejercicio\u001b[0m \u001b[0;34m==\u001b[0m \u001b[0ms\u001b[0m\u001b[0;34m]\u001b[0m\u001b[0;34m,\u001b[0m\u001b[0mfichero\u001b[0m\u001b[0;34m)\u001b[0m\u001b[0;34m\u001b[0m\u001b[0;34m\u001b[0m\u001b[0m\n\u001b[1;32m      6\u001b[0m \u001b[0;34m\u001b[0m\u001b[0m\n\u001b[0;32m----> 7\u001b[0;31m \u001b[0mescribir_fin\u001b[0m\u001b[0;34m(\u001b[0m\u001b[0mfichero\u001b[0m\u001b[0;34m)\u001b[0m\u001b[0;34m\u001b[0m\u001b[0;34m\u001b[0m\u001b[0m\n\u001b[0m",
      "\u001b[0;32m~/mi_git/mat1bac_ccss/notebooks/docparts.py\u001b[0m in \u001b[0;36mescribir_fin\u001b[0;34m(fichero)\u001b[0m\n\u001b[1;32m    456\u001b[0m     \u001b[0mos\u001b[0m\u001b[0;34m.\u001b[0m\u001b[0msystem\u001b[0m\u001b[0;34m(\u001b[0m\u001b[0;34m\"pdflatex %s.tex\"\u001b[0m \u001b[0;34m%\u001b[0m \u001b[0mfichero\u001b[0m\u001b[0;34m)\u001b[0m\u001b[0;34m\u001b[0m\u001b[0;34m\u001b[0m\u001b[0m\n\u001b[1;32m    457\u001b[0m     \u001b[0mos\u001b[0m\u001b[0;34m.\u001b[0m\u001b[0msystem\u001b[0m\u001b[0;34m(\u001b[0m\u001b[0;34m\"pdflatex %s.tex\"\u001b[0m \u001b[0;34m%\u001b[0m \u001b[0mfichero\u001b[0m\u001b[0;34m)\u001b[0m\u001b[0;34m\u001b[0m\u001b[0;34m\u001b[0m\u001b[0m\n\u001b[0;32m--> 458\u001b[0;31m     \u001b[0mos\u001b[0m\u001b[0;34m.\u001b[0m\u001b[0mrename\u001b[0m\u001b[0;34m(\u001b[0m\u001b[0mcwd\u001b[0m\u001b[0;34m+\u001b[0m\u001b[0;34m'/'\u001b[0m\u001b[0;34m+\u001b[0m\u001b[0mfichero\u001b[0m\u001b[0;34m+\u001b[0m\u001b[0;34m'.pdf'\u001b[0m\u001b[0;34m,\u001b[0m\u001b[0;34m'../ejercicios/build/'\u001b[0m\u001b[0;34m+\u001b[0m\u001b[0mfichero\u001b[0m\u001b[0;34m+\u001b[0m\u001b[0;34m'.pdf'\u001b[0m\u001b[0;34m)\u001b[0m\u001b[0;34m\u001b[0m\u001b[0;34m\u001b[0m\u001b[0m\n\u001b[0m\u001b[1;32m    459\u001b[0m     \u001b[0mos\u001b[0m\u001b[0;34m.\u001b[0m\u001b[0mrename\u001b[0m\u001b[0;34m(\u001b[0m\u001b[0mcwd\u001b[0m\u001b[0;34m+\u001b[0m\u001b[0;34m'/'\u001b[0m\u001b[0;34m+\u001b[0m\u001b[0mfichero\u001b[0m\u001b[0;34m+\u001b[0m\u001b[0;34m'.tex'\u001b[0m\u001b[0;34m,\u001b[0m\u001b[0;34m'../ejercicios/'\u001b[0m\u001b[0;34m+\u001b[0m\u001b[0mfichero\u001b[0m\u001b[0;34m+\u001b[0m\u001b[0;34m'.tex'\u001b[0m\u001b[0;34m)\u001b[0m\u001b[0;34m\u001b[0m\u001b[0;34m\u001b[0m\u001b[0m\n\u001b[1;32m    460\u001b[0m     \u001b[0;32mfor\u001b[0m \u001b[0mfic_imagen\u001b[0m \u001b[0;32min\u001b[0m \u001b[0mos\u001b[0m\u001b[0;34m.\u001b[0m\u001b[0mlistdir\u001b[0m\u001b[0;34m(\u001b[0m\u001b[0;34m\".\"\u001b[0m\u001b[0;34m)\u001b[0m\u001b[0;34m:\u001b[0m\u001b[0;34m\u001b[0m\u001b[0;34m\u001b[0m\u001b[0m\n",
      "\u001b[0;31mFileNotFoundError\u001b[0m: [Errno 2] No such file or directory: '/home/hp/mi_git/mat1bac_ccss/notebooks/parc3.pdf' -> '../ejercicios/build/parc3.pdf'"
     ]
    }
   ],
   "source": [
    "escribir_preambulo(fichero, titulo, 'ejercicios')\n",
    "for s in df_ejercicios.groupby('n_ejercicio').count().index : \n",
    "    display(md(\"**Ejercicio: **\" + s ))\n",
    "    display(df_ejercicios[df_ejercicios.n_ejercicio == s])\n",
    "    escribir_ejercicios(df_ejercicios[df_ejercicios.n_ejercicio == s],fichero)\n",
    "\n",
    "escribir_fin(fichero)"
   ]
  }
 ],
 "metadata": {
  "kernelspec": {
   "display_name": "Python 3",
   "language": "python",
   "name": "python3"
  },
  "language_info": {
   "codemirror_mode": {
    "name": "ipython",
    "version": 3
   },
   "file_extension": ".py",
   "mimetype": "text/x-python",
   "name": "python",
   "nbconvert_exporter": "python",
   "pygments_lexer": "ipython3",
   "version": "3.6.8"
  }
 },
 "nbformat": 4,
 "nbformat_minor": 2
}
