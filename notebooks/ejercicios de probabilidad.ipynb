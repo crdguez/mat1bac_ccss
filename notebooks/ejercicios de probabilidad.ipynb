{
 "cells": [
  {
   "cell_type": "code",
   "execution_count": 3,
   "metadata": {},
   "outputs": [],
   "source": [
    "from sympy import *\n",
    "from sympy.stats import Binomial, density, Die, Coin, P, E, variance, Normal, FiniteRV\n",
    "import numpy as np"
   ]
  },
  {
   "cell_type": "code",
   "execution_count": 4,
   "metadata": {},
   "outputs": [],
   "source": [
    "def datos_cualitativa(lista):\n",
    "    # Devuelve un diccionario para crear la probabilidad cuantitativa a partir del índice\n",
    "    nplista = np.array(lista)\n",
    "    total = nplista[:,1].astype(int).sum()\n",
    "    lista_val = list(nplista[:,0])\n",
    "    dic ={i:nplista[i,1].astype(int)/total for i,s in enumerate(nplista)}\n",
    "    \n",
    "    return dic,lista_val    \n"
   ]
  },
  {
   "cell_type": "markdown",
   "metadata": {},
   "source": [
    "De los 39 alumnos de una clase, 16 escogieron francés, como idioma y 27 inglés. 9 eligieron ambos idiomas y\n",
    "el resto no opto por ninguno de ellos. elegido un alumno al azar, calcula las probabilidades de que escogiera:\n",
    "i) Francés\n",
    "ii) Inglés\n",
    "iii) Ambos idiomas\n",
    "iv) Francés o Inglés\n",
    "v) Francés, pero no inglés\n",
    "vi) Inglés, pero no francés"
   ]
  },
  {
   "cell_type": "code",
   "execution_count": 9,
   "metadata": {},
   "outputs": [
    {
     "data": {
      "text/plain": [
       "[16/39, 9/13, 3/13, 34/39, 7/39, 6/13]"
      ]
     },
     "execution_count": 9,
     "metadata": {},
     "output_type": "execute_result"
    }
   ],
   "source": [
    "n_total,n_1, n_2, n_int = [39,16,27,9]\n",
    "dic_1, val_1 = datos_cualitativa([['F',n_1],['NF',n_total-n_1]])\n",
    "dic_2, val_2 = datos_cualitativa([['I',n_2],['NI',n_total-n_2]])\n",
    "\n",
    "frances = FiniteRV('frances',density=dic_1)\n",
    "ingles = FiniteRV('ingles',density=dic_2)\n",
    "\n",
    "[nsimplify(P(Eq(frances,val_1.index('F')))),\n",
    "nsimplify(P(Eq(ingles,val_2.index('I')))),\n",
    "nsimplify(n_int/n_total),\n",
    "nsimplify(P(Eq(frances,val_1.index('F')))+P(Eq(ingles,val_2.index('I')))-n_int/n_total),\n",
    "nsimplify(P(Eq(frances,val_1.index('F')))*(n_1-n_int)/n_1),\n",
    "nsimplify(P(Eq(ingles,val_2.index('I')))*(n_2-n_int)/n_2)]\n",
    "\n"
   ]
  },
  {
   "cell_type": "markdown",
   "metadata": {},
   "source": [
    "Tiramos un dado. Si sale 5 o 6, extraemos una bola de la urna A y si no, la extraemos de la urna B.\n",
    "\n",
    "- Urna A: 3 rojas, 2 verdes y una azul. \n",
    "- Urna B: 1 roja, 3 verdes y 4 azules\n",
    "\n",
    "a) ¿Qué probabilidad hay de obtener un 5 o un 6 y extraer\n",
    "una bola roja?\n",
    "b) ¿Qué probabilidad hay de obtener 4 y bola verde?"
   ]
  },
  {
   "cell_type": "code",
   "execution_count": 33,
   "metadata": {},
   "outputs": [
    {
     "data": {
      "text/plain": [
       "({0: 0.5, 1: 0.333333333333333, 2: 0.166666666666667}, ['Ro', 'Ve', 'Az'])"
      ]
     },
     "execution_count": 33,
     "metadata": {},
     "output_type": "execute_result"
    }
   ],
   "source": [
    "lista = [['Ro',3/6],['Ve',2/6],['Az',1/6]]\n",
    "\n",
    "dic, lista = datos_cualitativa(lista)\n",
    "\n",
    "UrnaA = FiniteRV('UrnaA',density=dic)\n",
    "\n",
    "density(UrnaA).dict, lista\n",
    "\n"
   ]
  },
  {
   "cell_type": "code",
   "execution_count": 35,
   "metadata": {
    "slideshow": {
     "slide_type": "subslide"
    }
   },
   "outputs": [
    {
     "data": {
      "text/plain": [
       "{1: 1/6, 2: 1/6, 3: 1/6, 4: 1/6, 5: 1/6, 6: 1/6}"
      ]
     },
     "execution_count": 35,
     "metadata": {},
     "output_type": "execute_result"
    }
   ],
   "source": [
    "Dice = Die('Dice')\n",
    "density(Dice).dict"
   ]
  },
  {
   "cell_type": "code",
   "execution_count": 36,
   "metadata": {},
   "outputs": [
    {
     "data": {
      "text/plain": [
       "0.166666666666667"
      ]
     },
     "execution_count": 36,
     "metadata": {},
     "output_type": "execute_result"
    }
   ],
   "source": [
    "P(Eq(UrnaA, lista.index('Ro')),Dice>4)*P(Dice>4)"
   ]
  },
  {
   "cell_type": "code",
   "execution_count": null,
   "metadata": {},
   "outputs": [],
   "source": []
  },
  {
   "cell_type": "code",
   "execution_count": 2,
   "metadata": {},
   "outputs": [
    {
     "data": {
      "text/plain": [
       "{Az: 0.166666666666667, Ro: 0.5, Ve: 0.333333333333333}"
      ]
     },
     "execution_count": 2,
     "metadata": {},
     "output_type": "execute_result"
    }
   ],
   "source": [
    "\n",
    "UA = {'Ro':3/6,'Ve':2/6,'Az':1/6}\n",
    "UrnaA = FiniteRV('UrnaA',density=UA)\n",
    "density(UrnaA).dict\n"
   ]
  },
  {
   "cell_type": "code",
   "execution_count": 41,
   "metadata": {},
   "outputs": [
    {
     "ename": "ValueError",
     "evalue": "invalid literal for int() with base 10: '0.125'",
     "output_type": "error",
     "traceback": [
      "\u001b[0;31m---------------------------------------------------------------------------\u001b[0m",
      "\u001b[0;31mValueError\u001b[0m                                Traceback (most recent call last)",
      "\u001b[0;32m<ipython-input-41-205269efc066>\u001b[0m in \u001b[0;36m<module>\u001b[0;34m()\u001b[0m\n\u001b[1;32m      5\u001b[0m \u001b[0mlist\u001b[0m\u001b[0;34m(\u001b[0m\u001b[0mUB\u001b[0m\u001b[0;34m.\u001b[0m\u001b[0mitems\u001b[0m\u001b[0;34m(\u001b[0m\u001b[0;34m)\u001b[0m\u001b[0;34m)\u001b[0m\u001b[0;34m\u001b[0m\u001b[0m\n\u001b[1;32m      6\u001b[0m \u001b[0;34m\u001b[0m\u001b[0m\n\u001b[0;32m----> 7\u001b[0;31m \u001b[0mdatos_cualitativa\u001b[0m\u001b[0;34m(\u001b[0m\u001b[0mlist\u001b[0m\u001b[0;34m(\u001b[0m\u001b[0mUB\u001b[0m\u001b[0;34m.\u001b[0m\u001b[0mitems\u001b[0m\u001b[0;34m(\u001b[0m\u001b[0;34m)\u001b[0m\u001b[0;34m)\u001b[0m\u001b[0;34m)\u001b[0m\u001b[0;34m\u001b[0m\u001b[0m\n\u001b[0m",
      "\u001b[0;32m<ipython-input-28-5b07c5da625b>\u001b[0m in \u001b[0;36mdatos_cualitativa\u001b[0;34m(lista)\u001b[0m\n\u001b[1;32m      2\u001b[0m     \u001b[0;31m# Devuelve un diccionario para crear la probabilidad cuantitativa a partir del índice\u001b[0m\u001b[0;34m\u001b[0m\u001b[0;34m\u001b[0m\u001b[0m\n\u001b[1;32m      3\u001b[0m     \u001b[0mnplista\u001b[0m \u001b[0;34m=\u001b[0m \u001b[0mnp\u001b[0m\u001b[0;34m.\u001b[0m\u001b[0marray\u001b[0m\u001b[0;34m(\u001b[0m\u001b[0mlista\u001b[0m\u001b[0;34m)\u001b[0m\u001b[0;34m\u001b[0m\u001b[0m\n\u001b[0;32m----> 4\u001b[0;31m     \u001b[0mtotal\u001b[0m \u001b[0;34m=\u001b[0m \u001b[0mnplista\u001b[0m\u001b[0;34m[\u001b[0m\u001b[0;34m:\u001b[0m\u001b[0;34m,\u001b[0m\u001b[0;36m1\u001b[0m\u001b[0;34m]\u001b[0m\u001b[0;34m.\u001b[0m\u001b[0mastype\u001b[0m\u001b[0;34m(\u001b[0m\u001b[0mint\u001b[0m\u001b[0;34m)\u001b[0m\u001b[0;34m.\u001b[0m\u001b[0msum\u001b[0m\u001b[0;34m(\u001b[0m\u001b[0;34m)\u001b[0m\u001b[0;34m\u001b[0m\u001b[0m\n\u001b[0m\u001b[1;32m      5\u001b[0m     \u001b[0mlista_val\u001b[0m \u001b[0;34m=\u001b[0m \u001b[0mlist\u001b[0m\u001b[0;34m(\u001b[0m\u001b[0mnplista\u001b[0m\u001b[0;34m[\u001b[0m\u001b[0;34m:\u001b[0m\u001b[0;34m,\u001b[0m\u001b[0;36m0\u001b[0m\u001b[0;34m]\u001b[0m\u001b[0;34m)\u001b[0m\u001b[0;34m\u001b[0m\u001b[0m\n\u001b[1;32m      6\u001b[0m     \u001b[0mdic\u001b[0m \u001b[0;34m=\u001b[0m\u001b[0;34m{\u001b[0m\u001b[0mi\u001b[0m\u001b[0;34m:\u001b[0m\u001b[0mnplista\u001b[0m\u001b[0;34m[\u001b[0m\u001b[0mi\u001b[0m\u001b[0;34m,\u001b[0m\u001b[0;36m1\u001b[0m\u001b[0;34m]\u001b[0m\u001b[0;34m.\u001b[0m\u001b[0mastype\u001b[0m\u001b[0;34m(\u001b[0m\u001b[0mint\u001b[0m\u001b[0;34m)\u001b[0m\u001b[0;34m/\u001b[0m\u001b[0mtotal\u001b[0m \u001b[0;32mfor\u001b[0m \u001b[0mi\u001b[0m\u001b[0;34m,\u001b[0m\u001b[0ms\u001b[0m \u001b[0;32min\u001b[0m \u001b[0menumerate\u001b[0m\u001b[0;34m(\u001b[0m\u001b[0mnplista\u001b[0m\u001b[0;34m)\u001b[0m\u001b[0;34m}\u001b[0m\u001b[0;34m\u001b[0m\u001b[0m\n",
      "\u001b[0;31mValueError\u001b[0m: invalid literal for int() with base 10: '0.125'"
     ]
    }
   ],
   "source": [
    "UB = {'Ro':1/8,'Ve':3/8,'Az':4/6}\n",
    "UrnaB = FiniteRV('UrnaB',density=UB)\n",
    "density(UrnaA).dict\n",
    "\n",
    "list(UB.items())\n",
    "\n",
    "datos_cualitativa(list(UB.items()))"
   ]
  },
  {
   "cell_type": "code",
   "execution_count": 42,
   "metadata": {},
   "outputs": [
    {
     "data": {
      "text/plain": [
       "({0: 0.125, 1: 0.375, 2: 0.5}, ['Ro', 'Ve', 'Az'])"
      ]
     },
     "execution_count": 42,
     "metadata": {},
     "output_type": "execute_result"
    }
   ],
   "source": [
    "UB = {'Ro':1,'Ve':3,'Az':4}\n",
    "UrnaB = FiniteRV('UrnaB',density=UB)\n",
    "density(UrnaA).dict\n",
    "\n",
    "list(UB.items())\n",
    "\n",
    "datos_cualitativa(list(UB.items()))"
   ]
  },
  {
   "cell_type": "code",
   "execution_count": 46,
   "metadata": {},
   "outputs": [
    {
     "data": {
      "text/plain": [
       "0.166666666666667"
      ]
     },
     "execution_count": 46,
     "metadata": {},
     "output_type": "execute_result"
    }
   ],
   "source": [
    "P(Dice >= 5)*UA['Ro']"
   ]
  },
  {
   "cell_type": "code",
   "execution_count": 49,
   "metadata": {},
   "outputs": [
    {
     "data": {
      "text/plain": [
       "0.0625000000000000"
      ]
     },
     "execution_count": 49,
     "metadata": {},
     "output_type": "execute_result"
    }
   ],
   "source": [
    "P(Eq(Dice,4))*UB['Ve']"
   ]
  },
  {
   "cell_type": "markdown",
   "metadata": {},
   "source": [
    "Eva es saltadora de longitud, y en el 80 % de sus saltos consi-\n",
    "gue superar los 6 m. Sabiendo que en una competición tiene\n",
    "que saltar cuatro veces, halla la probabilidad de que:\n",
    "a) En todas supere los 6 m.\n",
    "b) No los supere en ninguna.\n",
    "c) Al menos lo haga en dos ocasiones.\n",
    "d) Si su primer salto fue nulo, supere los 6 m en, al menos,\n",
    "una ocasión."
   ]
  },
  {
   "cell_type": "code",
   "execution_count": 6,
   "metadata": {},
   "outputs": [
    {
     "data": {
      "text/plain": [
       "0.409600000000000"
      ]
     },
     "execution_count": 6,
     "metadata": {},
     "output_type": "execute_result"
    }
   ],
   "source": [
    "Saltar = Binomial('Saltar',4,0.8)\n",
    "P(Eq(Saltar,4))"
   ]
  },
  {
   "cell_type": "code",
   "execution_count": 18,
   "metadata": {},
   "outputs": [
    {
     "data": {
      "text/plain": [
       "Eq(Saltar, 4)"
      ]
     },
     "execution_count": 18,
     "metadata": {},
     "output_type": "execute_result"
    }
   ],
   "source": [
    "Eq(Saltar,4)"
   ]
  },
  {
   "cell_type": "code",
   "execution_count": 53,
   "metadata": {},
   "outputs": [
    {
     "data": {
      "text/plain": [
       "0.00160000000000000"
      ]
     },
     "execution_count": 53,
     "metadata": {},
     "output_type": "execute_result"
    }
   ],
   "source": [
    "P(Eq(Saltar,0))"
   ]
  },
  {
   "cell_type": "code",
   "execution_count": 54,
   "metadata": {},
   "outputs": [
    {
     "data": {
      "text/plain": [
       "0.972800000000000"
      ]
     },
     "execution_count": 54,
     "metadata": {},
     "output_type": "execute_result"
    }
   ],
   "source": [
    "P(Saltar >= 2)"
   ]
  },
  {
   "cell_type": "code",
   "execution_count": 55,
   "metadata": {},
   "outputs": [
    {
     "data": {
      "text/plain": [
       "0.998400000000000"
      ]
     },
     "execution_count": 55,
     "metadata": {},
     "output_type": "execute_result"
    }
   ],
   "source": [
    "Saltar2 = Binomial('Saltar2',3,0.8)\n",
    "P(Saltar>0)"
   ]
  },
  {
   "cell_type": "markdown",
   "metadata": {},
   "source": [
    "En un puesto de una feria, por un tique te dejan tirar 6 veces\n",
    "a una canasta. Si cuelas al menos dos tiros, te llevas premio.\n",
    "Se supone que cada persona tiene una probabilidad de 0,15\n",
    "de hacer canasta en cada tiro.\n",
    "a) ¿Qué probabilidad hay de que una persona gane un pre-\n",
    "mio con un tique?\n",
    "b) Si juegan 1 000 personas a lo largo de la semana, ¿cuántos,\n",
    "aproximadamente, se llevarán el premio?"
   ]
  },
  {
   "cell_type": "code",
   "execution_count": 56,
   "metadata": {},
   "outputs": [
    {
     "data": {
      "text/plain": [
       "0.223515703125000"
      ]
     },
     "execution_count": 56,
     "metadata": {},
     "output_type": "execute_result"
    }
   ],
   "source": [
    "Ticket = Binomial('Ticket',6,0.15)\n",
    "P(Ticket>=2)"
   ]
  },
  {
   "cell_type": "code",
   "execution_count": 59,
   "metadata": {},
   "outputs": [
    {
     "data": {
      "text/plain": [
       "223.515703125006"
      ]
     },
     "execution_count": 59,
     "metadata": {},
     "output_type": "execute_result"
    }
   ],
   "source": [
    "Personas = Binomial('Personas',1000,P(Ticket>=2))\n",
    "E(Personas)\n"
   ]
  },
  {
   "cell_type": "code",
   "execution_count": 23,
   "metadata": {},
   "outputs": [
    {
     "ename": "NameError",
     "evalue": "name 'x' is not defined",
     "output_type": "error",
     "traceback": [
      "\u001b[0;31m---------------------------------------------------------------------------\u001b[0m",
      "\u001b[0;31mNameError\u001b[0m                                 Traceback (most recent call last)",
      "\u001b[0;32m<ipython-input-23-aaf9fcdfbab8>\u001b[0m in \u001b[0;36m<module>\u001b[0;34m()\u001b[0m\n\u001b[0;32m----> 1\u001b[0;31m Eq(2,x\n\u001b[0m\u001b[1;32m      2\u001b[0m   )\n",
      "\u001b[0;31mNameError\u001b[0m: name 'x' is not defined"
     ]
    }
   ],
   "source": []
  }
 ],
 "metadata": {
  "kernelspec": {
   "display_name": "Python 3",
   "language": "python",
   "name": "python3"
  },
  "language_info": {
   "codemirror_mode": {
    "name": "ipython",
    "version": 3
   },
   "file_extension": ".py",
   "mimetype": "text/x-python",
   "name": "python",
   "nbconvert_exporter": "python",
   "pygments_lexer": "ipython3",
   "version": "3.6.5"
  }
 },
 "nbformat": 4,
 "nbformat_minor": 2
}
