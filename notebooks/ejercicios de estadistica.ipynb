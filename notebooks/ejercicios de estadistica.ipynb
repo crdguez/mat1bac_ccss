{
 "cells": [
  {
   "cell_type": "code",
   "execution_count": 1,
   "metadata": {},
   "outputs": [
    {
     "name": "stdout",
     "output_type": "stream",
     "text": [
      "IPython console for SymPy 1.2 (Python 3.6.8-64-bit) (ground types: gmpy)\n",
      "\n",
      "These commands were executed:\n",
      ">>> from __future__ import division\n",
      ">>> from sympy import *\n",
      ">>> x, y, z, t = symbols('x y z t')\n",
      ">>> k, m, n = symbols('k m n', integer=True)\n",
      ">>> f, g, h = symbols('f g h', cls=Function)\n",
      ">>> init_printing()\n",
      "\n",
      "Documentation can be found at http://docs.sympy.org/1.2/\n",
      "\n"
     ]
    }
   ],
   "source": [
    "import numpy as np\n",
    "import pandas as pd\n",
    "from scipy import stats\n",
    "from sympy import *\n",
    "from tabulate import tabulate\n",
    "from IPython.display import Markdown as md\n",
    "from IPython.display import display\n",
    "import seaborn as sns\n",
    "\n",
    "\n",
    "\n",
    "init_session()\n",
    "x,y = symbols('x, y', real=True)"
   ]
  },
  {
   "cell_type": "markdown",
   "metadata": {},
   "source": [
    "## Ejercicio 1"
   ]
  },
  {
   "cell_type": "markdown",
   "metadata": {},
   "source": [
    "Una asociación de consumidores ha realizado una prueba sobre la duración de unas bombillas de una conocida marca. Ha mantenido encendidas ininterrumpidamente 100 bombillas hasta que se han estropeado. Sus resultados han sido:"
   ]
  },
  {
   "cell_type": "code",
   "execution_count": 2,
   "metadata": {},
   "outputs": [
    {
     "data": {
      "text/markdown": [
       "\\begin{tabular}{rlr}\n",
       "\\hline\n",
       "    & Duración              &   Cantidad \\\\\n",
       "\\hline\n",
       "  0 & $\\left[36, 42\\right)$ &         12 \\\\\n",
       "  1 & $\\left[42, 48\\right)$ &         28 \\\\\n",
       "  2 & $\\left[48, 54\\right)$ &         45 \\\\\n",
       "  3 & $\\left[54, 60\\right)$ &         15 \\\\\n",
       "\\hline\n",
       "\\end{tabular}"
      ],
      "text/plain": [
       "<IPython.core.display.Markdown object>"
      ]
     },
     "execution_count": 2,
     "metadata": {},
     "output_type": "execute_result"
    }
   ],
   "source": [
    "# límite inferior, superior y frecuencia\n",
    "#datos = np.array([[36,42,12],[42,48,28],[48,54,44],[54,60,11],[60,66,5]])\n",
    "datos = np.array([[36,42,12],[42,48,28],[48,54,45],[54,60,15]])\n",
    "tabla_enunciado = pd.DataFrame(list(zip([r\"$\"+latex(Interval.Ropen(k[0],k[1]))+\"$\" for k in datos[:,0:2]],datos[:,2])), columns=['Duración','Cantidad'])\n",
    "tabla_enunciado_latex = tabulate(tabla_enunciado, headers=\"keys\", tablefmt=\"latex\").replace('\\\\$','$').replace('textbackslash{}','')\n",
    "md(tabla_enunciado_latex)\n"
   ]
  },
  {
   "cell_type": "code",
   "execution_count": 3,
   "metadata": {},
   "outputs": [
    {
     "data": {
      "text/plain": [
       "array([[36., 42., 39., 12.],\n",
       "       [42., 48., 45., 28.],\n",
       "       [48., 54., 51., 45.],\n",
       "       [54., 60., 57., 15.]])"
      ]
     },
     "execution_count": 3,
     "metadata": {},
     "output_type": "execute_result"
    }
   ],
   "source": [
    "marca = (datos[:,1]+datos[:,0])/2\n",
    "marca = marca.reshape(-1,1)\n",
    "datos = np.concatenate((datos, marca), axis=1)[:,[0,1,3,2]]\n",
    "datos"
   ]
  },
  {
   "cell_type": "code",
   "execution_count": 4,
   "metadata": {},
   "outputs": [
    {
     "data": {
      "text/html": [
       "<div>\n",
       "<style scoped>\n",
       "    .dataframe tbody tr th:only-of-type {\n",
       "        vertical-align: middle;\n",
       "    }\n",
       "\n",
       "    .dataframe tbody tr th {\n",
       "        vertical-align: top;\n",
       "    }\n",
       "\n",
       "    .dataframe thead th {\n",
       "        text-align: right;\n",
       "    }\n",
       "</style>\n",
       "<table border=\"1\" class=\"dataframe\">\n",
       "  <thead>\n",
       "    <tr style=\"text-align: right;\">\n",
       "      <th></th>\n",
       "      <th>lim_inf</th>\n",
       "      <th>lim_sup</th>\n",
       "      <th>x_i</th>\n",
       "      <th>f_i</th>\n",
       "      <th>F_i</th>\n",
       "      <th>h_i</th>\n",
       "      <th>H_i</th>\n",
       "      <th>x_if_i</th>\n",
       "      <th>x^2_if_i</th>\n",
       "    </tr>\n",
       "  </thead>\n",
       "  <tbody>\n",
       "    <tr>\n",
       "      <th>0</th>\n",
       "      <td>36.0</td>\n",
       "      <td>42.0</td>\n",
       "      <td>39.0</td>\n",
       "      <td>12.0</td>\n",
       "      <td>12.0</td>\n",
       "      <td>0.12</td>\n",
       "      <td>0.12</td>\n",
       "      <td>468.0</td>\n",
       "      <td>18252.0</td>\n",
       "    </tr>\n",
       "    <tr>\n",
       "      <th>1</th>\n",
       "      <td>42.0</td>\n",
       "      <td>48.0</td>\n",
       "      <td>45.0</td>\n",
       "      <td>28.0</td>\n",
       "      <td>40.0</td>\n",
       "      <td>0.28</td>\n",
       "      <td>0.40</td>\n",
       "      <td>1260.0</td>\n",
       "      <td>56700.0</td>\n",
       "    </tr>\n",
       "    <tr>\n",
       "      <th>2</th>\n",
       "      <td>48.0</td>\n",
       "      <td>54.0</td>\n",
       "      <td>51.0</td>\n",
       "      <td>45.0</td>\n",
       "      <td>85.0</td>\n",
       "      <td>0.45</td>\n",
       "      <td>0.85</td>\n",
       "      <td>2295.0</td>\n",
       "      <td>117045.0</td>\n",
       "    </tr>\n",
       "    <tr>\n",
       "      <th>3</th>\n",
       "      <td>54.0</td>\n",
       "      <td>60.0</td>\n",
       "      <td>57.0</td>\n",
       "      <td>15.0</td>\n",
       "      <td>100.0</td>\n",
       "      <td>0.15</td>\n",
       "      <td>1.00</td>\n",
       "      <td>855.0</td>\n",
       "      <td>48735.0</td>\n",
       "    </tr>\n",
       "    <tr>\n",
       "      <th>4</th>\n",
       "      <td>NaN</td>\n",
       "      <td>NaN</td>\n",
       "      <td>NaN</td>\n",
       "      <td>100.0</td>\n",
       "      <td>NaN</td>\n",
       "      <td>1.00</td>\n",
       "      <td>NaN</td>\n",
       "      <td>4878.0</td>\n",
       "      <td>240732.0</td>\n",
       "    </tr>\n",
       "  </tbody>\n",
       "</table>\n",
       "</div>"
      ],
      "text/plain": [
       "   lim_inf  lim_sup   x_i    f_i    F_i   h_i   H_i  x_if_i  x^2_if_i\n",
       "0     36.0     42.0  39.0   12.0   12.0  0.12  0.12   468.0   18252.0\n",
       "1     42.0     48.0  45.0   28.0   40.0  0.28  0.40  1260.0   56700.0\n",
       "2     48.0     54.0  51.0   45.0   85.0  0.45  0.85  2295.0  117045.0\n",
       "3     54.0     60.0  57.0   15.0  100.0  0.15  1.00   855.0   48735.0\n",
       "4      NaN      NaN   NaN  100.0    NaN  1.00   NaN  4878.0  240732.0"
      ]
     },
     "execution_count": 4,
     "metadata": {},
     "output_type": "execute_result"
    }
   ],
   "source": [
    "tabla = pd.DataFrame({r'lim_inf': datos[:,0],'lim_sup': datos[:,1],\n",
    "                      'x_i': datos[:,2],'f_i':datos[:,3],'F_i':datos[:,3].cumsum(),\n",
    "                     'h_i': datos[:,3]/datos[:,3].sum(), 'H_i':(datos[:,3]/datos[:,3].sum()).cumsum(),\n",
    "                     'x_if_i': datos[:,2]*datos[:,3], 'x^2_if_i': datos[:,2]**2*datos[:,3]})\n",
    "tabla\n",
    "\n",
    "#totales = np.array([np.nan,np.nan,np.nan,tabla.f_i.sum(),tabla.F_i.sum()])\n",
    "totales = pd.DataFrame([[np.nan,np.nan,np.nan,tabla.f_i.sum(),\n",
    "                         np.nan, tabla.h_i.sum(), np.nan,\n",
    "                        tabla.x_if_i.sum(),tabla['x^2_if_i'].sum()]],columns=list(tabla.columns))\n",
    "totales\n",
    "\n",
    "tabla.append(totales,ignore_index=True)"
   ]
  },
  {
   "cell_type": "code",
   "execution_count": 5,
   "metadata": {},
   "outputs": [
    {
     "data": {
      "text/markdown": [
       "\\begin{tabular}{rrrrrrrrrr}\n",
       "\\hline\n",
       "    &   lim\\_inf &   lim\\_sup &   x\\_i &   f\\_i &   F\\_i &   h\\_i &    H\\_i &   x\\_if\\_i &   x\\^{}2\\_if\\_i \\\\\n",
       "\\hline\n",
       "  0 &        36 &        42 &    39 &    12 &    12 &  0.12 &   0.12 &      468 &      18252 \\\\\n",
       "  1 &        42 &        48 &    45 &    28 &    40 &  0.28 &   0.4  &     1260 &      56700 \\\\\n",
       "  2 &        48 &        54 &    51 &    45 &    85 &  0.45 &   0.85 &     2295 &     117045 \\\\\n",
       "  3 &        54 &        60 &    57 &    15 &   100 &  0.15 &   1    &      855 &      48735 \\\\\n",
       "  4 &       nan &       nan &   nan &   100 &   nan &  1    & nan    &     4878 &     240732 \\\\\n",
       "\\hline\n",
       "\\end{tabular}"
      ],
      "text/plain": [
       "<IPython.core.display.Markdown object>"
      ]
     },
     "execution_count": 5,
     "metadata": {},
     "output_type": "execute_result"
    }
   ],
   "source": [
    "md(tabulate(tabla.append(totales,ignore_index=True), headers=\"keys\", tablefmt=\"latex\"))"
   ]
  },
  {
   "cell_type": "markdown",
   "metadata": {},
   "source": [
    "Determina la media, la varianza y la desviación típica:"
   ]
  },
  {
   "cell_type": "code",
   "execution_count": 6,
   "metadata": {},
   "outputs": [
    {
     "data": {
      "text/plain": [
       "{'media': 48.78,\n",
       " 'varianza': 27.83159999999998,\n",
       " 'desviación típica': 5.27556632031102}"
      ]
     },
     "execution_count": 6,
     "metadata": {},
     "output_type": "execute_result"
    }
   ],
   "source": [
    "media = (totales['x_if_i']/totales['f_i'])[0]\n",
    "media\n",
    "\n",
    "var = (totales['x^2_if_i']/totales['f_i']-media**2)[0]\n",
    "\n",
    "desv_tip = sqrt(var)\n",
    "\n",
    "{'media':media, 'varianza': var, 'desviación típica': desv_tip}"
   ]
  },
  {
   "cell_type": "markdown",
   "metadata": {},
   "source": [
    "Calcula la Mediana"
   ]
  },
  {
   "cell_type": "code",
   "execution_count": 7,
   "metadata": {},
   "outputs": [
    {
     "data": {
      "text/plain": [
       "lim_inf         48.00\n",
       "lim_sup         54.00\n",
       "x_i             51.00\n",
       "f_i             45.00\n",
       "F_i             85.00\n",
       "h_i              0.45\n",
       "H_i              0.85\n",
       "x_if_i        2295.00\n",
       "x^2_if_i    117045.00\n",
       "Name: 2, dtype: float64"
      ]
     },
     "execution_count": 7,
     "metadata": {},
     "output_type": "execute_result"
    }
   ],
   "source": [
    "# Índice donde está el percentil\n",
    "\n",
    "perc = 50\n",
    "\n",
    "ind = tabla.loc[tabla.H_i<=perc/100].iloc[-1:].index[0] + 1\n",
    "\n",
    "tabla.iloc[ind]"
   ]
  },
  {
   "cell_type": "code",
   "execution_count": 8,
   "metadata": {},
   "outputs": [
    {
     "name": "stdout",
     "output_type": "stream",
     "text": [
      "{'k': 50, 'N': 100.0, 'L_i': 48.0, 'f_i': 45.0, 'F_{i-1}': 40.0, 'C_i': 6.0}\n"
     ]
    },
    {
     "data": {
      "image/png": "[encoded data removed]",
      "text/latex": [
       "$$49.333333333333336$$"
      ],
      "text/plain": [
       "49.333333333333336"
      ]
     },
     "execution_count": 8,
     "metadata": {},
     "output_type": "execute_result"
    }
   ],
   "source": [
    "k = perc\n",
    "N = totales.f_i[0]\n",
    "L = tabla.iloc[ind].lim_inf\n",
    "f = tabla.iloc[ind].f_i\n",
    "if ind == 0 :\n",
    "    F = 0\n",
    "else:\n",
    "    F = tabla.iloc[ind-1].F_i\n",
    "C = tabla.iloc[ind].lim_sup - tabla.iloc[ind].lim_inf\n",
    "\n",
    "print({'k':k, 'N': N, 'L_i': L, 'f_i': f, 'F_{i-1}':F, 'C_i':C})\n",
    "\n",
    "percentil = L + C*(k*(N/100)-F)/f\n",
    "\n",
    "percentil\n"
   ]
  },
  {
   "cell_type": "markdown",
   "metadata": {},
   "source": [
    "En el anuncio de televisión el fabricante asegura que sus bombillas duran más de 1000 horas. ¿Qué porcentaje de las bombillas no cumple lo enunciado?"
   ]
  },
  {
   "cell_type": "code",
   "execution_count": 9,
   "metadata": {},
   "outputs": [
    {
     "name": "stdout",
     "output_type": "stream",
     "text": [
      "50.0\n",
      "{'valor': 50.0, 'N': 100.0, 'L_i': 48.0, 'f_i': 45.0, 'F_{i-1}': 40.0, 'C_i': 6.0}\n"
     ]
    },
    {
     "data": {
      "image/png": "[encoded data removed]",
      "text/latex": [
       "$$45.0$$"
      ],
      "text/plain": [
       "45.0000000000000"
      ]
     },
     "execution_count": 9,
     "metadata": {},
     "output_type": "execute_result"
    }
   ],
   "source": [
    "valor = 1200/24\n",
    "print(valor)\n",
    "ind = tabla.loc[tabla.lim_inf<=valor].iloc[-1:].index[0]\n",
    "\n",
    "if ind == 0 :\n",
    "    F = 0\n",
    "else:\n",
    "    F = tabla.iloc[ind-1].F_i\n",
    "\n",
    "N = totales.f_i[0]\n",
    "L = tabla.iloc[ind].lim_inf\n",
    "f = tabla.iloc[ind].f_i\n",
    "C = tabla.iloc[ind].lim_sup - tabla.iloc[ind].lim_inf\n",
    "\n",
    "print({'valor':valor, 'N': N, 'L_i': L, 'f_i': f, 'F_{i-1}':F, 'C_i':C})\n",
    "\n",
    "100-solve(Eq(valor,L+C*(x*N/100-F)/f))[0]"
   ]
  },
  {
   "cell_type": "code",
   "execution_count": 2,
   "metadata": {},
   "outputs": [
    {
     "name": "stdout",
     "output_type": "stream",
     "text": [
      "IPython console for SymPy 1.2 (Python 3.6.8-64-bit) (ground types: gmpy)\n",
      "\n",
      "These commands were executed:\n",
      ">>> from __future__ import division\n",
      ">>> from sympy import *\n",
      ">>> x, y, z, t = symbols('x y z t')\n",
      ">>> k, m, n = symbols('k m n', integer=True)\n",
      ">>> f, g, h = symbols('f g h', cls=Function)\n",
      ">>> init_printing()\n",
      "\n",
      "Documentation can be found at http://docs.sympy.org/1.2/\n",
      "\n"
     ]
    }
   ],
   "source": [
    "import numpy as np\n",
    "import pandas as pd\n",
    "from scipy import stats\n",
    "from sympy import *\n",
    "from tabulate import tabulate\n",
    "from IPython.display import Markdown as md\n",
    "from IPython.display import display\n",
    "import seaborn as sns\n",
    "\n",
    "\n",
    "\n",
    "init_session()\n",
    "x,y = symbols('x, y', real=True)"
   ]
  },
  {
   "cell_type": "markdown",
   "metadata": {},
   "source": [
    "## Ejercicio 1_b"
   ]
  },
  {
   "cell_type": "markdown",
   "metadata": {},
   "source": [
    "Un fabricante de neumáticos de F1 ha realizado una prueba sobre la duración de sus juegos de ruedas. Ha mantenido en un circuito a 40 pilotos circulando ininterrumpidamente hasta que los neumáticos se han desgastado. Sus resultados han sido:\n"
   ]
  },
  {
   "cell_type": "code",
   "execution_count": 14,
   "metadata": {},
   "outputs": [
    {
     "data": {
      "text/markdown": [
       "\\begin{tabular}{rlr}\n",
       "\\hline\n",
       "    & Duración                &   Cantidad \\\\\n",
       "\\hline\n",
       "  0 & $\\left[120, 150\\right)$ &         12 \\\\\n",
       "  1 & $\\left[150, 180\\right)$ &         18 \\\\\n",
       "  2 & $\\left[180, 210\\right)$ &          8 \\\\\n",
       "  3 & $\\left[210, 240\\right)$ &          2 \\\\\n",
       "\\hline\n",
       "\\end{tabular}"
      ],
      "text/plain": [
       "<IPython.core.display.Markdown object>"
      ]
     },
     "execution_count": 14,
     "metadata": {},
     "output_type": "execute_result"
    }
   ],
   "source": [
    "# límite inferior, superior y frecuencia\n",
    "#datos = np.array([[36,42,12],[42,48,28],[48,54,44],[54,60,11],[60,66,5]])\n",
    "datos = np.array([[120,150,12],[150,180,18],[180,210,8],[210,240,2]])\n",
    "tabla_enunciado = pd.DataFrame(list(zip([r\"$\"+latex(Interval.Ropen(k[0],k[1]))+\"$\" for k in datos[:,0:2]],datos[:,2])), columns=['Duración','Cantidad'])\n",
    "tabla_enunciado_latex = tabulate(tabla_enunciado, headers=\"keys\", tablefmt=\"latex\").replace('\\\\$','$').replace('textbackslash{}','')\n",
    "md(tabla_enunciado_latex)\n"
   ]
  },
  {
   "cell_type": "code",
   "execution_count": 3,
   "metadata": {},
   "outputs": [
    {
     "data": {
      "text/plain": [
       "array([[120., 150., 135.,  12.],\n",
       "       [150., 180., 165.,  18.],\n",
       "       [180., 210., 195.,   8.],\n",
       "       [210., 240., 225.,   2.]])"
      ]
     },
     "execution_count": 3,
     "metadata": {},
     "output_type": "execute_result"
    }
   ],
   "source": [
    "marca = (datos[:,1]+datos[:,0])/2\n",
    "marca = marca.reshape(-1,1)\n",
    "datos = np.concatenate((datos, marca), axis=1)[:,[0,1,3,2]]\n",
    "datos"
   ]
  },
  {
   "cell_type": "code",
   "execution_count": 4,
   "metadata": {},
   "outputs": [
    {
     "data": {
      "text/html": [
       "<div>\n",
       "<style scoped>\n",
       "    .dataframe tbody tr th:only-of-type {\n",
       "        vertical-align: middle;\n",
       "    }\n",
       "\n",
       "    .dataframe tbody tr th {\n",
       "        vertical-align: top;\n",
       "    }\n",
       "\n",
       "    .dataframe thead th {\n",
       "        text-align: right;\n",
       "    }\n",
       "</style>\n",
       "<table border=\"1\" class=\"dataframe\">\n",
       "  <thead>\n",
       "    <tr style=\"text-align: right;\">\n",
       "      <th></th>\n",
       "      <th>lim_inf</th>\n",
       "      <th>lim_sup</th>\n",
       "      <th>x_i</th>\n",
       "      <th>f_i</th>\n",
       "      <th>F_i</th>\n",
       "      <th>h_i</th>\n",
       "      <th>H_i</th>\n",
       "      <th>x_if_i</th>\n",
       "      <th>x^2_if_i</th>\n",
       "    </tr>\n",
       "  </thead>\n",
       "  <tbody>\n",
       "    <tr>\n",
       "      <th>0</th>\n",
       "      <td>120.0</td>\n",
       "      <td>150.0</td>\n",
       "      <td>135.0</td>\n",
       "      <td>12.0</td>\n",
       "      <td>12.0</td>\n",
       "      <td>0.30</td>\n",
       "      <td>0.30</td>\n",
       "      <td>1620.0</td>\n",
       "      <td>218700.0</td>\n",
       "    </tr>\n",
       "    <tr>\n",
       "      <th>1</th>\n",
       "      <td>150.0</td>\n",
       "      <td>180.0</td>\n",
       "      <td>165.0</td>\n",
       "      <td>18.0</td>\n",
       "      <td>30.0</td>\n",
       "      <td>0.45</td>\n",
       "      <td>0.75</td>\n",
       "      <td>2970.0</td>\n",
       "      <td>490050.0</td>\n",
       "    </tr>\n",
       "    <tr>\n",
       "      <th>2</th>\n",
       "      <td>180.0</td>\n",
       "      <td>210.0</td>\n",
       "      <td>195.0</td>\n",
       "      <td>8.0</td>\n",
       "      <td>38.0</td>\n",
       "      <td>0.20</td>\n",
       "      <td>0.95</td>\n",
       "      <td>1560.0</td>\n",
       "      <td>304200.0</td>\n",
       "    </tr>\n",
       "    <tr>\n",
       "      <th>3</th>\n",
       "      <td>210.0</td>\n",
       "      <td>240.0</td>\n",
       "      <td>225.0</td>\n",
       "      <td>2.0</td>\n",
       "      <td>40.0</td>\n",
       "      <td>0.05</td>\n",
       "      <td>1.00</td>\n",
       "      <td>450.0</td>\n",
       "      <td>101250.0</td>\n",
       "    </tr>\n",
       "    <tr>\n",
       "      <th>4</th>\n",
       "      <td>NaN</td>\n",
       "      <td>NaN</td>\n",
       "      <td>NaN</td>\n",
       "      <td>40.0</td>\n",
       "      <td>NaN</td>\n",
       "      <td>1.00</td>\n",
       "      <td>NaN</td>\n",
       "      <td>6600.0</td>\n",
       "      <td>1114200.0</td>\n",
       "    </tr>\n",
       "  </tbody>\n",
       "</table>\n",
       "</div>"
      ],
      "text/plain": [
       "   lim_inf  lim_sup    x_i   f_i   F_i   h_i   H_i  x_if_i   x^2_if_i\n",
       "0    120.0    150.0  135.0  12.0  12.0  0.30  0.30  1620.0   218700.0\n",
       "1    150.0    180.0  165.0  18.0  30.0  0.45  0.75  2970.0   490050.0\n",
       "2    180.0    210.0  195.0   8.0  38.0  0.20  0.95  1560.0   304200.0\n",
       "3    210.0    240.0  225.0   2.0  40.0  0.05  1.00   450.0   101250.0\n",
       "4      NaN      NaN    NaN  40.0   NaN  1.00   NaN  6600.0  1114200.0"
      ]
     },
     "execution_count": 4,
     "metadata": {},
     "output_type": "execute_result"
    }
   ],
   "source": [
    "tabla = pd.DataFrame({r'lim_inf': datos[:,0],'lim_sup': datos[:,1],\n",
    "                      'x_i': datos[:,2],'f_i':datos[:,3],'F_i':datos[:,3].cumsum(),\n",
    "                     'h_i': datos[:,3]/datos[:,3].sum(), 'H_i':(datos[:,3]/datos[:,3].sum()).cumsum(),\n",
    "                     'x_if_i': datos[:,2]*datos[:,3], 'x^2_if_i': datos[:,2]**2*datos[:,3]})\n",
    "tabla\n",
    "\n",
    "#totales = np.array([np.nan,np.nan,np.nan,tabla.f_i.sum(),tabla.F_i.sum()])\n",
    "totales = pd.DataFrame([[np.nan,np.nan,np.nan,tabla.f_i.sum(),\n",
    "                         np.nan, tabla.h_i.sum(), np.nan,\n",
    "                        tabla.x_if_i.sum(),tabla['x^2_if_i'].sum()]],columns=list(tabla.columns))\n",
    "totales\n",
    "\n",
    "tabla.append(totales,ignore_index=True)"
   ]
  },
  {
   "cell_type": "code",
   "execution_count": 5,
   "metadata": {},
   "outputs": [
    {
     "data": {
      "text/markdown": [
       "\\begin{tabular}{rrrrrrrrrr}\n",
       "\\hline\n",
       "    &   lim\\_inf &   lim\\_sup &   x\\_i &   f\\_i &   F\\_i &   h\\_i &    H\\_i &   x\\_if\\_i &        x\\^{}2\\_if\\_i \\\\\n",
       "\\hline\n",
       "  0 &       120 &       150 &   135 &    12 &    12 &  0.3  &   0.3  &     1620 & 218700          \\\\\n",
       "  1 &       150 &       180 &   165 &    18 &    30 &  0.45 &   0.75 &     2970 & 490050          \\\\\n",
       "  2 &       180 &       210 &   195 &     8 &    38 &  0.2  &   0.95 &     1560 & 304200          \\\\\n",
       "  3 &       210 &       240 &   225 &     2 &    40 &  0.05 &   1    &      450 & 101250          \\\\\n",
       "  4 &       nan &       nan &   nan &    40 &   nan &  1    & nan    &     6600 &      1.1142e+06 \\\\\n",
       "\\hline\n",
       "\\end{tabular}"
      ],
      "text/plain": [
       "<IPython.core.display.Markdown object>"
      ]
     },
     "execution_count": 5,
     "metadata": {},
     "output_type": "execute_result"
    }
   ],
   "source": [
    "md(tabulate(tabla.append(totales,ignore_index=True), headers=\"keys\", tablefmt=\"latex\"))"
   ]
  },
  {
   "cell_type": "markdown",
   "metadata": {},
   "source": [
    "Determina la media, la varianza y la desviación típica:"
   ]
  },
  {
   "cell_type": "code",
   "execution_count": 15,
   "metadata": {},
   "outputs": [
    {
     "data": {
      "text/plain": [
       "{'media': 165.0, 'varianza': 630.0, 'desviación típica': 25.0998007960223}"
      ]
     },
     "execution_count": 15,
     "metadata": {},
     "output_type": "execute_result"
    }
   ],
   "source": [
    "media = (totales['x_if_i']/totales['f_i'])[0]\n",
    "media\n",
    "\n",
    "var = (totales['x^2_if_i']/totales['f_i']-media**2)[0]\n",
    "\n",
    "desv_tip = sqrt(var)\n",
    "\n",
    "{'media':media, 'varianza': var, 'desviación típica': desv_tip}"
   ]
  },
  {
   "cell_type": "markdown",
   "metadata": {},
   "source": [
    "Calcula el percentil 80"
   ]
  },
  {
   "cell_type": "code",
   "execution_count": 12,
   "metadata": {},
   "outputs": [
    {
     "data": {
      "text/plain": [
       "lim_inf        180.00\n",
       "lim_sup        210.00\n",
       "x_i            195.00\n",
       "f_i              8.00\n",
       "F_i             38.00\n",
       "h_i              0.20\n",
       "H_i              0.95\n",
       "x_if_i        1560.00\n",
       "x^2_if_i    304200.00\n",
       "Name: 2, dtype: float64"
      ]
     },
     "execution_count": 12,
     "metadata": {},
     "output_type": "execute_result"
    }
   ],
   "source": [
    "# Índice donde está el percentil\n",
    "\n",
    "perc = 80\n",
    "\n",
    "ind = tabla.loc[tabla.H_i<=perc/100].iloc[-1:].index[0] + 1\n",
    "\n",
    "tabla.iloc[ind]"
   ]
  },
  {
   "cell_type": "code",
   "execution_count": 13,
   "metadata": {},
   "outputs": [
    {
     "name": "stdout",
     "output_type": "stream",
     "text": [
      "{'k': 80, 'N': 40.0, 'L_i': 180.0, 'f_i': 8.0, 'F_{i-1}': 30.0, 'C_i': 30.0}\n"
     ]
    },
    {
     "data": {
      "image/png": "[encoded data removed]",
      "text/latex": [
       "$$187.5$$"
      ],
      "text/plain": [
       "187.5"
      ]
     },
     "execution_count": 13,
     "metadata": {},
     "output_type": "execute_result"
    }
   ],
   "source": [
    "k = perc\n",
    "N = totales.f_i[0]\n",
    "L = tabla.iloc[ind].lim_inf\n",
    "f = tabla.iloc[ind].f_i\n",
    "if ind == 0 :\n",
    "    F = 0\n",
    "else:\n",
    "    F = tabla.iloc[ind-1].F_i\n",
    "C = tabla.iloc[ind].lim_sup - tabla.iloc[ind].lim_inf\n",
    "\n",
    "print({'k':k, 'N': N, 'L_i': L, 'f_i': f, 'F_{i-1}':F, 'C_i':C})\n",
    "\n",
    "percentil = L + C*(k*(N/100)-F)/f\n",
    "\n",
    "percentil\n"
   ]
  },
  {
   "cell_type": "markdown",
   "metadata": {},
   "source": [
    "El fabricante asegura que sus juegos de ruedas duran más de 3 horas y cuarto. ¿Qué porcentaje de los juegos no lo cumplen?"
   ]
  },
  {
   "cell_type": "code",
   "execution_count": 11,
   "metadata": {},
   "outputs": [
    {
     "name": "stdout",
     "output_type": "stream",
     "text": [
      "195\n",
      "{'valor': 195, 'N': 40.0, 'L_i': 180.0, 'f_i': 8.0, 'F_{i-1}': 30.0, 'C_i': 30.0}\n"
     ]
    },
    {
     "data": {
      "image/png": "[encoded data removed]",
      "text/latex": [
       "$$15.0$$"
      ],
      "text/plain": [
       "15.0000000000000"
      ]
     },
     "execution_count": 11,
     "metadata": {},
     "output_type": "execute_result"
    }
   ],
   "source": [
    "valor = 195\n",
    "print(valor)\n",
    "ind = tabla.loc[tabla.lim_inf<=valor].iloc[-1:].index[0]\n",
    "\n",
    "if ind == 0 :\n",
    "    F = 0\n",
    "else:\n",
    "    F = tabla.iloc[ind-1].F_i\n",
    "\n",
    "N = totales.f_i[0]\n",
    "L = tabla.iloc[ind].lim_inf\n",
    "f = tabla.iloc[ind].f_i\n",
    "C = tabla.iloc[ind].lim_sup - tabla.iloc[ind].lim_inf\n",
    "\n",
    "print({'valor':valor, 'N': N, 'L_i': L, 'f_i': f, 'F_{i-1}':F, 'C_i':C})\n",
    "\n",
    "100-solve(Eq(valor,L+C*(x*N/100-F)/f))[0]"
   ]
  },
  {
   "cell_type": "markdown",
   "metadata": {},
   "source": [
    "## Ejercicio 1_c"
   ]
  },
  {
   "cell_type": "markdown",
   "metadata": {},
   "source": [
    "Una oficina bancaría ha tabulado las cantidades de dinero que retiran de sus cuentas 100 clientes jóvenes en\n",
    "un determinado día:"
   ]
  },
  {
   "cell_type": "code",
   "execution_count": 10,
   "metadata": {},
   "outputs": [
    {
     "data": {
      "text/markdown": [
       "\\begin{tabular}{rlr}\n",
       "\\hline\n",
       "    & Euros                  &   Clientes \\\\\n",
       "\\hline\n",
       "  0 & $\\left[0, 40\\right)$   &         40 \\\\\n",
       "  1 & $\\left[40, 80\\right)$  &         35 \\\\\n",
       "  2 & $\\left[80, 120\\right)$ &         25 \\\\\n",
       "\\hline\n",
       "\\end{tabular}"
      ],
      "text/plain": [
       "<IPython.core.display.Markdown object>"
      ]
     },
     "execution_count": 10,
     "metadata": {},
     "output_type": "execute_result"
    }
   ],
   "source": [
    "# límite inferior, superior y frecuencia\n",
    "#datos = np.array([[36,42,12],[42,48,28],[48,54,44],[54,60,11],[60,66,5]])\n",
    "datos = np.array([[0,40,40],[40,80,35],[80,120,25]])\n",
    "tabla_enunciado = pd.DataFrame(list(zip([r\"$\"+latex(Interval.Ropen(k[0],k[1]))+\"$\" for k in datos[:,0:2]],datos[:,2])), columns=['Euros','Clientes'])\n",
    "tabla_enunciado_latex = tabulate(tabla_enunciado, headers=\"keys\", tablefmt=\"latex\").replace('\\\\$','$').replace('textbackslash{}','')\n",
    "md(tabla_enunciado_latex)\n"
   ]
  },
  {
   "cell_type": "code",
   "execution_count": 11,
   "metadata": {},
   "outputs": [
    {
     "data": {
      "text/plain": [
       "array([[  0.,  40.,  20.,  40.],\n",
       "       [ 40.,  80.,  60.,  35.],\n",
       "       [ 80., 120., 100.,  25.]])"
      ]
     },
     "execution_count": 11,
     "metadata": {},
     "output_type": "execute_result"
    }
   ],
   "source": [
    "marca = (datos[:,1]+datos[:,0])/2\n",
    "marca = marca.reshape(-1,1)\n",
    "datos = np.concatenate((datos, marca), axis=1)[:,[0,1,3,2]]\n",
    "datos"
   ]
  },
  {
   "cell_type": "code",
   "execution_count": 12,
   "metadata": {},
   "outputs": [
    {
     "data": {
      "text/html": [
       "<div>\n",
       "<style scoped>\n",
       "    .dataframe tbody tr th:only-of-type {\n",
       "        vertical-align: middle;\n",
       "    }\n",
       "\n",
       "    .dataframe tbody tr th {\n",
       "        vertical-align: top;\n",
       "    }\n",
       "\n",
       "    .dataframe thead th {\n",
       "        text-align: right;\n",
       "    }\n",
       "</style>\n",
       "<table border=\"1\" class=\"dataframe\">\n",
       "  <thead>\n",
       "    <tr style=\"text-align: right;\">\n",
       "      <th></th>\n",
       "      <th>lim_inf</th>\n",
       "      <th>lim_sup</th>\n",
       "      <th>x_i</th>\n",
       "      <th>f_i</th>\n",
       "      <th>F_i</th>\n",
       "      <th>h_i</th>\n",
       "      <th>H_i</th>\n",
       "      <th>x_if_i</th>\n",
       "      <th>x^2_if_i</th>\n",
       "    </tr>\n",
       "  </thead>\n",
       "  <tbody>\n",
       "    <tr>\n",
       "      <th>0</th>\n",
       "      <td>0.0</td>\n",
       "      <td>40.0</td>\n",
       "      <td>20.0</td>\n",
       "      <td>40.0</td>\n",
       "      <td>40.0</td>\n",
       "      <td>0.40</td>\n",
       "      <td>0.40</td>\n",
       "      <td>800.0</td>\n",
       "      <td>16000.0</td>\n",
       "    </tr>\n",
       "    <tr>\n",
       "      <th>1</th>\n",
       "      <td>40.0</td>\n",
       "      <td>80.0</td>\n",
       "      <td>60.0</td>\n",
       "      <td>35.0</td>\n",
       "      <td>75.0</td>\n",
       "      <td>0.35</td>\n",
       "      <td>0.75</td>\n",
       "      <td>2100.0</td>\n",
       "      <td>126000.0</td>\n",
       "    </tr>\n",
       "    <tr>\n",
       "      <th>2</th>\n",
       "      <td>80.0</td>\n",
       "      <td>120.0</td>\n",
       "      <td>100.0</td>\n",
       "      <td>25.0</td>\n",
       "      <td>100.0</td>\n",
       "      <td>0.25</td>\n",
       "      <td>1.00</td>\n",
       "      <td>2500.0</td>\n",
       "      <td>250000.0</td>\n",
       "    </tr>\n",
       "    <tr>\n",
       "      <th>3</th>\n",
       "      <td>NaN</td>\n",
       "      <td>NaN</td>\n",
       "      <td>NaN</td>\n",
       "      <td>100.0</td>\n",
       "      <td>NaN</td>\n",
       "      <td>1.00</td>\n",
       "      <td>NaN</td>\n",
       "      <td>5400.0</td>\n",
       "      <td>392000.0</td>\n",
       "    </tr>\n",
       "  </tbody>\n",
       "</table>\n",
       "</div>"
      ],
      "text/plain": [
       "   lim_inf  lim_sup    x_i    f_i    F_i   h_i   H_i  x_if_i  x^2_if_i\n",
       "0      0.0     40.0   20.0   40.0   40.0  0.40  0.40   800.0   16000.0\n",
       "1     40.0     80.0   60.0   35.0   75.0  0.35  0.75  2100.0  126000.0\n",
       "2     80.0    120.0  100.0   25.0  100.0  0.25  1.00  2500.0  250000.0\n",
       "3      NaN      NaN    NaN  100.0    NaN  1.00   NaN  5400.0  392000.0"
      ]
     },
     "execution_count": 12,
     "metadata": {},
     "output_type": "execute_result"
    }
   ],
   "source": [
    "tabla = pd.DataFrame({r'lim_inf': datos[:,0],'lim_sup': datos[:,1],\n",
    "                      'x_i': datos[:,2],'f_i':datos[:,3],'F_i':datos[:,3].cumsum(),\n",
    "                     'h_i': datos[:,3]/datos[:,3].sum(), 'H_i':(datos[:,3]/datos[:,3].sum()).cumsum(),\n",
    "                     'x_if_i': datos[:,2]*datos[:,3], 'x^2_if_i': datos[:,2]**2*datos[:,3]})\n",
    "tabla\n",
    "\n",
    "#totales = np.array([np.nan,np.nan,np.nan,tabla.f_i.sum(),tabla.F_i.sum()])\n",
    "totales = pd.DataFrame([[np.nan,np.nan,np.nan,tabla.f_i.sum(),\n",
    "                         np.nan, tabla.h_i.sum(), np.nan,\n",
    "                        tabla.x_if_i.sum(),tabla['x^2_if_i'].sum()]],columns=list(tabla.columns))\n",
    "totales\n",
    "\n",
    "tabla.append(totales,ignore_index=True)"
   ]
  },
  {
   "cell_type": "code",
   "execution_count": 13,
   "metadata": {},
   "outputs": [
    {
     "data": {
      "text/markdown": [
       "\\begin{tabular}{rrrrrrrrrr}\n",
       "\\hline\n",
       "    &   lim\\_inf &   lim\\_sup &   x\\_i &   f\\_i &   F\\_i &   h\\_i &    H\\_i &   x\\_if\\_i &   x\\^{}2\\_if\\_i \\\\\n",
       "\\hline\n",
       "  0 &         0 &        40 &    20 &    40 &    40 &  0.4  &   0.4  &      800 &      16000 \\\\\n",
       "  1 &        40 &        80 &    60 &    35 &    75 &  0.35 &   0.75 &     2100 &     126000 \\\\\n",
       "  2 &        80 &       120 &   100 &    25 &   100 &  0.25 &   1    &     2500 &     250000 \\\\\n",
       "  3 &       nan &       nan &   nan &   100 &   nan &  1    & nan    &     5400 &     392000 \\\\\n",
       "\\hline\n",
       "\\end{tabular}"
      ],
      "text/plain": [
       "<IPython.core.display.Markdown object>"
      ]
     },
     "execution_count": 13,
     "metadata": {},
     "output_type": "execute_result"
    }
   ],
   "source": [
    "md(tabulate(tabla.append(totales,ignore_index=True), headers=\"keys\", tablefmt=\"latex\"))"
   ]
  },
  {
   "cell_type": "markdown",
   "metadata": {},
   "source": [
    "Determina la media, la varianza y la desviación típica:"
   ]
  },
  {
   "cell_type": "code",
   "execution_count": 14,
   "metadata": {},
   "outputs": [
    {
     "data": {
      "text/plain": [
       "{'media': 54.0, 'varianza': 1004.0, 'desviación típica': 31.6859590355097}"
      ]
     },
     "execution_count": 14,
     "metadata": {},
     "output_type": "execute_result"
    }
   ],
   "source": [
    "media = (totales['x_if_i']/totales['f_i'])[0]\n",
    "media\n",
    "\n",
    "var = (totales['x^2_if_i']/totales['f_i']-media**2)[0]\n",
    "\n",
    "desv_tip = sqrt(var)\n",
    "\n",
    "{'media':media, 'varianza': var, 'desviación típica': desv_tip}"
   ]
  },
  {
   "cell_type": "markdown",
   "metadata": {},
   "source": [
    "Calcula la Mediana"
   ]
  },
  {
   "cell_type": "code",
   "execution_count": 15,
   "metadata": {},
   "outputs": [
    {
     "data": {
      "text/plain": [
       "lim_inf         40.00\n",
       "lim_sup         80.00\n",
       "x_i             60.00\n",
       "f_i             35.00\n",
       "F_i             75.00\n",
       "h_i              0.35\n",
       "H_i              0.75\n",
       "x_if_i        2100.00\n",
       "x^2_if_i    126000.00\n",
       "Name: 1, dtype: float64"
      ]
     },
     "execution_count": 15,
     "metadata": {},
     "output_type": "execute_result"
    }
   ],
   "source": [
    "# Índice donde está el percentil\n",
    "\n",
    "perc = 50\n",
    "\n",
    "ind = tabla.loc[tabla.H_i<=perc/100].iloc[-1:].index[0] + 1\n",
    "\n",
    "tabla.iloc[ind]"
   ]
  },
  {
   "cell_type": "code",
   "execution_count": 16,
   "metadata": {},
   "outputs": [
    {
     "name": "stdout",
     "output_type": "stream",
     "text": [
      "{'k': 50, 'N': 100.0, 'L_i': 40.0, 'f_i': 35.0, 'F_{i-1}': 40.0, 'C_i': 40.0}\n"
     ]
    },
    {
     "data": {
      "image/png": "[encoded data removed]",
      "text/latex": [
       "$$51.42857142857143$$"
      ],
      "text/plain": [
       "51.42857142857143"
      ]
     },
     "execution_count": 16,
     "metadata": {},
     "output_type": "execute_result"
    }
   ],
   "source": [
    "k = perc\n",
    "N = totales.f_i[0]\n",
    "L = tabla.iloc[ind].lim_inf\n",
    "f = tabla.iloc[ind].f_i\n",
    "if ind == 0 :\n",
    "    F = 0\n",
    "else:\n",
    "    F = tabla.iloc[ind-1].F_i\n",
    "C = tabla.iloc[ind].lim_sup - tabla.iloc[ind].lim_inf\n",
    "\n",
    "print({'k':k, 'N': N, 'L_i': L, 'f_i': f, 'F_{i-1}':F, 'C_i':C})\n",
    "\n",
    "percentil = L + C*(k*(N/100)-F)/f\n",
    "\n",
    "percentil\n"
   ]
  },
  {
   "cell_type": "markdown",
   "metadata": {},
   "source": [
    "¿Qué porcentaje de clientes ha retirado menos de 60€?"
   ]
  },
  {
   "cell_type": "code",
   "execution_count": 17,
   "metadata": {},
   "outputs": [
    {
     "name": "stdout",
     "output_type": "stream",
     "text": [
      "60\n",
      "{'valor': 60, 'N': 100.0, 'L_i': 40.0, 'f_i': 35.0, 'F_{i-1}': 40.0, 'C_i': 40.0}\n"
     ]
    },
    {
     "data": {
      "image/png": "[encoded data removed]",
      "text/latex": [
       "$$57.5$$"
      ],
      "text/plain": [
       "57.5000000000000"
      ]
     },
     "execution_count": 17,
     "metadata": {},
     "output_type": "execute_result"
    }
   ],
   "source": [
    "valor = 60\n",
    "print(valor)\n",
    "ind = tabla.loc[tabla.lim_inf<=valor].iloc[-1:].index[0]\n",
    "\n",
    "if ind == 0 :\n",
    "    F = 0\n",
    "else:\n",
    "    F = tabla.iloc[ind-1].F_i\n",
    "\n",
    "N = totales.f_i[0]\n",
    "L = tabla.iloc[ind].lim_inf\n",
    "f = tabla.iloc[ind].f_i\n",
    "C = tabla.iloc[ind].lim_sup - tabla.iloc[ind].lim_inf\n",
    "\n",
    "print({'valor':valor, 'N': N, 'L_i': L, 'f_i': f, 'F_{i-1}':F, 'C_i':C})\n",
    "\n",
    "#100-solve(Eq(valor,L+C*(x*N/100-F)/f))[0]\n",
    "solve(Eq(valor,L+C*(x*N/100-F)/f))[0]"
   ]
  },
  {
   "cell_type": "markdown",
   "metadata": {},
   "source": [
    "## Ejercicio 2"
   ]
  },
  {
   "cell_type": "code",
   "execution_count": 3,
   "metadata": {},
   "outputs": [],
   "source": [
    "# límite inferior, superior y frecuencia\n",
    "#datos = np.array([[36,42,12],[42,48,28],[48,54,44],[54,60,11],[60,66,5]])\n",
    "datos = np.array([[2.  , 1.8 ],\n",
    "       [2.4 , 1.68],\n",
    "       [2.5 , 1.65],\n",
    "       [3.  , 1.32],\n",
    "       [2.9 , 1.44]])"
   ]
  },
  {
   "cell_type": "markdown",
   "metadata": {},
   "source": [
    "### Covarianza"
   ]
  },
  {
   "cell_type": "code",
   "execution_count": 4,
   "metadata": {},
   "outputs": [
    {
     "data": {
      "image/png": "[encoded data removed]",
      "text/latex": [
       "$$-0.06108$$"
      ],
      "text/plain": [
       "-0.06108"
      ]
     },
     "execution_count": 4,
     "metadata": {},
     "output_type": "execute_result"
    }
   ],
   "source": [
    "np.cov(datos[:,0],datos[:,1],bias=True)[0][1]\n"
   ]
  },
  {
   "cell_type": "markdown",
   "metadata": {},
   "source": [
    "### Desviaciones típicas"
   ]
  },
  {
   "cell_type": "code",
   "execution_count": 5,
   "metadata": {},
   "outputs": [
    {
     "data": {
      "image/png": "[encoded data removed]",
      "text/latex": [
       "$$\\left ( 0.36110940170535577, \\quad 0.17348198753761152\\right )$$"
      ],
      "text/plain": [
       "(0.36110940170535577, 0.17348198753761152)"
      ]
     },
     "execution_count": 5,
     "metadata": {},
     "output_type": "execute_result"
    }
   ],
   "source": [
    "np.std(datos[:,0]), np.std(datos[:,1])"
   ]
  },
  {
   "cell_type": "markdown",
   "metadata": {},
   "source": [
    "### Coeficiente de correlación"
   ]
  },
  {
   "cell_type": "code",
   "execution_count": 6,
   "metadata": {},
   "outputs": [
    {
     "data": {
      "image/png": "[encoded data removed]",
      "text/latex": [
       "$$-0.9750027566302774$$"
      ],
      "text/plain": [
       "-0.9750027566302774"
      ]
     },
     "execution_count": 6,
     "metadata": {},
     "output_type": "execute_result"
    }
   ],
   "source": [
    "pendiente, ordenada, coefcorr = stats.linregress(datos)[:3]\n",
    "\n",
    "coefcorr"
   ]
  },
  {
   "cell_type": "markdown",
   "metadata": {},
   "source": [
    "### Recta de regresión de y sobre x"
   ]
  },
  {
   "cell_type": "code",
   "execution_count": 7,
   "metadata": {},
   "outputs": [
    {
     "data": {
      "image/png": "[encoded data removed]",
      "text/latex": [
       "$$y = - 0.46840490797546 x + 2.77711656441718$$"
      ],
      "text/plain": [
       "y = -0.46840490797546⋅x + 2.77711656441718"
      ]
     },
     "execution_count": 7,
     "metadata": {},
     "output_type": "execute_result"
    }
   ],
   "source": [
    "Eq(y,pendiente*x+ordenada)"
   ]
  },
  {
   "cell_type": "code",
   "execution_count": 14,
   "metadata": {},
   "outputs": [
    {
     "data": {
      "image/png": "[encoded data removed]",
      "text/plain": [
       "<Figure size 432x288 with 1 Axes>"
      ]
     },
     "metadata": {},
     "output_type": "display_data"
    }
   ],
   "source": [
    "%matplotlib inline\n",
    "\n",
    "f1 = sns.regplot(datos[:,0],datos[:,1]).figure\n",
    "f1.savefig('regresion.pgf')\n"
   ]
  },
  {
   "cell_type": "markdown",
   "metadata": {},
   "source": [
    "### Valor a estimar"
   ]
  },
  {
   "cell_type": "code",
   "execution_count": 24,
   "metadata": {},
   "outputs": [
    {
     "data": {
      "image/png": "[encoded data removed]",
      "text/latex": [
       "$$1.55926380368098$$"
      ],
      "text/plain": [
       "1.55926380368098"
      ]
     },
     "execution_count": 24,
     "metadata": {},
     "output_type": "execute_result"
    }
   ],
   "source": [
    "valor_a_estimar = 2.6\n",
    "\n",
    "(pendiente*x+ordenada).subs(x,valor_a_estimar)"
   ]
  },
  {
   "cell_type": "code",
   "execution_count": 25,
   "metadata": {},
   "outputs": [
    {
     "data": {
      "text/html": [
       "<div>\n",
       "<style scoped>\n",
       "    .dataframe tbody tr th:only-of-type {\n",
       "        vertical-align: middle;\n",
       "    }\n",
       "\n",
       "    .dataframe tbody tr th {\n",
       "        vertical-align: top;\n",
       "    }\n",
       "\n",
       "    .dataframe thead th {\n",
       "        text-align: right;\n",
       "    }\n",
       "</style>\n",
       "<table border=\"1\" class=\"dataframe\">\n",
       "  <thead>\n",
       "    <tr style=\"text-align: right;\">\n",
       "      <th></th>\n",
       "      <th>x</th>\n",
       "      <th>y</th>\n",
       "      <th>xy</th>\n",
       "      <th>x2</th>\n",
       "      <th>y2</th>\n",
       "    </tr>\n",
       "  </thead>\n",
       "  <tbody>\n",
       "    <tr>\n",
       "      <th>0</th>\n",
       "      <td>2.00</td>\n",
       "      <td>1.800</td>\n",
       "      <td>3.6000</td>\n",
       "      <td>4.000</td>\n",
       "      <td>3.24000</td>\n",
       "    </tr>\n",
       "    <tr>\n",
       "      <th>1</th>\n",
       "      <td>2.40</td>\n",
       "      <td>1.680</td>\n",
       "      <td>4.0320</td>\n",
       "      <td>5.760</td>\n",
       "      <td>2.82240</td>\n",
       "    </tr>\n",
       "    <tr>\n",
       "      <th>2</th>\n",
       "      <td>2.50</td>\n",
       "      <td>1.650</td>\n",
       "      <td>4.1250</td>\n",
       "      <td>6.250</td>\n",
       "      <td>2.72250</td>\n",
       "    </tr>\n",
       "    <tr>\n",
       "      <th>3</th>\n",
       "      <td>3.00</td>\n",
       "      <td>1.320</td>\n",
       "      <td>3.9600</td>\n",
       "      <td>9.000</td>\n",
       "      <td>1.74240</td>\n",
       "    </tr>\n",
       "    <tr>\n",
       "      <th>4</th>\n",
       "      <td>2.90</td>\n",
       "      <td>1.440</td>\n",
       "      <td>4.1760</td>\n",
       "      <td>8.410</td>\n",
       "      <td>2.07360</td>\n",
       "    </tr>\n",
       "    <tr>\n",
       "      <th>5</th>\n",
       "      <td>12.80</td>\n",
       "      <td>7.890</td>\n",
       "      <td>19.8930</td>\n",
       "      <td>33.420</td>\n",
       "      <td>12.60090</td>\n",
       "    </tr>\n",
       "    <tr>\n",
       "      <th>6</th>\n",
       "      <td>2.56</td>\n",
       "      <td>1.578</td>\n",
       "      <td>3.9786</td>\n",
       "      <td>6.684</td>\n",
       "      <td>2.52018</td>\n",
       "    </tr>\n",
       "  </tbody>\n",
       "</table>\n",
       "</div>"
      ],
      "text/plain": [
       "       x      y       xy      x2        y2\n",
       "0   2.00  1.800   3.6000   4.000   3.24000\n",
       "1   2.40  1.680   4.0320   5.760   2.82240\n",
       "2   2.50  1.650   4.1250   6.250   2.72250\n",
       "3   3.00  1.320   3.9600   9.000   1.74240\n",
       "4   2.90  1.440   4.1760   8.410   2.07360\n",
       "5  12.80  7.890  19.8930  33.420  12.60090\n",
       "6   2.56  1.578   3.9786   6.684   2.52018"
      ]
     },
     "execution_count": 25,
     "metadata": {},
     "output_type": "execute_result"
    }
   ],
   "source": [
    "tabla = pd.DataFrame({r'x': datos[:,0],'y': datos[:,1],\n",
    "                      'xy': datos[:,0]*datos[:,1],'x2':datos[:,0]**2,'y2':datos[:,1]**2})\n",
    "tabla\n",
    "\n",
    "#totales = np.array([np.nan,np.nan,np.nan,tabla.f_i.sum(),tabla.F_i.sum()])\n",
    "totales = pd.DataFrame([[tabla.x.sum(),tabla.y.sum(),tabla.xy.sum(),tabla.x2.sum(),\n",
    "                         tabla.y2.sum()]],columns=list(tabla.columns))\n",
    "totales\n",
    "\n",
    "medias = pd.DataFrame([[tabla.x.mean(),tabla.y.mean(),tabla.xy.mean(),tabla.x2.mean(),\n",
    "                         tabla.y2.mean()]],columns=list(tabla.columns))\n",
    "medias\n",
    "\n",
    "tabla.append(totales,ignore_index=True).append(medias,ignore_index=True)"
   ]
  },
  {
   "cell_type": "code",
   "execution_count": 26,
   "metadata": {},
   "outputs": [
    {
     "data": {
      "text/markdown": [
       "\\begin{tabular}{rrrrrr}\n",
       "\\hline\n",
       "    &     x &     y &      xy &     x2 &       y2 \\\\\n",
       "\\hline\n",
       "  0 &  2    & 1.8   &  3.6    &  4     &  3.24    \\\\\n",
       "  1 &  2.4  & 1.68  &  4.032  &  5.76  &  2.8224  \\\\\n",
       "  2 &  2.5  & 1.65  &  4.125  &  6.25  &  2.7225  \\\\\n",
       "  3 &  3    & 1.32  &  3.96   &  9     &  1.7424  \\\\\n",
       "  4 &  2.9  & 1.44  &  4.176  &  8.41  &  2.0736  \\\\\n",
       "  5 & 12.8  & 7.89  & 19.893  & 33.42  & 12.6009  \\\\\n",
       "  6 &  2.56 & 1.578 &  3.9786 &  6.684 &  2.52018 \\\\\n",
       "\\hline\n",
       "\\end{tabular}"
      ],
      "text/plain": [
       "<IPython.core.display.Markdown object>"
      ]
     },
     "execution_count": 26,
     "metadata": {},
     "output_type": "execute_result"
    }
   ],
   "source": [
    "md(tabulate(tabla.append(totales,ignore_index=True).append(medias,ignore_index=True), headers=\"keys\", tablefmt=\"latex\"))"
   ]
  },
  {
   "cell_type": "markdown",
   "metadata": {},
   "source": [
    "## Ejercicio 2_b"
   ]
  },
  {
   "cell_type": "code",
   "execution_count": 27,
   "metadata": {},
   "outputs": [],
   "source": [
    "# límite inferior, superior y frecuencia\n",
    "#datos = np.array([[36,42,12],[42,48,28],[48,54,44],[54,60,11],[60,66,5]])\n",
    "datos = np.array([[10  , 150 ],\n",
    "       [12 , 120],\n",
    "       [14 , 102],\n",
    "       [16  , 90]\n",
    "       ])"
   ]
  },
  {
   "cell_type": "markdown",
   "metadata": {},
   "source": [
    "### Covarianza"
   ]
  },
  {
   "cell_type": "code",
   "execution_count": 28,
   "metadata": {},
   "outputs": [
    {
     "data": {
      "image/png": "[encoded data removed]",
      "text/latex": [
       "$$-49.5$$"
      ],
      "text/plain": [
       "-49.5"
      ]
     },
     "execution_count": 28,
     "metadata": {},
     "output_type": "execute_result"
    }
   ],
   "source": [
    "np.cov(datos[:,0],datos[:,1],bias=True)[0][1]\n"
   ]
  },
  {
   "cell_type": "markdown",
   "metadata": {},
   "source": [
    "### Desviaciones típicas"
   ]
  },
  {
   "cell_type": "code",
   "execution_count": 29,
   "metadata": {},
   "outputs": [
    {
     "data": {
      "image/png": "[encoded data removed]",
      "text/latex": [
       "$$\\left ( 2.23606797749979, \\quad 22.599778759979046\\right )$$"
      ],
      "text/plain": [
       "(2.23606797749979, 22.599778759979046)"
      ]
     },
     "execution_count": 29,
     "metadata": {},
     "output_type": "execute_result"
    }
   ],
   "source": [
    "np.std(datos[:,0]), np.std(datos[:,1])"
   ]
  },
  {
   "cell_type": "markdown",
   "metadata": {},
   "source": [
    "### Coeficiente de correlación"
   ]
  },
  {
   "cell_type": "code",
   "execution_count": 30,
   "metadata": {},
   "outputs": [
    {
     "data": {
      "image/png": "[encoded data removed]",
      "text/latex": [
       "$$-0.9795260923726159$$"
      ],
      "text/plain": [
       "-0.9795260923726159"
      ]
     },
     "execution_count": 30,
     "metadata": {},
     "output_type": "execute_result"
    }
   ],
   "source": [
    "pendiente, ordenada, coefcorr = stats.linregress(datos)[:3]\n",
    "\n",
    "coefcorr"
   ]
  },
  {
   "cell_type": "markdown",
   "metadata": {},
   "source": [
    "### Recta de regresión de y sobre x"
   ]
  },
  {
   "cell_type": "code",
   "execution_count": 37,
   "metadata": {},
   "outputs": [
    {
     "name": "stdout",
     "output_type": "stream",
     "text": [
      "y = -9.9⋅x + 244.2\n"
     ]
    }
   ],
   "source": [
    "pprint(Eq(y,pendiente*x+ordenada))"
   ]
  },
  {
   "cell_type": "code",
   "execution_count": 38,
   "metadata": {},
   "outputs": [
    {
     "data": {
      "image/png": "[encoded data removed]",
      "text/plain": [
       "<Figure size 432x288 with 1 Axes>"
      ]
     },
     "metadata": {},
     "output_type": "display_data"
    }
   ],
   "source": [
    "%matplotlib inline\n",
    "\n",
    "sns.regplot(datos[:,0],datos[:,1])\n",
    "plt.savefig('regresion1.png')\n"
   ]
  },
  {
   "cell_type": "markdown",
   "metadata": {},
   "source": [
    "### Valor a estimar"
   ]
  },
  {
   "cell_type": "code",
   "execution_count": 33,
   "metadata": {},
   "outputs": [
    {
     "data": {
      "image/png": "[encoded data removed]",
      "text/latex": [
       "$$135.3$$"
      ],
      "text/plain": [
       "135.300000000000"
      ]
     },
     "execution_count": 33,
     "metadata": {},
     "output_type": "execute_result"
    }
   ],
   "source": [
    "valor_a_estimar = 11\n",
    "\n",
    "(pendiente*x+ordenada).subs(x,valor_a_estimar)"
   ]
  },
  {
   "cell_type": "code",
   "execution_count": 34,
   "metadata": {},
   "outputs": [
    {
     "data": {
      "text/html": [
       "<div>\n",
       "<style scoped>\n",
       "    .dataframe tbody tr th:only-of-type {\n",
       "        vertical-align: middle;\n",
       "    }\n",
       "\n",
       "    .dataframe tbody tr th {\n",
       "        vertical-align: top;\n",
       "    }\n",
       "\n",
       "    .dataframe thead th {\n",
       "        text-align: right;\n",
       "    }\n",
       "</style>\n",
       "<table border=\"1\" class=\"dataframe\">\n",
       "  <thead>\n",
       "    <tr style=\"text-align: right;\">\n",
       "      <th></th>\n",
       "      <th>x</th>\n",
       "      <th>y</th>\n",
       "      <th>xy</th>\n",
       "      <th>x2</th>\n",
       "      <th>y2</th>\n",
       "    </tr>\n",
       "  </thead>\n",
       "  <tbody>\n",
       "    <tr>\n",
       "      <th>0</th>\n",
       "      <td>10.0</td>\n",
       "      <td>150.0</td>\n",
       "      <td>1500.0</td>\n",
       "      <td>100.0</td>\n",
       "      <td>22500.0</td>\n",
       "    </tr>\n",
       "    <tr>\n",
       "      <th>1</th>\n",
       "      <td>12.0</td>\n",
       "      <td>120.0</td>\n",
       "      <td>1440.0</td>\n",
       "      <td>144.0</td>\n",
       "      <td>14400.0</td>\n",
       "    </tr>\n",
       "    <tr>\n",
       "      <th>2</th>\n",
       "      <td>14.0</td>\n",
       "      <td>102.0</td>\n",
       "      <td>1428.0</td>\n",
       "      <td>196.0</td>\n",
       "      <td>10404.0</td>\n",
       "    </tr>\n",
       "    <tr>\n",
       "      <th>3</th>\n",
       "      <td>16.0</td>\n",
       "      <td>90.0</td>\n",
       "      <td>1440.0</td>\n",
       "      <td>256.0</td>\n",
       "      <td>8100.0</td>\n",
       "    </tr>\n",
       "    <tr>\n",
       "      <th>4</th>\n",
       "      <td>52.0</td>\n",
       "      <td>462.0</td>\n",
       "      <td>5808.0</td>\n",
       "      <td>696.0</td>\n",
       "      <td>55404.0</td>\n",
       "    </tr>\n",
       "    <tr>\n",
       "      <th>5</th>\n",
       "      <td>13.0</td>\n",
       "      <td>115.5</td>\n",
       "      <td>1452.0</td>\n",
       "      <td>174.0</td>\n",
       "      <td>13851.0</td>\n",
       "    </tr>\n",
       "  </tbody>\n",
       "</table>\n",
       "</div>"
      ],
      "text/plain": [
       "      x      y      xy     x2       y2\n",
       "0  10.0  150.0  1500.0  100.0  22500.0\n",
       "1  12.0  120.0  1440.0  144.0  14400.0\n",
       "2  14.0  102.0  1428.0  196.0  10404.0\n",
       "3  16.0   90.0  1440.0  256.0   8100.0\n",
       "4  52.0  462.0  5808.0  696.0  55404.0\n",
       "5  13.0  115.5  1452.0  174.0  13851.0"
      ]
     },
     "execution_count": 34,
     "metadata": {},
     "output_type": "execute_result"
    }
   ],
   "source": [
    "tabla = pd.DataFrame({r'x': datos[:,0],'y': datos[:,1],\n",
    "                      'xy': datos[:,0]*datos[:,1],'x2':datos[:,0]**2,'y2':datos[:,1]**2})\n",
    "tabla\n",
    "\n",
    "#totales = np.array([np.nan,np.nan,np.nan,tabla.f_i.sum(),tabla.F_i.sum()])\n",
    "totales = pd.DataFrame([[tabla.x.sum(),tabla.y.sum(),tabla.xy.sum(),tabla.x2.sum(),\n",
    "                         tabla.y2.sum()]],columns=list(tabla.columns))\n",
    "totales\n",
    "\n",
    "medias = pd.DataFrame([[tabla.x.mean(),tabla.y.mean(),tabla.xy.mean(),tabla.x2.mean(),\n",
    "                         tabla.y2.mean()]],columns=list(tabla.columns))\n",
    "medias\n",
    "\n",
    "tabla.append(totales,ignore_index=True).append(medias,ignore_index=True)"
   ]
  },
  {
   "cell_type": "code",
   "execution_count": 35,
   "metadata": {},
   "outputs": [
    {
     "data": {
      "text/markdown": [
       "\\begin{tabular}{rrrrrr}\n",
       "\\hline\n",
       "    &   x &     y &   xy &   x2 &    y2 \\\\\n",
       "\\hline\n",
       "  0 &  10 & 150   & 1500 &  100 & 22500 \\\\\n",
       "  1 &  12 & 120   & 1440 &  144 & 14400 \\\\\n",
       "  2 &  14 & 102   & 1428 &  196 & 10404 \\\\\n",
       "  3 &  16 &  90   & 1440 &  256 &  8100 \\\\\n",
       "  4 &  52 & 462   & 5808 &  696 & 55404 \\\\\n",
       "  5 &  13 & 115.5 & 1452 &  174 & 13851 \\\\\n",
       "\\hline\n",
       "\\end{tabular}"
      ],
      "text/plain": [
       "<IPython.core.display.Markdown object>"
      ]
     },
     "execution_count": 35,
     "metadata": {},
     "output_type": "execute_result"
    }
   ],
   "source": [
    "md(tabulate(tabla.append(totales,ignore_index=True).append(medias,ignore_index=True), headers=\"keys\", tablefmt=\"latex\"))"
   ]
  }
 ],
 "metadata": {
  "kernelspec": {
   "display_name": "Python 3",
   "language": "python",
   "name": "python3"
  },
  "language_info": {
   "codemirror_mode": {
    "name": "ipython",
    "version": 3
   },
   "file_extension": ".py",
   "mimetype": "text/x-python",
   "name": "python",
   "nbconvert_exporter": "python",
   "pygments_lexer": "ipython3",
   "version": "3.6.8"
  }
 },
 "nbformat": 4,
 "nbformat_minor": 2
}
