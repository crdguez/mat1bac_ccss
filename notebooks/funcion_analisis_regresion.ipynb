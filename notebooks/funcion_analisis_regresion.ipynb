{
 "cells": [
  {
   "cell_type": "code",
   "execution_count": 1,
   "metadata": {},
   "outputs": [
    {
     "name": "stdout",
     "output_type": "stream",
     "text": [
      "IPython console for SymPy 1.8 (Python 3.6.13-64-bit) (ground types: gmpy)\n",
      "\n",
      "These commands were executed:\n",
      ">>> from __future__ import division\n",
      ">>> from sympy import *\n",
      ">>> x, y, z, t = symbols('x y z t')\n",
      ">>> k, m, n = symbols('k m n', integer=True)\n",
      ">>> f, g, h = symbols('f g h', cls=Function)\n",
      ">>> init_printing()\n",
      "\n",
      "Documentation can be found at https://docs.sympy.org/1.8/\n",
      "\n"
     ]
    }
   ],
   "source": [
    "import numpy as np\n",
    "import pandas as pd\n",
    "from scipy import stats\n",
    "from sympy import *\n",
    "from tabulate import tabulate\n",
    "from IPython.display import Markdown as md\n",
    "from IPython.display import display\n",
    "import seaborn as sns\n",
    "%matplotlib inline\n",
    "\n",
    "init_session()\n",
    "x,y = symbols('x, y', real=True)"
   ]
  },
  {
   "cell_type": "code",
   "execution_count": 2,
   "metadata": {},
   "outputs": [],
   "source": [
    "def  datos_bidimensionales(datos, var1='x', var2='y'):\n",
    "#     Recibe un numpy array de datos con dos columnas, la primera la interpreta como x y la segunda como y. Devuelve un diccionario con la información del análisis de regresión\n",
    "    \n",
    "    tabla = pd.DataFrame({var1: datos[:,0], var2: datos[:,1]})\n",
    "    numero_datos=tabla.shape[0]\n",
    "\n",
    "#     print(tabulate(tabla, headers=\"keys\", tablefmt=\"latex\",showindex = False).replace('\\\\$','$').replace('textbackslash{}',''))\n",
    "\n",
    "    tabla2 =tabla\n",
    "    tabla2=tabla2.join(pd.DataFrame({'$'+var1+r'\\cdot '+var2+r'$':datos[:,0]*datos[:,1],r'$'+var1+r'^2$':datos[:,0]**2, r'$'+var2+r'^2$':datos[:,1]**2}))\n",
    "    tabla2.loc['Sumas']=tabla2.sum()\n",
    "    tabla2.loc['Medias']=tabla2.iloc[:-1].mean()\n",
    "    tabla2\n",
    "    # print(tabulate(tabla2, headers=\"keys\", tablefmt=\"latex\",showindex = False).replace('\\\\$','$').replace('textbackslash{}',''))\n",
    "#     print(tabulate(tabla2, headers=\"keys\", tablefmt=\"latex\",showindex = True).replace('\\\\$','$').replace('textbackslash{}','').replace('\\^{}','^'))\n",
    "  \n",
    "    # Medias\n",
    "    m1, m2 = [tabla2.loc[tabla2.index[-2]][c]/numero_datos for c in range(2)]\n",
    "    medias=[m1,m2]\n",
    "#     display(medias)\n",
    "    vari =[var1, var2]\n",
    "\n",
    "\n",
    "    latex_sol =r'\\\\ \\\\ Las medias son: \\\\'\n",
    "    for c in range(2) :\n",
    "        latex_sol += r\"$\\overline{\"+tabla.columns[c]+r\"}=\\frac{\\Sigma{\"+vari[c]+r\"_i}}{N}=\"+ \\\n",
    "        r\"\\frac{\"+str(tabla2.loc[tabla2.index[-2]][c])+ \\\n",
    "        r\"}{\"+latex(numero_datos)+r\"}=\"+latex(tabla2.loc[tabla2.index[-2]][c]/numero_datos)+\"$. \"\n",
    "    \n",
    "    latex_sol += r' El centro de gravedad es: $('+latex(m1)+r','+latex(m2)+')$'     \n",
    "\n",
    "    # Desviaciones típicas y covarianza\n",
    "    s1, s2 = [sqrt(tabla2.loc[tabla2.index[-2]][c+3]/numero_datos-medias[c]**2) for c in range(2)]\n",
    "    sxy=tabla2.loc[tabla2.index[-2]][2]/numero_datos-m1*m2\n",
    "#     display(s1,s2,sxy)\n",
    " \n",
    "    latex_sol += r' \\\\ \\\\ Varianzas y covarianzas: '+ \\\n",
    "    r'\\\\ $\\sigma_'+var1+r'=\\sqrt{\\frac{\\sum{'+var1+r'_i^2}}{N}-\\overline{'+var1+r'}^2}=\\sqrt{\\frac{'+latex(tabla2.loc[tabla2.index[-2]][3])+r'}{'+ \\\n",
    "    latex(numero_datos)+r'}-'+latex(medias[0])+r'^2}='+latex(s1)+r'$.' + \\\n",
    "    r'\\\\ $\\sigma_'+var2+r'=\\sqrt{\\frac{\\sum{'+var2+r'_i^2}}{N}-\\overline{'+var2+r'}^2}=\\sqrt{\\frac{'+latex(tabla2.loc[tabla2.index[-2]][4])+r'}{'+ \\\n",
    "    latex(numero_datos)+r'}-'+latex(medias[1])+r'^2}='+latex(s2)+r'$.'+ \\\n",
    "    r'\\\\ $\\sigma_{'+var1+var2+r'}=\\frac{\\sum{'+var1+r'_i \\cdot '+var2+r'_i}}{N}-\\overline{'+var1+r'}\\cdot \\overline{'+var2+r'}=\\frac{'+latex(tabla2.loc[tabla2.index[-2]][2])+r'}{'+ \\\n",
    "    latex(numero_datos)+r'}-'+latex(medias[0])+r'\\cdot '+latex(medias[1])+r'='+latex(sxy)+r'$.'\n",
    "    \n",
    "    \n",
    "    latex_sol += r' \\\\ \\\\ Correlación: '+ \\\n",
    "    r'\\\\ $r=\\dfrac{\\sigma_{'+var1+var2+r'}}{\\sigma_'+var1+r' \\cdot \\sigma_'+var2+r'}=\\frac{'+latex(sxy)+r'}{'+ \\\n",
    "    latex(s1)+r'\\cdot '+latex(s2)+r'}='+latex(sxy/(s1*s2))+r'$.'\n",
    "\n",
    "    pendiente, ordenada, coefcorr = stats.linregress(datos)[:3]\n",
    "#   display(pendiente, ordenada, coefcorr, Eq(y,pendiente*x+ordenada))\n",
    "\n",
    "    latex_sol += r' \\\\ \\\\ Recta de regresión: \\\\ La pendiente es: '+latex(pendiente)+r', la ordenada en el origen: '+latex(ordenada) \\\n",
    "                +r', El coeficiente de correlación:'+latex(coefcorr)+r' y la recta de regresión: $'+latex( Eq(y,pendiente*x+ordenada))+r'$'\n",
    "    \n",
    "    d=dict()\n",
    "    \n",
    "    d['tabla_ini']=tabla\n",
    "    d['tabla_ini_latex']=tabulate(tabla, headers=\"keys\", tablefmt=\"latex\",showindex = False).replace('\\\\$','$').replace('textbackslash{}','')\n",
    "    d['tabla_fin_latex']=tabulate(tabla2, headers=\"keys\", tablefmt=\"latex\",showindex = True).replace('\\\\$','$').replace('textbackslash{}','').replace('\\^{}','^')\n",
    "    d['tabla_fin']=tabla2\n",
    "    d['latex']=latex_sol \n",
    "    d['figura']=sns.regplot(x=datos[:,0],y=datos[:,1]).figure\n",
    "    d['parametros']={'media_1':m1, 'media_2':m2,\n",
    "                    'desv_1':s1, 'media_2':s2, 'covarianza':sxy,\n",
    "                    'correl':coefcorr, 'recta':Eq(y,pendiente*x+ordenada)}\n",
    "    \n",
    "    return d\n",
    "\n",
    "# datos_bidimensionales(datos)\n",
    "\n",
    "# f1.savefig('regresion.pgf')\n",
    "\n",
    "# datos_bidimensionales(datos)['figura'].show()"
   ]
  },
  {
   "cell_type": "markdown",
   "metadata": {},
   "source": [
    "Distribuciones bidimensionales \n",
    "En una muestra de diez viviendas de una urbanización se han contabilizado el número de personas (X)que viven en cada una y el número de habitaciones (Y) que tiene. La tabla siguiente contiene los datos recogidos: \n",
    "X 5 3 2 4 1 3 6 2 5 4 Y 5 4 2 4 2 5 5 4 4 5 \n",
    "a) Dibuja el diagrama de dispersión. ¿Existe relación lineal entre las variables? b) Calcula la covarianza y Explica los resultados. "
   ]
  },
  {
   "cell_type": "code",
   "execution_count": 6,
   "metadata": {},
   "outputs": [
    {
     "name": "stdout",
     "output_type": "stream",
     "text": [
      "\\begin{tabular}{lrrrrr}\n",
      "\\hline\n",
      "        &    a &   b &   $a\\cdot b$ &   $a^2$ &   $b^2$ \\\\\n",
      "\\hline\n",
      " 0      &  5   &   5 &         25   &    25   &    25   \\\\\n",
      " 1      &  3   &   4 &         12   &     9   &    16   \\\\\n",
      " 2      &  2   &   2 &          4   &     4   &     4   \\\\\n",
      " 3      &  4   &   4 &         16   &    16   &    16   \\\\\n",
      " 4      &  1   &   2 &          2   &     1   &     4   \\\\\n",
      " 5      &  3   &   5 &         15   &     9   &    25   \\\\\n",
      " 6      &  6   &   5 &         30   &    36   &    25   \\\\\n",
      " 7      &  2   &   4 &          8   &     4   &    16   \\\\\n",
      " 8      &  5   &   4 &         20   &    25   &    16   \\\\\n",
      " 9      &  4   &   5 &         20   &    16   &    25   \\\\\n",
      " Sumas  & 35   &  40 &        152   &   145   &   172   \\\\\n",
      " Medias &  3.5 &   4 &         15.2 &    14.5 &    17.2 \\\\\n",
      "\\hline\n",
      "\\end{tabular}\n",
      "\\\\ \\\\ Las medias son: \\\\$\\overline{a}=\\frac{\\Sigma{a_i}}{N}=\\frac{35.0}{10}=3.5$. $\\overline{b}=\\frac{\\Sigma{b_i}}{N}=\\frac{40.0}{10}=4.0$.  El centro de gravedad es: $(3.5,4.0)$ \\\\ \\\\ Varianzas y covarianzas\\\\ $\\sigma_a=\\sqrt{\\frac{\\sum{a_i^2}}{N}-\\overline{a}^2}=\\sqrt{\\frac{145.0}{10}-3.5^2}=1.5$.\\\\ $\\sigma_b=\\sqrt{\\frac{\\sum{b_i^2}}{N}-\\overline{b}^2}=\\sqrt{\\frac{172.0}{10}-4.0^2}=1.09544511501033$.\\\\ $\\sigma_{ab}=\\frac{\\sum{a_i \\cdot b_i}}{N}-\\overline{a}\\cdot \\overline{b}=\\frac{152.0}{10}-3.5\\cdot 4.0=1.2$. \\\\ \\\\ Correlación\\\\ $r=\\dfrac{\\sigma_{ab}}{\\sigma_a \\cdot \\sigma_b}=\\frac{1.2}{1.5\\cdot 1.09544511501033}=0.730296743340221$. \\\\ \\\\ Recta de regresión: \\\\ La pendiente es: 0.533333333333333, la ordenada en el origen: 2.13333333333333, El coeficiente de correlación:0.730296743340222 y la recta de regresión: $y = 0.533333333333333 x + 2.13333333333333$\n"
     ]
    },
    {
     "data": {
      "text/plain": [
       "array([[5, 5],\n",
       "       [3, 4],\n",
       "       [2, 2],\n",
       "       [4, 4],\n",
       "       [1, 2],\n",
       "       [3, 5],\n",
       "       [6, 5],\n",
       "       [2, 4],\n",
       "       [5, 4],\n",
       "       [4, 5]])"
      ]
     },
     "execution_count": 6,
     "metadata": {},
     "output_type": "execute_result"
    },
    {
     "data": {
      "image/png": "[encoded data removed]",
      "text/plain": [
       "<Figure size 432x288 with 1 Axes>"
      ]
     },
     "metadata": {
      "needs_background": "light"
     },
     "output_type": "display_data"
    }
   ],
   "source": [
    "st='5 3 2 4 1 3 6 2 5 4 5 4 2 4 2 5 5 4 4 5'\n",
    "st = st.split(' ')\n",
    "# int(len(st)/2)\n",
    "datos=np.array(list(map(int, st))).reshape(2,int(len(st)/2)).transpose()\n",
    "%matplotlib inline\n",
    "d = datos_bidimensionales(datos,'a','b')\n",
    "# print(d['tabla_ini_latex'])\n",
    "print(d['tabla_fin_latex'])\n",
    "print(d['latex'])\n",
    "\n",
    "datos\n"
   ]
  },
  {
   "cell_type": "markdown",
   "metadata": {},
   "source": [
    " Se han recogido datos sobre la altura, la talla de calzado y el peso de doce personas en la siguiente tabla:\n",
    "\n",
    "| ALTURA ( cm )   | 180  | 190  | 170  | 169  | 171  | 164  | 165  | 181  | 185  | 195  | 157  | 162  |\n",
    "| --------------- | ---- | ---- | ---- | ---- | ---- | ---- | ---- | ---- | ---- | ---- | ---- | ---- |\n",
    "| TALLA DE ZAPATO | 44   | 44   | 42   | 40   | 41   | 38   | 38   | 43   | 44   | 46   | 35   | 36   |\n",
    "| PESO ( kg )     | 85   | 95   | 68   | 63   | 73   | 59   | 66   | 80   | 83   | 94   | 55   | 60   |\n",
    "\n",
    "a) Halla el coeficiente de correlación entre las variables x-y y entre las variables x-z.\n",
    "b) ¿Qué conclusiones sacas de los resultados obtenidos?\n",
    "Comprueba los resultados con la calculadora."
   ]
  },
  {
   "cell_type": "code",
   "execution_count": 14,
   "metadata": {},
   "outputs": [
    {
     "name": "stdout",
     "output_type": "stream",
     "text": [
      "\\begin{tabular}{lrrrrr}\n",
      "\\hline\n",
      "        &        x &        y &   $x\\cdot y$ &    $x^2$ &    $y^2$ \\\\\n",
      "\\hline\n",
      " 0      &  180     &  44      &      7920    &  32400   &  1936    \\\\\n",
      " 1      &  190     &  44      &      8360    &  36100   &  1936    \\\\\n",
      " 2      &  170     &  42      &      7140    &  28900   &  1764    \\\\\n",
      " 3      &  169     &  40      &      6760    &  28561   &  1600    \\\\\n",
      " 4      &  171     &  41      &      7011    &  29241   &  1681    \\\\\n",
      " 5      &  164     &  38      &      6232    &  26896   &  1444    \\\\\n",
      " 6      &  165     &  38      &      6270    &  27225   &  1444    \\\\\n",
      " 7      &  181     &  43      &      7783    &  32761   &  1849    \\\\\n",
      " 8      &  185     &  44      &      8140    &  34225   &  1936    \\\\\n",
      " 9      &  195     &  46      &      8970    &  38025   &  2116    \\\\\n",
      " 10     &  157     &  35      &      5495    &  24649   &  1225    \\\\\n",
      " 11     &  162     &  36      &      5832    &  26244   &  1296    \\\\\n",
      " Sumas  & 2089     & 491      &     85913    & 365227   & 20227    \\\\\n",
      " Medias &  174.083 &  40.9167 &      7159.42 &  30435.6 &  1685.58 \\\\\n",
      "\\hline\n",
      "\\end{tabular}\n",
      "\\\\ \\\\ Las medias son: \\\\$\\overline{x}=\\frac{\\Sigma{x_i}}{N}=\\frac{2089.0}{12}=174.083333333333$. $\\overline{y}=\\frac{\\Sigma{y_i}}{N}=\\frac{491.0}{12}=40.9166666666667$.  El centro de gravedad es: $(174.083333333333,40.9166666666667)$ \\\\ \\\\ Varianzas y covarianzas: \\\\ $\\sigma_x=\\sqrt{\\frac{\\sum{x_i^2}}{N}-\\overline{x}^2}=\\sqrt{\\frac{365227.0}{12}-174.083333333333^2}=11.4270026204987$.\\\\ $\\sigma_y=\\sqrt{\\frac{\\sum{y_i^2}}{N}-\\overline{y}^2}=\\sqrt{\\frac{20227.0}{12}-40.9166666666667^2}=3.3778280332519$.\\\\ $\\sigma_{xy}=\\frac{\\sum{x_i \\cdot y_i}}{N}-\\overline{x}\\cdot \\overline{y}=\\frac{85913.0}{12}-174.083333333333\\cdot 40.9166666666667=36.5069444444443$. \\\\ \\\\ Correlación: \\\\ $r=\\dfrac{\\sigma_{xy}}{\\sigma_x \\cdot \\sigma_y}=\\frac{36.5069444444443}{11.4270026204987\\cdot 3.3778280332519}=0.945813747582349$. \\\\ \\\\ Recta de regresión: \\\\ La pendiente es: 0.279583045258735, la ordenada en el origen: -7.75408179545818, El coeficiente de correlación:0.945813747582338 y la recta de regresión: $y = 0.279583045258735 x - 7.75408179545818$\n",
      "\\begin{tabular}{lrrrrr}\n",
      "\\hline\n",
      "        &        x &        z &   $x\\cdot z$ &    $x^2$ &    $z^2$ \\\\\n",
      "\\hline\n",
      " 0      &  180     &  85      &      15300   &  32400   &  7225    \\\\\n",
      " 1      &  190     &  95      &      18050   &  36100   &  9025    \\\\\n",
      " 2      &  170     &  68      &      11560   &  28900   &  4624    \\\\\n",
      " 3      &  169     &  63      &      10647   &  28561   &  3969    \\\\\n",
      " 4      &  171     &  73      &      12483   &  29241   &  5329    \\\\\n",
      " 5      &  164     &  59      &       9676   &  26896   &  3481    \\\\\n",
      " 6      &  165     &  66      &      10890   &  27225   &  4356    \\\\\n",
      " 7      &  181     &  80      &      14480   &  32761   &  6400    \\\\\n",
      " 8      &  185     &  83      &      15355   &  34225   &  6889    \\\\\n",
      " 9      &  195     &  94      &      18330   &  38025   &  8836    \\\\\n",
      " 10     &  157     &  55      &       8635   &  24649   &  3025    \\\\\n",
      " 11     &  162     &  60      &       9720   &  26244   &  3600    \\\\\n",
      " Sumas  & 2089     & 881      &     155126   & 365227   & 66759    \\\\\n",
      " Medias &  174.083 &  73.4167 &      12927.2 &  30435.6 &  5563.25 \\\\\n",
      "\\hline\n",
      "\\end{tabular}\n",
      "\\\\ \\\\ Las medias son: \\\\$\\overline{x}=\\frac{\\Sigma{x_i}}{N}=\\frac{2089.0}{12}=174.083333333333$. $\\overline{z}=\\frac{\\Sigma{z_i}}{N}=\\frac{881.0}{12}=73.4166666666667$.  El centro de gravedad es: $(174.083333333333,73.4166666666667)$ \\\\ \\\\ Varianzas y covarianzas: \\\\ $\\sigma_x=\\sqrt{\\frac{\\sum{x_i^2}}{N}-\\overline{x}^2}=\\sqrt{\\frac{365227.0}{12}-174.083333333333^2}=11.4270026204987$.\\\\ $\\sigma_z=\\sqrt{\\frac{\\sum{z_i^2}}{N}-\\overline{z}^2}=\\sqrt{\\frac{66759.0}{12}-73.4166666666667^2}=13.1621827808139$.\\\\ $\\sigma_{xz}=\\frac{\\sum{x_i \\cdot z_i}}{N}-\\overline{x}\\cdot \\overline{z}=\\frac{155126.0}{12}-174.083333333333\\cdot 73.4166666666667=146.548611111109$. \\\\ \\\\ Correlación: \\\\ $r=\\dfrac{\\sigma_{xz}}{\\sigma_x \\cdot \\sigma_z}=\\frac{146.548611111109}{11.4270026204987\\cdot 13.1621827808139}=0.974364522222019$. \\\\ \\\\ Recta de regresión: \\\\ La pendiente es: 1.12232090623837, la ordenada en el origen: -121.960697760996, El coeficiente de correlación:0.974364522222007 y la recta de regresión: $y = 1.12232090623837 x - 121.960697760996$\n"
     ]
    },
    {
     "data": {
      "text/plain": [
       "({'media_1': 174.08333333333334,\n",
       "  'media_2': 3.37782803325190,\n",
       "  'desv_1': 11.4270026204987,\n",
       "  'covarianza': 36.50694444444434,\n",
       "  'correl': 0.9458137475823382,\n",
       "  'recta': Eq(y, 0.279583045258735*x - 7.75408179545818)},\n",
       " {'media_1': 174.08333333333334,\n",
       "  'media_2': 13.1621827808139,\n",
       "  'desv_1': 11.4270026204987,\n",
       "  'covarianza': 146.5486111111095,\n",
       "  'correl': 0.9743645222220068,\n",
       "  'recta': Eq(y, 1.12232090623837*x - 121.960697760996)})"
      ]
     },
     "execution_count": 14,
     "metadata": {},
     "output_type": "execute_result"
    },
    {
     "data": {
      "image/png": "[encoded data removed]",
      "text/plain": [
       "<Figure size 432x288 with 1 Axes>"
      ]
     },
     "metadata": {
      "needs_background": "light"
     },
     "output_type": "display_data"
    }
   ],
   "source": [
    "st='180\t190\t170\t169\t171\t164\t165\t181\t185\t195\t157\t162'\n",
    "st=st.split('\\t')\n",
    "lx = list(map(int,st))\n",
    "\n",
    "st='44\t44\t42\t40\t41\t38\t38\t43\t44\t46\t35\t36'\n",
    "st=st.split('\\t')\n",
    "ly = list(map(int,st))\n",
    "\n",
    "st='85\t95\t68\t63\t73\t59\t66\t80\t83\t94\t55\t60'\n",
    "st=st.split('\\t')\n",
    "lz = list(map(int,st))\n",
    "\n",
    "datos = np.array([lx,ly,lz])\n",
    "\n",
    "datos1=datos[:-1].transpose()\n",
    "datos2=datos[[0,2]].transpose()\n",
    "\n",
    "\n",
    "%matplotlib inline\n",
    "\n",
    "d1 = datos_bidimensionales(datos1,'x','y')\n",
    "# print(d['tabla_ini_latex'])\n",
    "print(d1['tabla_fin_latex'])\n",
    "print(d1['latex'])\n",
    "\n",
    "\n",
    "d2 = datos_bidimensionales(datos2,'x','z')\n",
    "# print(d['tabla_ini_latex'])\n",
    "print(d2['tabla_fin_latex'])\n",
    "print(d2['latex'])\n",
    "\n",
    "d1['parametros'],d2['parametros']\n",
    "\n"
   ]
  },
  {
   "cell_type": "markdown",
   "metadata": {},
   "source": [
    "# Ejercicio:\n",
    "\n",
    "Las notas en matemáticas, física y lengua de 3 alumnos han sido\n",
    "\n",
    "Alumno1: 9, 8 , 6\n",
    "Alumno2: 7, 7, 3\n",
    "Alumno3: 4, 5, 9\n",
    "\n"
   ]
  },
  {
   "cell_type": "code",
   "execution_count": 3,
   "metadata": {},
   "outputs": [
    {
     "name": "stdout",
     "output_type": "stream",
     "text": [
      "\\begin{tabular}{lrrrrr}\n",
      "\\hline\n",
      "        &        x &        y &   $x\\cdot y$ &    $x^2$ &   $y^2$ \\\\\n",
      "\\hline\n",
      " 0      &  9       &  8       &           72 &  81      &      64 \\\\\n",
      " 1      &  7       &  7       &           49 &  49      &      49 \\\\\n",
      " 2      &  4       &  5       &           20 &  16      &      25 \\\\\n",
      " Sumas  & 20       & 20       &          141 & 146      &     138 \\\\\n",
      " Medias &  6.66667 &  6.66667 &           47 &  48.6667 &      46 \\\\\n",
      "\\hline\n",
      "\\end{tabular}\n",
      "\\\\ \\\\ Las medias son: \\\\$\\overline{x}=\\frac{\\Sigma{x_i}}{N}=\\frac{20.0}{3}=6.66666666666667$. $\\overline{y}=\\frac{\\Sigma{y_i}}{N}=\\frac{20.0}{3}=6.66666666666667$.  El centro de gravedad es: $(6.66666666666667,6.66666666666667)$ \\\\ \\\\ Varianzas y covarianzas: \\\\ $\\sigma_x=\\sqrt{\\frac{\\sum{x_i^2}}{N}-\\overline{x}^2}=\\sqrt{\\frac{146.0}{3}-6.66666666666667^2}=2.05480466765632$.\\\\ $\\sigma_y=\\sqrt{\\frac{\\sum{y_i^2}}{N}-\\overline{y}^2}=\\sqrt{\\frac{138.0}{3}-6.66666666666667^2}=1.24721912892464$.\\\\ $\\sigma_{xy}=\\frac{\\sum{x_i \\cdot y_i}}{N}-\\overline{x}\\cdot \\overline{y}=\\frac{141.0}{3}-6.66666666666667\\cdot 6.66666666666667=2.55555555555555$. \\\\ \\\\ Correlación: \\\\ $r=\\dfrac{\\sigma_{xy}}{\\sigma_x \\cdot \\sigma_y}=\\frac{2.55555555555555}{2.05480466765632\\cdot 1.24721912892464}=0.997176464952739$. \\\\ \\\\ Recta de regresión: \\\\ La pendiente es: 0.605263157894737, la ordenada en el origen: 2.63157894736842, El coeficiente de correlación:0.997176464952738 y la recta de regresión: $y = 0.605263157894737 x + 2.63157894736842$\n",
      "\\begin{tabular}{lrrrrr}\n",
      "\\hline\n",
      "        &        x &   z &   $x\\cdot z$ &    $x^2$ &   $z^2$ \\\\\n",
      "\\hline\n",
      " 0      &  9       &   6 &           54 &  81      &      36 \\\\\n",
      " 1      &  7       &   3 &           21 &  49      &       9 \\\\\n",
      " 2      &  4       &   9 &           36 &  16      &      81 \\\\\n",
      " Sumas  & 20       &  18 &          111 & 146      &     126 \\\\\n",
      " Medias &  6.66667 &   6 &           37 &  48.6667 &      42 \\\\\n",
      "\\hline\n",
      "\\end{tabular}\n",
      "\\\\ \\\\ Las medias son: \\\\$\\overline{x}=\\frac{\\Sigma{x_i}}{N}=\\frac{20.0}{3}=6.66666666666667$. $\\overline{z}=\\frac{\\Sigma{z_i}}{N}=\\frac{18.0}{3}=6.0$.  El centro de gravedad es: $(6.66666666666667,6.0)$ \\\\ \\\\ Varianzas y covarianzas: \\\\ $\\sigma_x=\\sqrt{\\frac{\\sum{x_i^2}}{N}-\\overline{x}^2}=\\sqrt{\\frac{146.0}{3}-6.66666666666667^2}=2.05480466765632$.\\\\ $\\sigma_z=\\sqrt{\\frac{\\sum{z_i^2}}{N}-\\overline{z}^2}=\\sqrt{\\frac{126.0}{3}-6.0^2}=2.44948974278318$.\\\\ $\\sigma_{xz}=\\frac{\\sum{x_i \\cdot z_i}}{N}-\\overline{x}\\cdot \\overline{z}=\\frac{111.0}{3}-6.66666666666667\\cdot 6.0=-3.0$. \\\\ \\\\ Correlación: \\\\ $r=\\dfrac{\\sigma_{xz}}{\\sigma_x \\cdot \\sigma_z}=\\frac{-3.0}{2.05480466765632\\cdot 2.44948974278318}=-0.59603956067927$. \\\\ \\\\ Recta de regresión: \\\\ La pendiente es: -0.710526315789474, la ordenada en el origen: 10.7368421052632, El coeficiente de correlación:-0.59603956067927 y la recta de regresión: $y = 10.7368421052632 - 0.710526315789474 x$\n"
     ]
    },
    {
     "data": {
      "text/plain": [
       "({'media_1': 6.666666666666667,\n",
       "  'media_2': 1.24721912892464,\n",
       "  'desv_1': 2.05480466765632,\n",
       "  'covarianza': 2.55555555555555,\n",
       "  'correl': 0.997176464952738,\n",
       "  'recta': Eq(y, 0.605263157894737*x + 2.63157894736842)},\n",
       " {'media_1': 6.666666666666667,\n",
       "  'media_2': 2.44948974278318,\n",
       "  'desv_1': 2.05480466765632,\n",
       "  'covarianza': -3.0,\n",
       "  'correl': -0.5960395606792698,\n",
       "  'recta': Eq(y, 10.7368421052632 - 0.710526315789474*x)})"
      ]
     },
     "execution_count": 3,
     "metadata": {},
     "output_type": "execute_result"
    }
   ],
   "source": [
    "st ='9, 8 , 6, 7, 7, 3, 4, 5, 9'\n",
    "datos=np.array(list(map(int,st.split(',')))).reshape(3,int(len(st.split(','))/3)).transpose()\n",
    "\n",
    "\n",
    "datos1=datos[:-1].transpose()\n",
    "datos2=datos[[0,2]].transpose()\n",
    "\n",
    "d1 = datos_bidimensionales(datos1,'x','y')\n",
    "# print(d['tabla_ini_latex'])\n",
    "print(d1['tabla_fin_latex'])\n",
    "print(d1['latex'])\n",
    "\n",
    "\n",
    "d2 = datos_bidimensionales(datos2,'x','z')\n",
    "# print(d['tabla_ini_latex'])\n",
    "print(d2['tabla_fin_latex'])\n",
    "print(d2['latex'])\n",
    "\n",
    "d1['parametros'],d2['parametros']"
   ]
  },
  {
   "cell_type": "code",
   "execution_count": 8,
   "metadata": {},
   "outputs": [
    {
     "data": {
      "text/plain": [
       "'y = 6.47368421052632'"
      ]
     },
     "execution_count": 8,
     "metadata": {},
     "output_type": "execute_result"
    }
   ],
   "source": [
    "latex(d2['parametros']['recta'].subs(x,6))"
   ]
  }
 ],
 "metadata": {
  "kernelspec": {
   "display_name": "Python 3",
   "language": "python",
   "name": "python3"
  },
  "language_info": {
   "codemirror_mode": {
    "name": "ipython",
    "version": 3
   },
   "file_extension": ".py",
   "mimetype": "text/x-python",
   "name": "python",
   "nbconvert_exporter": "python",
   "pygments_lexer": "ipython3",
   "version": "3.6.13"
  }
 },
 "nbformat": 4,
 "nbformat_minor": 2
}
