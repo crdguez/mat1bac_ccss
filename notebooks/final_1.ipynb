{
 "cells": [
  {
   "cell_type": "code",
   "execution_count": 1,
   "id": "207ba5bc",
   "metadata": {},
   "outputs": [
    {
     "name": "stdout",
     "output_type": "stream",
     "text": [
      "IPython console for SymPy 1.8 (Python 3.6.13-64-bit) (ground types: gmpy)\n",
      "\n",
      "These commands were executed:\n",
      ">>> from __future__ import division\n",
      ">>> from sympy import *\n",
      ">>> x, y, z, t = symbols('x y z t')\n",
      ">>> k, m, n = symbols('k m n', integer=True)\n",
      ">>> f, g, h = symbols('f g h', cls=Function)\n",
      ">>> init_printing()\n",
      "\n",
      "Documentation can be found at https://docs.sympy.org/1.8/\n",
      "\n"
     ]
    }
   ],
   "source": [
    "from sympy import *\n",
    "from sympy.parsing.latex import parse_latex\n",
    "from IPython.display import Markdown as md\n",
    "init_session()"
   ]
  },
  {
   "cell_type": "code",
   "execution_count": 3,
   "id": "34fa2c40",
   "metadata": {},
   "outputs": [],
   "source": [
    "def latex_exam(question, parts):\n",
    "    tex=r\"\\question \"+question+r\"\\begin{parts} \"\n",
    "    for p in parts :\n",
    "        tex+=r\"\\part[1] \"+p[0]+r\"\\begin{solution} \"+p[1]+r\"\\end{solution} \" \n",
    "    tex+=r\"\\end{parts} \"\n",
    "    \n",
    "    return tex\n",
    "\n",
    "def mostrar_ejercicio(ejercicio,solucion,tipo=0) :\n",
    "    #tipo=0 se pasa el ejercicio y la solucion en formato latex\n",
    "    if tipo == 0 :\n",
    "        display(md(\"#### Ejercicio:\"))\n",
    "        display(md(r\"{} $\\to$ {}\".format(ejercicio, solucion)))\n",
    "        print(\"enunciado_latex: \" + ejercicio)\n",
    "        print(\"solucion_latex: \" + solucion)\n",
    "        return ejercicio, solucion\n",
    "    elif tipo == 1:\n",
    "        # falta desarrollar ...\n",
    "        display(md(\"#### Ejercicio:\"))\n",
    "        display(md(r\"{} $\\to$ {}\".format(ejercicio, solucion)))\n",
    "        print(\"enunciado_latex: \" + ejercicio)\n",
    "        print(\"solucion_latex: \" + solucion)\n",
    "        return ejercicio, solucion"
   ]
  },
  {
   "cell_type": "code",
   "execution_count": 52,
   "id": "c8fd96f4",
   "metadata": {},
   "outputs": [],
   "source": [
    "def sistema_a_latex(sist) :\n",
    "    \"\"\"\n",
    "    Convierte un sistema Sympy a código LaTeX\n",
    "    \"\"\"\n",
    "    sist_latex = r\"$\\left\\{ \\begin{matrix}\"\n",
    "    for e in sist:\n",
    "        sist_latex += latex(e)+r\" \\\\ \"  \n",
    "    sist_latex += r\"\\end{matrix}\\right.$\"\n",
    "    return(sist_latex)"
   ]
  },
  {
   "cell_type": "code",
   "execution_count": 8,
   "id": "91684b77",
   "metadata": {},
   "outputs": [
    {
     "name": "stdout",
     "output_type": "stream",
     "text": [
      "enunciado: \\frac{x}{{x + 1}} + \\frac{{3x}}{{{x^2} - 1}} - \\frac{1}{{x - 1}}\n",
      "solución:\\frac{x^{2} + x - 1}{x^{2} - 1}\n",
      "----------\n",
      "enunciado: \\frac{x}{{{x^2} - 5x + 6}} + \\frac{2}{{x - 3}} - \\frac{3}{{x - 2}}\n",
      "solución:\\frac{5}{x^{2} - 5 x + 6}\n",
      "----------\n",
      "enunciado: \\frac{2}{{x - 2}} + \\frac{1}{{x + 2}} - \\frac{{x - 1}}{{{x^2} - 4}}\n",
      "solución:\\frac{2 x + 3}{x^{2} - 4}\n",
      "----------\n",
      "enunciado: \\frac{x}{{{x^2} - 9x + 20}} - \\frac{1}{{{x^2} - 11x + 30}} + \\frac{2}{{{x^2} - 10x + 24}}\n",
      "solución:\\frac{x + 1}{x^{2} - 9 x + 20}\n",
      "----------\n",
      "enunciado: \\frac{{{x^2} + 3x + 2}}{{{x^2} - 3x + 2}} \\cdot \\frac{{{x^2} - 1}}{{{x^2} - x - 6}}\n",
      "solución:\\frac{x^{2} + 2 x + 1}{x^{2} - 5 x + 6}\n",
      "----------\n",
      "enunciado: \\frac{{3x - 2}}{{10x + 4}} \\cdot \\frac{{4x}}{{6x - 4}}\n",
      "solución:\\frac{x}{5 x + 2}\n",
      "----------\n",
      "enunciado: \\frac{{3{x^2} + 5x - 2}}{{{x^4} + 2{x^2} - 15}}:\\frac{{9{x^2} - 6x + 1}}{{{x^4} + 5{x^2}}}\n",
      "solución:\\frac{x^{2} \\left(x + 2\\right)}{3 x^{3} - x^{2} - 9 x + 3}\n",
      "----------\n",
      "enunciado: \\frac{x}{{{x^2} + 5x + 6}} - \\frac{2}{{x + 2}} + \\frac{3}{{x + 3}}\n",
      "solución:\\frac{2 x}{x^{2} + 5 x + 6}\n",
      "----------\n",
      "enunciado: \\frac{{{x^2} - 2x - 3}}{{{x^2} - 5x}} \\cdot \\frac{{{x^2} - 4x - 5}}{{{x^2} - 4x + 3}}\n",
      "solución:\\frac{x^{2} + 2 x + 1}{x \\left(x - 1\\right)}\n",
      "----------\n",
      "enunciado: \\frac{{{x^2} - 4}}{{{x^3} - {x^2} + 3x - 3}}:\\frac{{{x^2} - 3x + 2}}{{{x^3} + 3x}}\n",
      "solución:\\frac{x \\left(x + 2\\right)}{x^{2} - 2 x + 1}\n",
      "----------\n",
      "enunciado: \\frac{x}{{{x^2} - 2x + 1}} - \\frac{{x - 3}}{{{x^2} - x}}\n",
      "solución:\\frac{4 x - 3}{x \\left(x^{2} - 2 x + 1\\right)}\n",
      "----------\n",
      "enunciado: \\frac{{x + 1}}{{{x^2} - 4}} + \\frac{{2x - 1}}{{{x^2} + 2x}} + \\frac{{3x - 2}}{{{x^2} - 2x}}\n",
      "solución:\\frac{2 \\left(3 x^{2} - 1\\right)}{x \\left(x^{2} - 4\\right)}\n",
      "----------\n",
      "enunciado: \\frac{{\\frac{{x + 1}}{{{x^2}}}}}{{\\frac{{{x^2} - 1}}{{{x^3}}}}}\n",
      "solución:\\frac{x}{x - 1}\n",
      "----------\n",
      "enunciado: ( {\\frac{1}{{{x^2} - 1}}} ):\\frac{1}{{\\frac{1}{{1 + {x^2}}} + \\frac{{2{x^2}}}{{1 - {x^4}}}}}\n",
      "solución:- \\frac{1}{x^{4} - 2 x^{2} + 1}\n",
      "----------\n",
      "enunciado: \\frac{x}{{1 + \\frac{1}{{1 + \\frac{1}{x}}}}}\n",
      "solución:\\frac{x \\left(x + 1\\right)}{2 x + 1}\n",
      "----------\n",
      "enunciado: \\frac{{\\frac{1}{{x - 2}} - \\frac{1}{{x + 2}}}}{{1 - \\frac{4}{{{x^2} - 4}}}}\n",
      "solución:\\frac{4}{x^{2} - 8}\n",
      "----------\n",
      "enunciado: \\frac{1}{{\\frac{{x + 1}}{{x - 1}} - \\frac{{x - 1}}{{x + 1}}}}\n",
      "solución:\\frac{x^{2} - 1}{4 x}\n",
      "----------\n",
      "enunciado: ( {{x^3} + x} ):( {1 - \\frac{{2x}}{{2x + \\frac{2}{x}}}})\n",
      "solución:x^{5} + 2 x^{3} + x\n",
      "----------\n",
      "enunciado: ( {\\frac{1}{x} - \\frac{1}{{x + 1}}})( {x - \\frac{{x + 1}}{{x - 1}}})\n",
      "solución:\\frac{x^{2} - 2 x - 1}{x^{3} - x}\n",
      "----------\n",
      "enunciado: \\frac{1}{x}( {\\frac{2}{x} - \\frac{3}{{x + 1}}} ) - \\frac{{x + 1}}{x}( {3 - \\frac{4}{{x + 1}}} )\n",
      "solución:\\frac{- 3 x^{3} - 2 x^{2} + 2}{x^{2} \\left(x + 1\\right)}\n",
      "----------\n",
      "enunciado: \\frac{{\\frac{{x - 1}}{{x + 2}} - \\frac{{x + 2}}{{x - 1}}}}{{1 - \\frac{1}{{x - 1}}}}\n",
      "solución:- \\frac{6 x + 3}{x^{2} - 4}\n",
      "----------\n"
     ]
    }
   ],
   "source": [
    "# fracciones algebraicas\n",
    "\n",
    "enunciado_latex = [r'\\frac{x}{{x + 1}} + \\frac{{3x}}{{{x^2} - 1}} - \\frac{1}{{x - 1}}',\n",
    "                   r'\\frac{x}{{{x^2} - 5x + 6}} + \\frac{2}{{x - 3}} - \\frac{3}{{x - 2}}',\n",
    "                   r'\\frac{2}{{x - 2}} + \\frac{1}{{x + 2}} - \\frac{{x - 1}}{{{x^2} - 4}}',\n",
    "                   r'\\frac{x}{{{x^2} - 9x + 20}} - \\frac{1}{{{x^2} - 11x + 30}} + \\frac{2}{{{x^2} - 10x + 24}}',\n",
    "                   r'\\frac{{{x^2} + 3x + 2}}{{{x^2} - 3x + 2}} \\cdot \\frac{{{x^2} - 1}}{{{x^2} - x - 6}}',\n",
    "                   r'\\frac{{3x - 2}}{{10x + 4}} \\cdot \\frac{{4x}}{{6x - 4}}',\n",
    "                   r'\\frac{{3{x^2} + 5x - 2}}{{{x^4} + 2{x^2} - 15}}:\\frac{{9{x^2} - 6x + 1}}{{{x^4} + 5{x^2}}}',\n",
    "                   r'\\frac{x}{{{x^2} + 5x + 6}} - \\frac{2}{{x + 2}} + \\frac{3}{{x + 3}}',\n",
    "                   r'\\frac{{{x^2} - 2x - 3}}{{{x^2} - 5x}} \\cdot \\frac{{{x^2} - 4x - 5}}{{{x^2} - 4x + 3}}',\n",
    "                   r'\\frac{{{x^2} - 4}}{{{x^3} - {x^2} + 3x - 3}}:\\frac{{{x^2} - 3x + 2}}{{{x^3} + 3x}}',\n",
    "                   r'\\frac{x}{{{x^2} - 2x + 1}} - \\frac{{x - 3}}{{{x^2} - x}}',\n",
    "                   r'\\frac{{x + 1}}{{{x^2} - 4}} + \\frac{{2x - 1}}{{{x^2} + 2x}} + \\frac{{3x - 2}}{{{x^2} - 2x}}',\n",
    "                   r'\\frac{{\\frac{{x + 1}}{{{x^2}}}}}{{\\frac{{{x^2} - 1}}{{{x^3}}}}}',\n",
    "                   r'( {\\frac{1}{{{x^2} - 1}}} ):\\frac{1}{{\\frac{1}{{1 + {x^2}}} + \\frac{{2{x^2}}}{{1 - {x^4}}}}}',\n",
    "                   r'\\frac{x}{{1 + \\frac{1}{{1 + \\frac{1}{x}}}}}',\n",
    "                   r'\\frac{{\\frac{1}{{x - 2}} - \\frac{1}{{x + 2}}}}{{1 - \\frac{4}{{{x^2} - 4}}}}',\n",
    "                   r'\\frac{1}{{\\frac{{x + 1}}{{x - 1}} - \\frac{{x - 1}}{{x + 1}}}}',\n",
    "                   r'( {{x^3} + x} ):( {1 - \\frac{{2x}}{{2x + \\frac{2}{x}}}})',\n",
    "                   r'( {\\frac{1}{x} - \\frac{1}{{x + 1}}})( {x - \\frac{{x + 1}}{{x - 1}}})',\n",
    "                   r'\\frac{1}{x}( {\\frac{2}{x} - \\frac{3}{{x + 1}}} ) - \\frac{{x + 1}}{x}( {3 - \\frac{4}{{x + 1}}} )',\n",
    "                   r'\\frac{{\\frac{{x - 1}}{{x + 2}} - \\frac{{x + 2}}{{x - 1}}}}{{1 - \\frac{1}{{x - 1}}}}'\n",
    "                   \n",
    "                  ]\n",
    "\n",
    "for f in enunciado_latex:\n",
    "    print('enunciado: '+ f)\n",
    "    print('solución:' + latex(simplify(parse_latex(f))))\n",
    "    print('----------')"
   ]
  },
  {
   "cell_type": "markdown",
   "id": "63670209",
   "metadata": {},
   "source": [
    "Ejercicio nº 1.-\n",
    "\n",
    "\n",
    "En un examen tipo test, que constaba de 40 preguntas, era obligatorio responder a todas. Cada pregunta acertada se valoró con un punto, pero cada fallo restaba medio punto. Sabiendo que la puntuación total que obtuvo Pablo fue de 32,5 puntos, ¿cuántas preguntas acertó?\n",
    "\n",
    "\n",
    "\n",
    "\n",
    "Ejercicio nº 2.-\n",
    "\n",
    "\n",
    "Cristina tiene 8 años más que Carlos, y hace 2 años tenía el doble de edad que él. ¿Cuántos años tiene actualmente cada uno?\n",
    "\n",
    "\n",
    "\n",
    "\n",
    "Ejercicio nº 3.-\n",
    "\n",
    "\n",
    "La altura de un triángulo equilátero mide $\\sqrt{3}$ cm. Calcula las dimensiones de dicho triángulo.\n",
    "\n",
    "\n",
    "\n",
    "\n",
    "Ejercicio nº 4.-\n",
    "\n",
    "\n",
    "Dos grifos abiertos de forma simultánea llenan un depósito en dos horas y cuarto. Sabiendo que el tiempo que tarda uno de los grifos es el cuadrado del tiempo que tarda el otro, calcula cuánto tarda cada grifo, por separado, en llenar el depósito.\n",
    "\n",
    "\n",
    "\n",
    "\n",
    "Ejercicio nº 5.-\n",
    "\n",
    "\n",
    "\n",
    "Un padre ha comprado un jersey para cada uno de sus cinco hijos, gastándose en total 108,75 euros. Tres de los jerséis tenían un 15\\% de descuento, y otro de ellos tenía un 20\\% de descuento. Sabiendo que inicialmente costaban lo mismo, ¿cuánto ha tenido que pagar por cada jersey?"
   ]
  },
  {
   "cell_type": "code",
   "execution_count": 66,
   "id": "fb9e111b",
   "metadata": {},
   "outputs": [
    {
     "data": {
      "text/markdown": [
       "#### Ejercicio:"
      ],
      "text/plain": [
       "<IPython.core.display.Markdown object>"
      ]
     },
     "metadata": {},
     "output_type": "display_data"
    },
    {
     "data": {
      "text/markdown": [
       "En un examen tipo test, que constaba de 40 preguntas, era obligatorio responder a todas. \n",
       "    Cada pregunta acertada se valoró con un punto, pero cada fallo restaba medio punto. \n",
       "    Sabiendo que la puntuación total que obtuvo Pablo fue de 32.5 puntos, \n",
       "    ¿cuántas preguntas acertó? $\\to$ $\\left\\{ \\begin{matrix}x + y = 40 \\\\ x - \\frac{y}{2} = 32.5 \\\\ \\end{matrix}\\right.$$\\to \\left\\{ x : 35.0, \\  y : 5.0\\right\\}$"
      ],
      "text/plain": [
       "<IPython.core.display.Markdown object>"
      ]
     },
     "metadata": {},
     "output_type": "display_data"
    },
    {
     "name": "stdout",
     "output_type": "stream",
     "text": [
      "enunciado_latex: En un examen tipo test, que constaba de 40 preguntas, era obligatorio responder a todas. \n",
      "    Cada pregunta acertada se valoró con un punto, pero cada fallo restaba medio punto. \n",
      "    Sabiendo que la puntuación total que obtuvo Pablo fue de 32.5 puntos, \n",
      "    ¿cuántas preguntas acertó?\n",
      "solucion_latex: $\\left\\{ \\begin{matrix}x + y = 40 \\\\ x - \\frac{y}{2} = 32.5 \\\\ \\end{matrix}\\right.$$\\to \\left\\{ x : 35.0, \\  y : 5.0\\right\\}$\n"
     ]
    },
    {
     "data": {
      "text/markdown": [
       "#### Ejercicio:"
      ],
      "text/plain": [
       "<IPython.core.display.Markdown object>"
      ]
     },
     "metadata": {},
     "output_type": "display_data"
    },
    {
     "data": {
      "text/markdown": [
       "En un examen tipo test, que constaba de 60 preguntas, era obligatorio responder a todas. \n",
       "    Cada pregunta acertada se valoró con un punto, pero cada fallo restaba medio punto. \n",
       "    Sabiendo que la puntuación total que obtuvo Pablo fue de 22.5 puntos, \n",
       "    ¿cuántas preguntas acertó? $\\to$ $\\left\\{ \\begin{matrix}x + y = 60 \\\\ x - \\frac{y}{2} = 22.5 \\\\ \\end{matrix}\\right.$$\\to \\left\\{ x : 35.0, \\  y : 25.0\\right\\}$"
      ],
      "text/plain": [
       "<IPython.core.display.Markdown object>"
      ]
     },
     "metadata": {},
     "output_type": "display_data"
    },
    {
     "name": "stdout",
     "output_type": "stream",
     "text": [
      "enunciado_latex: En un examen tipo test, que constaba de 60 preguntas, era obligatorio responder a todas. \n",
      "    Cada pregunta acertada se valoró con un punto, pero cada fallo restaba medio punto. \n",
      "    Sabiendo que la puntuación total que obtuvo Pablo fue de 22.5 puntos, \n",
      "    ¿cuántas preguntas acertó?\n",
      "solucion_latex: $\\left\\{ \\begin{matrix}x + y = 60 \\\\ x - \\frac{y}{2} = 22.5 \\\\ \\end{matrix}\\right.$$\\to \\left\\{ x : 35.0, \\  y : 25.0\\right\\}$\n"
     ]
    }
   ],
   "source": [
    "lista_datos= [[40, 32.5],[60, 22.5]]\n",
    "\n",
    "for datos in lista_datos:\n",
    "    enunciado = r\"\"\"En un examen tipo test, que constaba de {} preguntas, era obligatorio responder a todas. \n",
    "    Cada pregunta acertada se valoró con un punto, pero cada fallo restaba medio punto. \n",
    "    Sabiendo que la puntuación total que obtuvo Pablo fue de {} puntos, \n",
    "    ¿cuántas preguntas acertó?\"\"\". format(datos[0],datos[1])\n",
    "\n",
    "    # print(enunciado)\n",
    "\n",
    "    sistema = [Eq(x+y,datos[0]),Eq(x-Rational(1,2)*y,datos[1])]\n",
    "    solucion = sistema_a_latex(sistema)+r'$\\to '+latex(solve(sistema))+r'$'\n",
    "    mostrar_ejercicio(enunciado, solucion)\n",
    "\n",
    "\n"
   ]
  },
  {
   "cell_type": "code",
   "execution_count": 63,
   "id": "8fcdfa4d",
   "metadata": {},
   "outputs": [
    {
     "data": {
      "text/markdown": [
       "#### Ejercicio:"
      ],
      "text/plain": [
       "<IPython.core.display.Markdown object>"
      ]
     },
     "metadata": {},
     "output_type": "display_data"
    },
    {
     "data": {
      "text/markdown": [
       "Cristina tiene 8 años más que Carlos, y hace 2 años tenía el doble de edad que él. ¿Cuántos años tiene actualmente cada uno?\n",
       " $\\to$ $\\left\\{ \\begin{matrix}y = x + 8 \\\\ y - 2 = 2 x - 4 \\\\ \\end{matrix}\\right.$$\\to \\left\\{ x : 10, \\  y : 18\\right\\}$"
      ],
      "text/plain": [
       "<IPython.core.display.Markdown object>"
      ]
     },
     "metadata": {},
     "output_type": "display_data"
    },
    {
     "name": "stdout",
     "output_type": "stream",
     "text": [
      "enunciado_latex: Cristina tiene 8 años más que Carlos, y hace 2 años tenía el doble de edad que él. ¿Cuántos años tiene actualmente cada uno?\n",
      "\n",
      "solucion_latex: $\\left\\{ \\begin{matrix}y = x + 8 \\\\ y - 2 = 2 x - 4 \\\\ \\end{matrix}\\right.$$\\to \\left\\{ x : 10, \\  y : 18\\right\\}$\n"
     ]
    }
   ],
   "source": [
    "lista_datos= [[8,2]]\n",
    "\n",
    "for datos in lista_datos:\n",
    "    enunciado = r\"\"\"Cristina tiene {} años más que Carlos, y hace {} años tenía el doble de edad que él. ¿Cuántos años tiene actualmente cada uno?\n",
    "\"\"\". format(datos[0],datos[1])\n",
    "\n",
    "    # print(enunciado)\n",
    "\n",
    "    sistema = [Eq(y,x+datos[0]),Eq(y-datos[1],2*(x-datos[1]))]\n",
    "    solucion = sistema_a_latex(sistema)+r'$\\to '+latex(solve(sistema))+r'$'\n",
    "    mostrar_ejercicio(enunciado, solucion)\n",
    "\n",
    "\n"
   ]
  },
  {
   "cell_type": "code",
   "execution_count": 68,
   "id": "01be56e1",
   "metadata": {},
   "outputs": [
    {
     "data": {
      "text/markdown": [
       "#### Ejercicio:"
      ],
      "text/plain": [
       "<IPython.core.display.Markdown object>"
      ]
     },
     "metadata": {},
     "output_type": "display_data"
    },
    {
     "data": {
      "text/markdown": [
       "Dos grifos abiertos de forma simultánea llenan un depósito en dos horas y cuarto. \n",
       "Sabiendo que el tiempo que tarda uno de los grifos es el cuadrado del tiempo que tarda el otro, \n",
       "calcula cuánto tarda cada grifo, por separado, en llenar el depósito. $\\to$ $\\left\\{ \\begin{matrix}\\frac{1}{y} + \\frac{1}{x} = \\frac{4}{9} \\\\ y = x^{2} \\\\ \\end{matrix}\\right.$$\\to \\left[ \\left\\{ x : - \\frac{3}{4}, \\  y : \\frac{9}{16}\\right\\}, \\  \\left\\{ x : 3, \\  y : 9\\right\\}\\right]$"
      ],
      "text/plain": [
       "<IPython.core.display.Markdown object>"
      ]
     },
     "metadata": {},
     "output_type": "display_data"
    },
    {
     "name": "stdout",
     "output_type": "stream",
     "text": [
      "enunciado_latex: Dos grifos abiertos de forma simultánea llenan un depósito en dos horas y cuarto. \n",
      "Sabiendo que el tiempo que tarda uno de los grifos es el cuadrado del tiempo que tarda el otro, \n",
      "calcula cuánto tarda cada grifo, por separado, en llenar el depósito.\n",
      "solucion_latex: $\\left\\{ \\begin{matrix}\\frac{1}{y} + \\frac{1}{x} = \\frac{4}{9} \\\\ y = x^{2} \\\\ \\end{matrix}\\right.$$\\to \\left[ \\left\\{ x : - \\frac{3}{4}, \\  y : \\frac{9}{16}\\right\\}, \\  \\left\\{ x : 3, \\  y : 9\\right\\}\\right]$\n"
     ]
    },
    {
     "data": {
      "text/plain": [
       "('Dos grifos abiertos de forma simultánea llenan un depósito en dos horas y cuarto. \\nSabiendo que el tiempo que tarda uno de los grifos es el cuadrado del tiempo que tarda el otro, \\ncalcula cuánto tarda cada grifo, por separado, en llenar el depósito.',\n",
       " '$\\\\left\\\\{ \\\\begin{matrix}\\\\frac{1}{y} + \\\\frac{1}{x} = \\\\frac{4}{9} \\\\\\\\ y = x^{2} \\\\\\\\ \\\\end{matrix}\\\\right.$$\\\\to \\\\left[ \\\\left\\\\{ x : - \\\\frac{3}{4}, \\\\  y : \\\\frac{9}{16}\\\\right\\\\}, \\\\  \\\\left\\\\{ x : 3, \\\\  y : 9\\\\right\\\\}\\\\right]$')"
      ]
     },
     "execution_count": 68,
     "metadata": {},
     "output_type": "execute_result"
    }
   ],
   "source": [
    "enunciado = r\"\"\"Dos grifos abiertos de forma simultánea llenan un depósito en dos horas y cuarto. \n",
    "Sabiendo que el tiempo que tarda uno de los grifos es el cuadrado del tiempo que tarda el otro, \n",
    "calcula cuánto tarda cada grifo, por separado, en llenar el depósito.\"\"\"\n",
    "\n",
    "# print(enunciado)\n",
    "\n",
    "sistema = [Eq(1/x+1/y,Rational(1,(2+1/4))),Eq(y,x**2)]\n",
    "solucion = sistema_a_latex(sistema)+r'$\\to '+latex(solve(sistema))+r'$'\n",
    "mostrar_ejercicio(enunciado, solucion)\n",
    "\n",
    "\n"
   ]
  },
  {
   "cell_type": "code",
   "execution_count": 80,
   "id": "975b8279",
   "metadata": {},
   "outputs": [
    {
     "data": {
      "text/markdown": [
       "#### Ejercicio:"
      ],
      "text/plain": [
       "<IPython.core.display.Markdown object>"
      ]
     },
     "metadata": {},
     "output_type": "display_data"
    },
    {
     "data": {
      "text/markdown": [
       "Un padre ha comprado un jersey para cada uno de sus cinco hijos, \n",
       "gastándose en total 108,75 euros. Tres de los jerséis tenían un 15 \\% de descuento, y otro de ellos \n",
       "tenía un 20 \\% de descuento. Sabiendo que inicialmente costaban lo mismo, \n",
       "¿cuánto ha tenido que pagar por cada jersey?\n",
       " $\\to$ $\\left\\{ \\begin{matrix}4.35 x = 108.75 \\\\ \\end{matrix}\\right.$$\\to \\left\\{ x : 25.0\\right\\}$"
      ],
      "text/plain": [
       "<IPython.core.display.Markdown object>"
      ]
     },
     "metadata": {},
     "output_type": "display_data"
    },
    {
     "name": "stdout",
     "output_type": "stream",
     "text": [
      "enunciado_latex: Un padre ha comprado un jersey para cada uno de sus cinco hijos, \n",
      "gastándose en total 108,75 euros. Tres de los jerséis tenían un 15 \\% de descuento, y otro de ellos \n",
      "tenía un 20 \\% de descuento. Sabiendo que inicialmente costaban lo mismo, \n",
      "¿cuánto ha tenido que pagar por cada jersey?\n",
      "\n",
      "solucion_latex: $\\left\\{ \\begin{matrix}4.35 x = 108.75 \\\\ \\end{matrix}\\right.$$\\to \\left\\{ x : 25.0\\right\\}$\n"
     ]
    },
    {
     "data": {
      "text/plain": [
       "('Un padre ha comprado un jersey para cada uno de sus cinco hijos, \\ngastándose en total 108,75 euros. Tres de los jerséis tenían un 15 \\\\% de descuento, y otro de ellos \\ntenía un 20 \\\\% de descuento. Sabiendo que inicialmente costaban lo mismo, \\n¿cuánto ha tenido que pagar por cada jersey?\\n',\n",
       " '$\\\\left\\\\{ \\\\begin{matrix}4.35 x = 108.75 \\\\\\\\ \\\\end{matrix}\\\\right.$$\\\\to \\\\left\\\\{ x : 25.0\\\\right\\\\}$')"
      ]
     },
     "execution_count": 80,
     "metadata": {},
     "output_type": "execute_result"
    }
   ],
   "source": [
    "enunciado = r\"\"\"Un padre ha comprado un jersey para cada uno de sus cinco hijos, \n",
    "gastándose en total 108,75 euros. Tres de los jerséis tenían un 15 \\% de descuento, y otro de ellos \n",
    "tenía un 20 \\% de descuento. Sabiendo que inicialmente costaban lo mismo, \n",
    "¿cuánto ha tenido que pagar por cada jersey?\n",
    "\"\"\"\n",
    "\n",
    "# print(enunciado)\n",
    "\n",
    "sistema = [S(Eq(3*0.85*x+0.8*x+x,108.75), evaluate=False)]\n",
    "# sistema=[S('Eq(2*x+(y-2)*x+y*x,3.570)',evaluate=False), S('Eq((y-2)*x,1.275)',evaluate=False)]\n",
    "solucion = sistema_a_latex(sistema)+r'$\\to '+latex(solve(sistema))+r'$'\n",
    "mostrar_ejercicio(enunciado, solucion)\n",
    "\n",
    "\n",
    "\n"
   ]
  },
  {
   "cell_type": "code",
   "execution_count": 83,
   "id": "f8048574",
   "metadata": {},
   "outputs": [
    {
     "data": {
      "text/markdown": [
       "#### Ejercicio:"
      ],
      "text/plain": [
       "<IPython.core.display.Markdown object>"
      ]
     },
     "metadata": {},
     "output_type": "display_data"
    },
    {
     "data": {
      "text/markdown": [
       "\n",
       "\n",
       "Tres sastres pagan por un lote de piezas iguales de tela\n",
       "3570 \\euro. El primero se queda con 2 piezas y el segundo, que se queda con 2 piezas menos que el tercero, \n",
       "paga 1275 \\euro. \n",
       "Calcula el número de piezas de tela y el dinero que paga cada uno de los sastres.\n",
       " $\\to$ $\\left\\{ \\begin{matrix}x y + x \\left(y - 2\\right) + 2 x = 3570 \\\\ x \\left(y - 2\\right) = 1275 \\\\ \\end{matrix}\\right.$$\\to \\left[ \\left\\{ x : 255, \\  y : 7\\right\\}\\right]$"
      ],
      "text/plain": [
       "<IPython.core.display.Markdown object>"
      ]
     },
     "metadata": {},
     "output_type": "display_data"
    },
    {
     "name": "stdout",
     "output_type": "stream",
     "text": [
      "enunciado_latex: \n",
      "\n",
      "Tres sastres pagan por un lote de piezas iguales de tela\n",
      "3570 \\euro. El primero se queda con 2 piezas y el segundo, que se queda con 2 piezas menos que el tercero, \n",
      "paga 1275 \\euro. \n",
      "Calcula el número de piezas de tela y el dinero que paga cada uno de los sastres.\n",
      "\n",
      "solucion_latex: $\\left\\{ \\begin{matrix}x y + x \\left(y - 2\\right) + 2 x = 3570 \\\\ x \\left(y - 2\\right) = 1275 \\\\ \\end{matrix}\\right.$$\\to \\left[ \\left\\{ x : 255, \\  y : 7\\right\\}\\right]$\n"
     ]
    },
    {
     "data": {
      "text/plain": [
       "('\\n\\nTres sastres pagan por un lote de piezas iguales de tela\\n3570 \\\\euro. El primero se queda con 2 piezas y el segundo, que se queda con 2 piezas menos que el tercero, \\npaga 1275 \\\\euro. \\nCalcula el número de piezas de tela y el dinero que paga cada uno de los sastres.\\n',\n",
       " '$\\\\left\\\\{ \\\\begin{matrix}x y + x \\\\left(y - 2\\\\right) + 2 x = 3570 \\\\\\\\ x \\\\left(y - 2\\\\right) = 1275 \\\\\\\\ \\\\end{matrix}\\\\right.$$\\\\to \\\\left[ \\\\left\\\\{ x : 255, \\\\  y : 7\\\\right\\\\}\\\\right]$')"
      ]
     },
     "execution_count": 83,
     "metadata": {},
     "output_type": "execute_result"
    }
   ],
   "source": [
    "enunciado = r\"\"\"\n",
    "\n",
    "Tres sastres pagan por un lote de piezas iguales de tela\n",
    "3570 \\euro. El primero se queda con 2 piezas y el segundo, que se queda con 2 piezas menos que el tercero, \n",
    "paga 1275 \\euro. \n",
    "Calcula el número de piezas de tela y el dinero que paga cada uno de los sastres.\n",
    "\"\"\"\n",
    "\n",
    "# print(enunciado)\n",
    "\n",
    "sistema=[S('Eq(2*x+(y-2)*x+y*x,3570)',evaluate=False), S('Eq((y-2)*x,1275)',evaluate=False)]\n",
    "solucion = sistema_a_latex(sistema)+r'$\\to '+latex(solve(sistema))+r'$'\n",
    "mostrar_ejercicio(enunciado, solucion)\n",
    "\n",
    "\n",
    "\n"
   ]
  },
  {
   "cell_type": "code",
   "execution_count": 64,
   "id": "d6824bbc",
   "metadata": {},
   "outputs": [
    {
     "name": "stdout",
     "output_type": "stream",
     "text": [
      "Eq(x + 1/6, 1/2)\n"
     ]
    },
    {
     "data": {
      "text/markdown": [
       "#### Ejercicio:"
      ],
      "text/plain": [
       "<IPython.core.display.Markdown object>"
      ]
     },
     "metadata": {},
     "output_type": "display_data"
    },
    {
     "data": {
      "text/markdown": [
       "Un depósito de agua tiene 2 grifos. Si los abrimos a la vez, el depósito se llena en 2 horas. Si\n",
       "abrimos solo el primero, se llena en 6 horas. ¿Cuánto tardará en llenarse el depósito si abrimos\n",
       "solamente el segundo grifo? $\\to$ El caudal de los dos depósitos a la vez será $\\frac{1}{2}$. \\\\ El caudal del primer depósito será $\\frac{1}{6}$. \\\\ Llamamos x a el caudal del segundo depósito. Por tanto será $\\frac{1}{6}+ x = \\frac{1}{2} \\to x=\\frac{1}{3} \\to 3$ horas tardaría el segundo. \\\\ "
      ],
      "text/plain": [
       "<IPython.core.display.Markdown object>"
      ]
     },
     "metadata": {},
     "output_type": "display_data"
    },
    {
     "name": "stdout",
     "output_type": "stream",
     "text": [
      "enunciado_latex: Un depósito de agua tiene 2 grifos. Si los abrimos a la vez, el depósito se llena en 2 horas. Si\n",
      "abrimos solo el primero, se llena en 6 horas. ¿Cuánto tardará en llenarse el depósito si abrimos\n",
      "solamente el segundo grifo?\n",
      "solucion_latex: El caudal de los dos depósitos a la vez será $\\frac{1}{2}$. \\\\ El caudal del primer depósito será $\\frac{1}{6}$. \\\\ Llamamos x a el caudal del segundo depósito. Por tanto será $\\frac{1}{6}+ x = \\frac{1}{2} \\to x=\\frac{1}{3} \\to 3$ horas tardaría el segundo. \\\\ \n"
     ]
    },
    {
     "data": {
      "text/plain": [
       "('Un depósito de agua tiene 2 grifos. Si los abrimos a la vez, el depósito se llena en 2 horas. Si\\nabrimos solo el primero, se llena en 6 horas. ¿Cuánto tardará en llenarse el depósito si abrimos\\nsolamente el segundo grifo?',\n",
       " 'El caudal de los dos depósitos a la vez será $\\\\frac{1}{2}$. \\\\\\\\ El caudal del primer depósito será $\\\\frac{1}{6}$. \\\\\\\\ Llamamos x a el caudal del segundo depósito. Por tanto será $\\\\frac{1}{6}+ x = \\\\frac{1}{2} \\\\to x=\\\\frac{1}{3} \\\\to 3$ horas tardaría el segundo. \\\\\\\\ ')"
      ]
     },
     "execution_count": 64,
     "metadata": {},
     "output_type": "execute_result"
    }
   ],
   "source": [
    "datos = [[2,2,6]]\n",
    "\n",
    "d = datos[0]\n",
    "\n",
    "enunciado = \"\"\"Un depósito de agua tiene {} grifos. Si los abrimos a la vez, el depósito se llena en {} horas. Si\n",
    "abrimos solo el primero, se llena en {} horas. ¿Cuánto tardará en llenarse el depósito si abrimos\n",
    "solamente el segundo grifo?\"\"\".format(d[0],d[1],d[2])\n",
    "\n",
    "solucion = r\"El caudal de los dos depósitos a la vez será ${}$. \\\\ \".format(latex(Rational(1,d[1])))\n",
    "solucion += r\"El caudal del primer depósito será ${}$. \\\\ \".format(latex(Rational(1,d[2])))\n",
    "\n",
    "# print(latex(Rational(1,d[2]))+r\"+ x = \" + latex(Rational(1,d[1])))\n",
    "print(str(Eq(Rational(1,d[2])+x,Rational(1,d[1]))))\n",
    "\n",
    "solucion += r\"Llamamos x a el caudal del segundo depósito. Por tanto será ${} \\to x={} \\to {}$ horas tardaría el segundo. \\\\ \".format(latex(Rational(1,d[2]))+r\"+ x = \" + latex(Rational(1,d[1])), latex(solve(Eq(Rational(1,d[2])+x,Rational(1,d[1])))[0]), latex(1/solve(Eq(Rational(1,d[2])+x,Rational(1,d[1])))[0]))\n",
    "mostrar_ejercicio(enunciado,solucion)\n"
   ]
  },
  {
   "cell_type": "code",
   "execution_count": 65,
   "id": "afb17e18",
   "metadata": {},
   "outputs": [
    {
     "data": {
      "text/markdown": [
       "#### Ejercicio:"
      ],
      "text/plain": [
       "<IPython.core.display.Markdown object>"
      ]
     },
     "metadata": {},
     "output_type": "display_data"
    },
    {
     "data": {
      "text/markdown": [
       "En un concurso se reparten 20000 \\euro entre las tres personas que han tardado menos tiempo en\n",
       "realizar una prueba. La primera ha tardado 4 minutos; la segunda 5 minutos, y la tercera 8\n",
       "minutos. ¿Cuánto dinero le corresponde a cada una si el reparto es inversamente proporcional\n",
       "al tiempo invertido? $\\to$ Llamamos y a lo que le correspondería a un minuto, como el reparto es inverso les corresponderán: $y/4, y/5, y/8$. \\\\ Por tanto $\\frac{y}{8} + \\frac{y}{5} + \\frac{y}{4} = 20000 \\to y = \\frac{800000}{23} \\to 8695.65 \\euro, 6956.52 \\euro, 4347.83 \\euro $. \\\\ "
      ],
      "text/plain": [
       "<IPython.core.display.Markdown object>"
      ]
     },
     "metadata": {},
     "output_type": "display_data"
    },
    {
     "name": "stdout",
     "output_type": "stream",
     "text": [
      "enunciado_latex: En un concurso se reparten 20000 \\euro entre las tres personas que han tardado menos tiempo en\n",
      "realizar una prueba. La primera ha tardado 4 minutos; la segunda 5 minutos, y la tercera 8\n",
      "minutos. ¿Cuánto dinero le corresponde a cada una si el reparto es inversamente proporcional\n",
      "al tiempo invertido?\n",
      "solucion_latex: Llamamos y a lo que le correspondería a un minuto, como el reparto es inverso les corresponderán: $y/4, y/5, y/8$. \\\\ Por tanto $\\frac{y}{8} + \\frac{y}{5} + \\frac{y}{4} = 20000 \\to y = \\frac{800000}{23} \\to 8695.65 \\euro, 6956.52 \\euro, 4347.83 \\euro $. \\\\ \n"
     ]
    },
    {
     "data": {
      "text/plain": [
       "('En un concurso se reparten 20000 \\\\euro entre las tres personas que han tardado menos tiempo en\\nrealizar una prueba. La primera ha tardado 4 minutos; la segunda 5 minutos, y la tercera 8\\nminutos. ¿Cuánto dinero le corresponde a cada una si el reparto es inversamente proporcional\\nal tiempo invertido?',\n",
       " 'Llamamos y a lo que le correspondería a un minuto, como el reparto es inverso les corresponderán: $y/4, y/5, y/8$. \\\\\\\\ Por tanto $\\\\frac{y}{8} + \\\\frac{y}{5} + \\\\frac{y}{4} = 20000 \\\\to y = \\\\frac{800000}{23} \\\\to 8695.65 \\\\euro, 6956.52 \\\\euro, 4347.83 \\\\euro $. \\\\\\\\ ')"
      ]
     },
     "execution_count": 65,
     "metadata": {},
     "output_type": "execute_result"
    }
   ],
   "source": [
    "datos = [[20000,4,5,8]]\n",
    "\n",
    "d = datos[0]\n",
    "\n",
    "enunciado = r\"\"\"En un concurso se reparten {} \\euro entre las tres personas que han tardado menos tiempo en\n",
    "realizar una prueba. La primera ha tardado {} minutos; la segunda {} minutos, y la tercera {}\n",
    "minutos. ¿Cuánto dinero le corresponde a cada una si el reparto es inversamente proporcional\n",
    "al tiempo invertido?\"\"\".format(d[0],d[1],d[2],d[3])\n",
    "\n",
    "# print(\"+\".join([str(Rational(y,d[i])) for i in range(len(d))][1:]))\n",
    "\n",
    "pesos = [(y/d[i]) for i in range(len(d))][1:]\n",
    "\n",
    "# solucion = r\"Llamamos y a lo que le correspondería a un minuto, como el reparto es inverso les corresponderán: ${}$. \\\\ \".format(\", \".join([latex(y/d[i]) for i in range(len(d))][1:]))\n",
    "\n",
    "\n",
    "solucion = r\"Llamamos y a lo que le correspondería a un minuto, como el reparto es inverso les corresponderán: ${}$. \\\\ \".format(\", \".join(list(map(str,pesos))))\n",
    "expr=\"+\".join(list(map(str,pesos)))\n",
    "eq=Eq(S(expr, evaluate=False),d[0])\n",
    "unidad= solve(eq)[0]\n",
    "solucion += r\"Por tanto ${} \\to y = {} \\to {} $. \\\\ \".format(latex(eq), latex(simplify((solve(eq))[0])), \", \".join([latex(round(unidad/d[i],2))+\" \\euro\" for i in range(len(d))][1:]) )\n",
    "\n",
    "\n",
    "mostrar_ejercicio(enunciado,solucion)"
   ]
  },
  {
   "cell_type": "code",
   "execution_count": 93,
   "id": "e58df594",
   "metadata": {},
   "outputs": [
    {
     "name": "stdout",
     "output_type": "stream",
     "text": [
      " Efectúa la siguiente operación, dando el resultado en notación científica y con dos cifras significativas. Da una cota del error absoluto, también en notación científica, producido en el redondeo.\n",
      "$$\\frac{5.12\\cdot {10}^3 \\cdot 4.2\\cdot {10}^7}{1.8 \\cdot {10}^{15}}$$\n"
     ]
    },
    {
     "data": {
      "text/plain": [
       "(0.000119466666666667, '1.19E-4')"
      ]
     },
     "execution_count": 93,
     "metadata": {},
     "output_type": "execute_result"
    }
   ],
   "source": [
    "enunciado = r\"\"\" Efectúa la siguiente operación, dando el resultado en notación científica y con dos cifras significativas. Da una cota del error absoluto, también en notación científica, producido en el redondeo.\n",
    "$$\\frac{5.12\\cdot {10}^3 \\cdot 4.2\\cdot {10}^7}{1.8 \\cdot {10}^{15}}$$\"\"\"\n",
    "\n",
    "print(enunciado)\n",
    "simplify(parse_latex(r'\\frac{5.12\\cdot {10}^3 \\cdot 4.2\\cdot {10}^7}{1.8 \\cdot {10}^{15}}')), format(simplify(parse_latex(r'\\frac{5.12\\cdot {10}^3 \\cdot 4.2\\cdot {10}^7}{1.8 \\cdot {10}^{15}}')),'.2E')"
   ]
  },
  {
   "cell_type": "code",
   "execution_count": 4,
   "id": "48d8338d",
   "metadata": {},
   "outputs": [
    {
     "data": {
      "text/markdown": [
       "#### Ejercicio:"
      ],
      "text/plain": [
       "<IPython.core.display.Markdown object>"
      ]
     },
     "metadata": {},
     "output_type": "display_data"
    },
    {
     "data": {
      "text/markdown": [
       "\\frac{{x - 1}}{{x + 2}} \\geq 0 $\\to$ \\left(-\\infty, -2\\right) \\cup \\left[1, \\infty\\right)"
      ],
      "text/plain": [
       "<IPython.core.display.Markdown object>"
      ]
     },
     "metadata": {},
     "output_type": "display_data"
    },
    {
     "name": "stdout",
     "output_type": "stream",
     "text": [
      "enunciado_latex: \\frac{{x - 1}}{{x + 2}} \\geq 0\n",
      "solucion_latex: \\left(-\\infty, -2\\right) \\cup \\left[1, \\infty\\right)\n"
     ]
    },
    {
     "data": {
      "text/plain": [
       "('\\\\frac{{x - 1}}{{x + 2}} \\\\geq 0',\n",
       " '\\\\left(-\\\\infty, -2\\\\right) \\\\cup \\\\left[1, \\\\infty\\\\right)')"
      ]
     },
     "execution_count": 4,
     "metadata": {},
     "output_type": "execute_result"
    }
   ],
   "source": [
    "from sympy.solvers.inequalities import solve_univariate_inequality, reduce_rational_inequalities,reduce_abs_inequalities\n",
    "enunciado = r'\\frac{{x - 1}}{{x + 2}} \\geq 0'\n",
    "solucion = reduce_rational_inequalities([[parse_latex(enunciado)]],x).as_set()\n",
    "mostrar_ejercicio(enunciado, latex(solucion))"
   ]
  },
  {
   "cell_type": "code",
   "execution_count": 8,
   "id": "74d5888a",
   "metadata": {},
   "outputs": [
    {
     "data": {
      "image/png": "[encoded data removed]",
      "text/latex": [
       "$\\displaystyle \\left(1, 2\\right) \\cup \\left(4, \\infty\\right)$"
      ],
      "text/plain": [
       "(1, 2) ∪ (4, ∞)"
      ]
     },
     "execution_count": 8,
     "metadata": {},
     "output_type": "execute_result"
    }
   ],
   "source": [
    "enunciado = r'\\frac{{{x^3} - 5{x^2} + 2x + 8}}{1-x^2} < 0 '\n",
    "reduce_rational_inequalities([[parse_latex(enunciado)]],x).as_set()"
   ]
  },
  {
   "cell_type": "code",
   "execution_count": 104,
   "id": "7b202698",
   "metadata": {},
   "outputs": [
    {
     "data": {
      "text/markdown": [
       "#### Ejercicio:"
      ],
      "text/plain": [
       "<IPython.core.display.Markdown object>"
      ]
     },
     "metadata": {},
     "output_type": "display_data"
    },
    {
     "data": {
      "text/markdown": [
       "x^{4} + 2 x^{3} - 3 x^{2} < 0 $\\to$ \\left(-3, 0\\right) \\cup \\left(0, 1\\right)"
      ],
      "text/plain": [
       "<IPython.core.display.Markdown object>"
      ]
     },
     "metadata": {},
     "output_type": "display_data"
    },
    {
     "name": "stdout",
     "output_type": "stream",
     "text": [
      "enunciado_latex: x^{4} + 2 x^{3} - 3 x^{2} < 0\n",
      "solucion_latex: \\left(-3, 0\\right) \\cup \\left(0, 1\\right)\n"
     ]
    },
    {
     "data": {
      "text/plain": [
       "('x^{4} + 2 x^{3} - 3 x^{2} < 0',\n",
       " '\\\\left(-3, 0\\\\right) \\\\cup \\\\left(0, 1\\\\right)')"
      ]
     },
     "execution_count": 104,
     "metadata": {},
     "output_type": "execute_result"
    }
   ],
   "source": [
    "enunciado = (expand(x*(x-1)*x*(x+3))<0)\n",
    "solucion = reduce_rational_inequalities([[enunciado]],x).as_set()\n",
    "mostrar_ejercicio(latex(enunciado), latex(solucion))\n",
    "\n",
    "\n"
   ]
  },
  {
   "cell_type": "code",
   "execution_count": 122,
   "id": "d7ec0b19",
   "metadata": {},
   "outputs": [
    {
     "data": {
      "text/markdown": [
       "#### Ejercicio:"
      ],
      "text/plain": [
       "<IPython.core.display.Markdown object>"
      ]
     },
     "metadata": {},
     "output_type": "display_data"
    },
    {
     "data": {
      "text/markdown": [
       "x^{2} - x > 2 $\\to$ \\left(-\\infty, -1\\right) \\cup \\left(2, \\infty\\right)"
      ],
      "text/plain": [
       "<IPython.core.display.Markdown object>"
      ]
     },
     "metadata": {},
     "output_type": "display_data"
    },
    {
     "name": "stdout",
     "output_type": "stream",
     "text": [
      "enunciado_latex: x^{2} - x > 2\n",
      "solucion_latex: \\left(-\\infty, -1\\right) \\cup \\left(2, \\infty\\right)\n"
     ]
    },
    {
     "data": {
      "text/plain": [
       "('x^{2} - x > 2',\n",
       " '\\\\left(-\\\\infty, -1\\\\right) \\\\cup \\\\left(2, \\\\infty\\\\right)')"
      ]
     },
     "execution_count": 122,
     "metadata": {},
     "output_type": "execute_result"
    }
   ],
   "source": [
    "enunciado = parse_latex(r'x^{2} - x > 2')\n",
    "solucion = reduce_rational_inequalities([[enunciado]],x).as_set()\n",
    "mostrar_ejercicio(latex(enunciado), latex(solucion))\n",
    "\n",
    "\n"
   ]
  },
  {
   "cell_type": "code",
   "execution_count": 118,
   "id": "e444a5aa",
   "metadata": {},
   "outputs": [
    {
     "data": {
      "text/markdown": [
       "#### Ejercicio:"
      ],
      "text/plain": [
       "<IPython.core.display.Markdown object>"
      ]
     },
     "metadata": {},
     "output_type": "display_data"
    },
    {
     "data": {
      "text/markdown": [
       "\\left|{x - 3}\\right| - 2>0 $\\to$ \\left(-\\infty, 1\\right) \\cup \\left(5, \\infty\\right)"
      ],
      "text/plain": [
       "<IPython.core.display.Markdown object>"
      ]
     },
     "metadata": {},
     "output_type": "display_data"
    },
    {
     "name": "stdout",
     "output_type": "stream",
     "text": [
      "enunciado_latex: \\left|{x - 3}\\right| - 2>0\n",
      "solucion_latex: \\left(-\\infty, 1\\right) \\cup \\left(5, \\infty\\right)\n"
     ]
    },
    {
     "data": {
      "text/plain": [
       "('\\\\left|{x - 3}\\\\right| - 2>0',\n",
       " '\\\\left(-\\\\infty, 1\\\\right) \\\\cup \\\\left(5, \\\\infty\\\\right)')"
      ]
     },
     "execution_count": 118,
     "metadata": {},
     "output_type": "execute_result"
    }
   ],
   "source": [
    "enunciado = (Abs(x-3)-2, '>')\n",
    "\n",
    "# enunciado = (Abs(x+5)-2,'<=')\n",
    "solucion = reduce_abs_inequalities([enunciado], x).as_set()\n",
    "mostrar_ejercicio(latex(enunciado[0])+enunciado[1]+\"0\", latex(solucion))"
   ]
  }
 ],
 "metadata": {
  "kernelspec": {
   "display_name": "Python 3",
   "language": "python",
   "name": "python3"
  },
  "language_info": {
   "codemirror_mode": {
    "name": "ipython",
    "version": 3
   },
   "file_extension": ".py",
   "mimetype": "text/x-python",
   "name": "python",
   "nbconvert_exporter": "python",
   "pygments_lexer": "ipython3",
   "version": "3.6.13"
  }
 },
 "nbformat": 4,
 "nbformat_minor": 5
}
