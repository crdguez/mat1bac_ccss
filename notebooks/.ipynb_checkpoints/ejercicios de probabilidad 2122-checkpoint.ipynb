{
 "cells": [
  {
   "cell_type": "code",
   "execution_count": 1,
   "metadata": {},
   "outputs": [],
   "source": [
    "from sympy import *\n",
    "from sympy.stats import Binomial, density, Die, Coin, P, E, variance, Normal, FiniteRV\n",
    "import numpy as np\n"
   ]
  },
  {
   "cell_type": "code",
   "execution_count": 2,
   "metadata": {},
   "outputs": [],
   "source": [
    "def datos_cualitativa(lista):\n",
    "    # Devuelve un diccionario para crear la probabilidad cuantitativa a partir del índice\n",
    "    nplista = np.array(lista)\n",
    "    total = nplista[:,1].astype(int).sum()\n",
    "    lista_val = list(nplista[:,0])\n",
    "    dic ={i:nplista[i,1].astype(int)/total for i,s in enumerate(nplista)}\n",
    "    \n",
    "    return dic,lista_val    \n"
   ]
  },
  {
   "cell_type": "markdown",
   "metadata": {},
   "source": [
    "De los 39 alumnos de una clase, 16 escogieron francés, como idioma y 27 inglés. 9 eligieron ambos idiomas y\n",
    "el resto no opto por ninguno de ellos. elegido un alumno al azar, calcula las probabilidades de que escogiera:\n",
    "i) Francés\n",
    "ii) Inglés\n",
    "iii) Ambos idiomas\n",
    "iv) Francés o Inglés\n",
    "v) Francés, pero no inglés\n",
    "vi) Inglés, pero no francés"
   ]
  },
  {
   "cell_type": "code",
   "execution_count": 3,
   "metadata": {},
   "outputs": [
    {
     "data": {
      "text/plain": [
       "[16/39, 9/13, 3/13, 34/39, 7/39, 6/13]"
      ]
     },
     "execution_count": 3,
     "metadata": {},
     "output_type": "execute_result"
    }
   ],
   "source": [
    "n_total,n_1, n_2, n_int = [39,16,27,9]\n",
    "dic_1, val_1 = datos_cualitativa([['F',n_1],['NF',n_total-n_1]])\n",
    "dic_2, val_2 = datos_cualitativa([['I',n_2],['NI',n_total-n_2]])\n",
    "\n",
    "frances = FiniteRV('frances',density=dic_1)\n",
    "ingles = FiniteRV('ingles',density=dic_2)\n",
    "\n",
    "[nsimplify(P(Eq(frances,val_1.index('F')))),\n",
    "nsimplify(P(Eq(ingles,val_2.index('I')))),\n",
    "nsimplify(n_int/n_total),\n",
    "nsimplify(P(Eq(frances,val_1.index('F')))+P(Eq(ingles,val_2.index('I')))-n_int/n_total),\n",
    "nsimplify(P(Eq(frances,val_1.index('F')))*(n_1-n_int)/n_1),\n",
    "nsimplify(P(Eq(ingles,val_2.index('I')))*(n_2-n_int)/n_2)]\n",
    "\n"
   ]
  },
  {
   "cell_type": "markdown",
   "metadata": {},
   "source": [
    "**Ejercicio:** Tiramos un dado. Si sale 5 o 6, extraemos una bola de la urna A y si no, la extraemos de la urna B.\n",
    "\n",
    "- Urna A: 3 rojas, 2 verdes y una azul. \n",
    "- Urna B: 1 roja, 3 verdes y 4 azules\n",
    "\n",
    "a) ¿Qué probabilidad hay de obtener un 5 o un 6 y extraer\n",
    "una bola roja?\n",
    "b) ¿Qué probabilidad hay de obtener 4 y bola verde?"
   ]
  },
  {
   "cell_type": "code",
   "execution_count": 4,
   "metadata": {
    "slideshow": {
     "slide_type": "subslide"
    }
   },
   "outputs": [
    {
     "data": {
      "text/plain": [
       "{1: 1/6, 2: 1/6, 3: 1/6, 4: 1/6, 5: 1/6, 6: 1/6}"
      ]
     },
     "execution_count": 4,
     "metadata": {},
     "output_type": "execute_result"
    }
   ],
   "source": [
    "Dice = Die('Dice')\n",
    "density(Dice).dict"
   ]
  },
  {
   "cell_type": "code",
   "execution_count": 5,
   "metadata": {},
   "outputs": [
    {
     "data": {
      "text/plain": [
       "({0: 0.5, 1: 0.333333333333333, 2: 0.166666666666667}, ['Ro', 'Ve', 'Az'])"
      ]
     },
     "execution_count": 5,
     "metadata": {},
     "output_type": "execute_result"
    }
   ],
   "source": [
    "lista = [['Ro',3],['Ve',2],['Az',1]]\n",
    "\n",
    "dic1, valor1 = datos_cualitativa(lista)\n",
    "\n",
    "UrnaA = FiniteRV('UrnaA',density=dic1)\n",
    "\n",
    "density(UrnaA).dict, valor1\n",
    "\n"
   ]
  },
  {
   "cell_type": "code",
   "execution_count": 6,
   "metadata": {},
   "outputs": [
    {
     "data": {
      "text/plain": [
       "({0: 0.125, 1: 0.375, 2: 0.5}, ['Ro', 'Ve', 'Az'])"
      ]
     },
     "execution_count": 6,
     "metadata": {},
     "output_type": "execute_result"
    }
   ],
   "source": [
    "lista = [['Ro',1],['Ve',3],['Az',4]]\n",
    "\n",
    "dic2, valor2 = datos_cualitativa(lista)\n",
    "\n",
    "UrnaB = FiniteRV('UrnaB',density=dic2)\n",
    "\n",
    "density(UrnaB).dict, valor2"
   ]
  },
  {
   "cell_type": "code",
   "execution_count": 7,
   "metadata": {},
   "outputs": [
    {
     "data": {
      "text/plain": [
       "(0.166666666666667, 0.0625000000000000)"
      ]
     },
     "execution_count": 7,
     "metadata": {},
     "output_type": "execute_result"
    }
   ],
   "source": [
    "#a)¿Qué probabilidad hay de obtener un 5 o un 6 y extraer una bola roja?\n",
    "#A={salir 5 o 6}, B={salir bola roja} --> P(A y B) = P(A)P(B|A)\n",
    "#b) ¿Qué probabilidad hay de obtener 4 y bola verde?\n",
    "#A={Sacar 4}, B={salir verde} --> P(A y B) = P(A)P(B|A)\n",
    "\n",
    "P(Dice>=5)*P(Eq(UrnaA,valor1.index('Ro'))), P(Eq(Dice,4))*P(Eq(UrnaB,valor2.index('Ve')))"
   ]
  },
  {
   "cell_type": "markdown",
   "metadata": {},
   "source": [
    "**Ejercicio:** Tiramos un dado. Si sale 1 o 2, extraemos una bola de la urna A y si no, la extraemos de la urna B.\n",
    "\n",
    "- Urna A: 2 rojas, 2 verdes y 2 azules. \n",
    "- Urna B: 1 roja, 3 verdes y 4 azules\n",
    "\n",
    "a) ¿Qué probabilidad hay de obtener un 1 o un 2 y extraer\n",
    "una bola verde?\n",
    "b) ¿Qué probabilidad hay de obtener 3 y bola azul?"
   ]
  },
  {
   "cell_type": "code",
   "execution_count": 106,
   "metadata": {
    "slideshow": {
     "slide_type": "subslide"
    }
   },
   "outputs": [
    {
     "data": {
      "text/plain": [
       "{1: 1/6, 2: 1/6, 3: 1/6, 4: 1/6, 5: 1/6, 6: 1/6}"
      ]
     },
     "execution_count": 106,
     "metadata": {},
     "output_type": "execute_result"
    }
   ],
   "source": [
    "Dice = Die('Dice')\n",
    "density(Dice).dict"
   ]
  },
  {
   "cell_type": "code",
   "execution_count": 107,
   "metadata": {},
   "outputs": [
    {
     "data": {
      "text/plain": [
       "({0: 0.333333333333333, 1: 0.333333333333333, 2: 0.333333333333333},\n",
       " ['Ro', 'Ve', 'Az'])"
      ]
     },
     "execution_count": 107,
     "metadata": {},
     "output_type": "execute_result"
    }
   ],
   "source": [
    "lista = [['Ro',2],['Ve',2],['Az',2]]\n",
    "\n",
    "dic1, valor1 = datos_cualitativa(lista)\n",
    "\n",
    "UrnaA = FiniteRV('UrnaA',density=dic1)\n",
    "\n",
    "density(UrnaA).dict, valor1\n",
    "\n"
   ]
  },
  {
   "cell_type": "code",
   "execution_count": 108,
   "metadata": {},
   "outputs": [
    {
     "data": {
      "text/plain": [
       "({0: 0.125, 1: 0.375, 2: 0.5}, ['Ro', 'Ve', 'Az'])"
      ]
     },
     "execution_count": 108,
     "metadata": {},
     "output_type": "execute_result"
    }
   ],
   "source": [
    "lista = [['Ro',1],['Ve',3],['Az',4]]\n",
    "\n",
    "dic2, valor2 = datos_cualitativa(lista)\n",
    "\n",
    "UrnaB = FiniteRV('UrnaB',density=dic2)\n",
    "\n",
    "density(UrnaB).dict, valor2"
   ]
  },
  {
   "cell_type": "code",
   "execution_count": 109,
   "metadata": {},
   "outputs": [
    {
     "name": "stdout",
     "output_type": "stream",
     "text": [
      "\\frac{1}{9}=0.1111\\ ,\\frac{1}{12}=0.08333\n"
     ]
    }
   ],
   "source": [
    "#a)¿Qué probabilidad hay de obtener un 1 o un 2 y extraer una bola verde?\n",
    "#A={salir 1 o 2}, B={salir bola roja} --> P(A y B) = P(A)P(B|A)\n",
    "#b) ¿Qué probabilidad hay de obtener 3 y bola azul?\n",
    "#A={Sacar 3}, B={salir azul} --> P(A y B) = P(A)P(B|A)\n",
    "\n",
    "resultado_a, resultado_b =nsimplify(P(Dice<=2)*P(Eq(UrnaA,valor1.index('Ve')))), nsimplify(P(Eq(Dice,3))*P(Eq(UrnaB,valor2.index('Az'))))\n",
    "pprint(latex(resultado_a)+\"=\"+latex(resultado_a.evalf(4))+\"\\ ,\"+latex(resultado_b)+\"=\"+latex(resultado_b.evalf(4)))\n"
   ]
  },
  {
   "cell_type": "markdown",
   "metadata": {},
   "source": [
    "**Ejercicio** Eva es saltadora de longitud, y en el 80 % de sus saltos consigue superar los 6 m. Sabiendo que en una competición tiene\n",
    "que saltar cuatro veces, halla la probabilidad de que:\n",
    "a) En todas supere los 6 m.\n",
    "b) No los supere en ninguna.\n",
    "c) Al menos lo haga en dos ocasiones.\n",
    "d) Si su primer salto fue nulo, supere los 6 m en, al menos,\n",
    "una ocasión."
   ]
  },
  {
   "cell_type": "code",
   "execution_count": 8,
   "metadata": {},
   "outputs": [
    {
     "data": {
      "text/plain": [
       "0.409600000000000"
      ]
     },
     "execution_count": 8,
     "metadata": {},
     "output_type": "execute_result"
    }
   ],
   "source": [
    "Saltar = Binomial('Saltar',4,0.8)\n",
    "P(Eq(Saltar,4))"
   ]
  },
  {
   "cell_type": "code",
   "execution_count": 9,
   "metadata": {},
   "outputs": [
    {
     "data": {
      "text/plain": [
       "Eq(Saltar, 4)"
      ]
     },
     "execution_count": 9,
     "metadata": {},
     "output_type": "execute_result"
    }
   ],
   "source": [
    "Eq(Saltar,4)"
   ]
  },
  {
   "cell_type": "code",
   "execution_count": 10,
   "metadata": {},
   "outputs": [
    {
     "data": {
      "text/plain": [
       "0.00160000000000000"
      ]
     },
     "execution_count": 10,
     "metadata": {},
     "output_type": "execute_result"
    }
   ],
   "source": [
    "P(Eq(Saltar,0))"
   ]
  },
  {
   "cell_type": "code",
   "execution_count": 11,
   "metadata": {},
   "outputs": [
    {
     "data": {
      "text/plain": [
       "0.972800000000000"
      ]
     },
     "execution_count": 11,
     "metadata": {},
     "output_type": "execute_result"
    }
   ],
   "source": [
    "P(Saltar >= 2)"
   ]
  },
  {
   "cell_type": "code",
   "execution_count": 12,
   "metadata": {},
   "outputs": [
    {
     "data": {
      "text/plain": [
       "0.998400000000000"
      ]
     },
     "execution_count": 12,
     "metadata": {},
     "output_type": "execute_result"
    }
   ],
   "source": [
    "Saltar2 = Binomial('Saltar2',3,0.8)\n",
    "P(Saltar2>0)"
   ]
  },
  {
   "cell_type": "markdown",
   "metadata": {},
   "source": [
    "**Ejercicio** Luis es saltador de altura, y en el 70 % de sus saltos consigue superar los 2.10 m. Sabiendo que en una competición tiene que saltar tres veces, halla la probabilidad de que:\n",
    "a) En todas supere los 2.10 m.\n",
    "b) No los supere en ninguna.\n",
    "c) Si su primer salto fue nulo, supere los 2.10 m en, al menos,\n",
    "una ocasión."
   ]
  },
  {
   "cell_type": "code",
   "execution_count": 3,
   "metadata": {},
   "outputs": [
    {
     "data": {
      "text/latex": [
       "$\\displaystyle 0.343$"
      ],
      "text/plain": [
       "0.3430"
      ]
     },
     "execution_count": 3,
     "metadata": {},
     "output_type": "execute_result"
    }
   ],
   "source": [
    "# Datos\n",
    "n = 3\n",
    "p = 0.7\n",
    "Saltar = Binomial('Saltar',n,p)\n",
    "P(Eq(Saltar,n)).evalf(4)"
   ]
  },
  {
   "cell_type": "code",
   "execution_count": 111,
   "metadata": {},
   "outputs": [
    {
     "data": {
      "text/plain": [
       "0.02700"
      ]
     },
     "execution_count": 111,
     "metadata": {},
     "output_type": "execute_result"
    }
   ],
   "source": [
    "P(Eq(Saltar,0)).evalf(4)"
   ]
  },
  {
   "cell_type": "code",
   "execution_count": 112,
   "metadata": {},
   "outputs": [
    {
     "data": {
      "text/plain": [
       "0.9100"
      ]
     },
     "execution_count": 112,
     "metadata": {},
     "output_type": "execute_result"
    }
   ],
   "source": [
    "Saltar2 = Binomial('Saltar2',n-1,p)\n",
    "P(Saltar2>0).evalf(4)"
   ]
  },
  {
   "cell_type": "markdown",
   "metadata": {},
   "source": [
    "**Ejercicio** Un jugador de baloncesto tiene un porcentaje de acierto en tiros de 3 del 40 \\%. Si tira seis\n",
    "veces:a)Calcula la probabilidad de que enceste 4 b)Calcula la probabilidad de que enceste al menos 1 c) Calcula la probabilidad de que enceste más de 3 si ha fallado los dos primeros"
   ]
  },
  {
   "cell_type": "code",
   "execution_count": 7,
   "metadata": {},
   "outputs": [
    {
     "data": {
      "text/latex": [
       "$\\displaystyle 0.1382$"
      ],
      "text/plain": [
       "0.1382"
      ]
     },
     "execution_count": 7,
     "metadata": {},
     "output_type": "execute_result"
    }
   ],
   "source": [
    "# Datos\n",
    "n = 6\n",
    "p = 0.4\n",
    "Saltar = Binomial('Saltar',n,p)\n",
    "\n",
    "P(Eq(Saltar,4)).evalf(4)"
   ]
  },
  {
   "cell_type": "code",
   "execution_count": 5,
   "metadata": {},
   "outputs": [
    {
     "data": {
      "text/latex": [
       "$\\displaystyle 0.9533$"
      ],
      "text/plain": [
       "0.9533"
      ]
     },
     "execution_count": 5,
     "metadata": {},
     "output_type": "execute_result"
    }
   ],
   "source": [
    "1-P(Eq(Saltar,0)).evalf(4)"
   ]
  },
  {
   "cell_type": "code",
   "execution_count": 10,
   "metadata": {},
   "outputs": [
    {
     "data": {
      "text/latex": [
       "$\\displaystyle 0.0256$"
      ],
      "text/plain": [
       "0.02560"
      ]
     },
     "execution_count": 10,
     "metadata": {},
     "output_type": "execute_result"
    }
   ],
   "source": [
    "Saltar2 = Binomial('Saltar2',n-2,p)\n",
    "P(Eq(Saltar2,4)).evalf(4)"
   ]
  },
  {
   "cell_type": "markdown",
   "metadata": {},
   "source": [
    "**Ejercicio** Ana juega a los dardos, y en el 60 % de sus lanzamientos obtiene una puntuación superior a 7 puntos. Sabiendo que en una ronda tira tres dardos, halla la probabilidad de que en una ronda:\n",
    "a) Obtenga más de 7 puntos en todos los lanzamientos.\n",
    "b) No los obtenga en ninguno.\n",
    "c) Si su primer dardo no se clava en la diana, supere los 7 puntos en al menos,\n",
    "una ocasión."
   ]
  },
  {
   "cell_type": "code",
   "execution_count": 13,
   "metadata": {
    "scrolled": true
   },
   "outputs": [
    {
     "data": {
      "text/plain": [
       "0.2746"
      ]
     },
     "execution_count": 13,
     "metadata": {},
     "output_type": "execute_result"
    }
   ],
   "source": [
    "# Datos\n",
    "n = 3\n",
    "p = 0.65\n",
    "Saltar = Binomial('Saltar',n,p)\n",
    "P(Eq(Saltar,n)).evalf(4)"
   ]
  },
  {
   "cell_type": "code",
   "execution_count": 14,
   "metadata": {},
   "outputs": [
    {
     "data": {
      "text/plain": [
       "0.04287"
      ]
     },
     "execution_count": 14,
     "metadata": {},
     "output_type": "execute_result"
    }
   ],
   "source": [
    "P(Eq(Saltar,0)).evalf(4)"
   ]
  },
  {
   "cell_type": "code",
   "execution_count": 15,
   "metadata": {},
   "outputs": [
    {
     "data": {
      "text/plain": [
       "0.8775"
      ]
     },
     "execution_count": 15,
     "metadata": {},
     "output_type": "execute_result"
    }
   ],
   "source": [
    "Saltar2 = Binomial('Saltar2',n-1,p)\n",
    "P(Saltar2>0).evalf(4)"
   ]
  },
  {
   "cell_type": "markdown",
   "metadata": {},
   "source": [
    "**Ejercicio:** En un puesto de una feria, por un tique te dejan tirar 6 veces\n",
    "a una canasta. Si cuelas al menos dos tiros, te llevas premio.\n",
    "Se supone que cada persona tiene una probabilidad de 0,15\n",
    "de hacer canasta en cada tiro.\n",
    "a) ¿Qué probabilidad hay de que una persona gane un pre-\n",
    "mio con un tique?\n",
    "b) Si juegan 1 000 personas a lo largo de la semana, ¿cuántos,\n",
    "aproximadamente, se llevarán el premio?"
   ]
  },
  {
   "cell_type": "code",
   "execution_count": 13,
   "metadata": {},
   "outputs": [
    {
     "data": {
      "text/plain": [
       "0.223515703125000"
      ]
     },
     "execution_count": 13,
     "metadata": {},
     "output_type": "execute_result"
    }
   ],
   "source": [
    "Ticket = Binomial('Ticket',6,0.15)\n",
    "P(Ticket>=2)"
   ]
  },
  {
   "cell_type": "code",
   "execution_count": 14,
   "metadata": {},
   "outputs": [
    {
     "data": {
      "text/plain": [
       "223.515703125006"
      ]
     },
     "execution_count": 14,
     "metadata": {},
     "output_type": "execute_result"
    }
   ],
   "source": [
    "Personas = Binomial('Personas',1000,P(Ticket>=2))\n",
    "E(Personas)\n"
   ]
  },
  {
   "cell_type": "markdown",
   "metadata": {},
   "source": [
    "**Ejercicio:** Una moneda se lanza 400 veces. Calcula la probabilidad de\n",
    "que el número de caras:\n",
    "a) sea al menos 201.\n",
    "b) esté entre 180 y 220, ambos incluídos."
   ]
  },
  {
   "cell_type": "code",
   "execution_count": 46,
   "metadata": {},
   "outputs": [],
   "source": [
    "# datos\n",
    "\n",
    "# n = 30\n",
    "\n",
    "n = 400\n",
    "\n",
    "#p = 1/4\n",
    "\n",
    "p = 1/2\n",
    "\n",
    "# valores mayores o iguales que\n",
    "\n",
    "valor = 201"
   ]
  },
  {
   "cell_type": "code",
   "execution_count": 43,
   "metadata": {},
   "outputs": [],
   "source": [
    "Y=Binomial('Y',n,p)\n",
    "Z=Normal('Z',0,1)"
   ]
  },
  {
   "cell_type": "code",
   "execution_count": 44,
   "metadata": {},
   "outputs": [
    {
     "data": {
      "text/plain": [
       "(200.0, 10.0000000000000, 0.4800611941616275, 0.480065349018103)"
      ]
     },
     "execution_count": 44,
     "metadata": {},
     "output_type": "execute_result"
    }
   ],
   "source": [
    "media = n*p\n",
    "desviacion = sqrt(n*p*(1-p))\n",
    "media, desviacion, float(P(Z>((valor-0.5)-media)/desviacion)), P(Y>=valor)"
   ]
  },
  {
   "cell_type": "code",
   "execution_count": 45,
   "metadata": {},
   "outputs": [
    {
     "data": {
      "text/plain": [
       "(200.0, 10.0000000000000, 0.9596355691885912, 0.959769260319362)"
      ]
     },
     "execution_count": 45,
     "metadata": {},
     "output_type": "execute_result"
    }
   ],
   "source": [
    "valor_ini = 180\n",
    "valor_fin = 220\n",
    "\n",
    "media, desviacion, float(P(And(Z>((valor_ini-0.5)-media)/desviacion,Z<((valor_fin+0.5)-media)/desviacion))), P(And(Y<=valor_fin,Y>=valor_ini))"
   ]
  },
  {
   "cell_type": "markdown",
   "metadata": {},
   "source": [
    "**Ejercicio:** Una moneda se lanza 600 veces. Calcula la probabilidad de\n",
    "que el número de caras:\n",
    "a) sea al menos 301.\n",
    "b) esté entre 290 y 310, ambos incluídos."
   ]
  },
  {
   "cell_type": "code",
   "execution_count": 114,
   "metadata": {},
   "outputs": [],
   "source": [
    "# datos\n",
    "\n",
    "# n = 30\n",
    "\n",
    "n = 600\n",
    "\n",
    "#p = 1/4\n",
    "\n",
    "p = 1/2\n",
    "\n",
    "# valores mayores o iguales que\n",
    "\n",
    "valor = 301"
   ]
  },
  {
   "cell_type": "code",
   "execution_count": 115,
   "metadata": {},
   "outputs": [],
   "source": [
    "Y=Binomial('Y',n,p)\n",
    "Z=Normal('Z',0,1)"
   ]
  },
  {
   "cell_type": "code",
   "execution_count": 136,
   "metadata": {},
   "outputs": [
    {
     "name": "stdout",
     "output_type": "stream",
     "text": [
      "[0.0408248290463863, 0.5163, 0.4837]\n"
     ]
    },
    {
     "data": {
      "text/plain": [
       "(300.0, 12.2474, 0.4837, 0.4837)"
      ]
     },
     "execution_count": 136,
     "metadata": {},
     "output_type": "execute_result"
    }
   ],
   "source": [
    "media = n*p\n",
    "desviacion = sqrt(n*p*(1-p))\n",
    "pprint([((valor-0.5)-media)/desviacion,P(Z<((valor-0.5)-media)/desviacion).evalf(4), 1 - P(Z<((valor-0.5)-media)/desviacion).evalf(4)])\n",
    "\n",
    "media, desviacion.evalf(6), P(Z>((valor-0.5)-media)/desviacion).evalf(4), P(Y>=valor).evalf(4)"
   ]
  },
  {
   "cell_type": "code",
   "execution_count": 134,
   "metadata": {},
   "outputs": [
    {
     "name": "stdout",
     "output_type": "stream",
     "text": [
      "[0.857321409974112, 0.8044, 0.608734130859375]\n"
     ]
    },
    {
     "data": {
      "text/plain": [
       "(300.0, 12.2474, 0.6087, 0.6087)"
      ]
     },
     "execution_count": 134,
     "metadata": {},
     "output_type": "execute_result"
    }
   ],
   "source": [
    "valor_ini = 290\n",
    "valor_fin = 310\n",
    "\n",
    "pprint([((valor_fin+0.5)-media)/desviacion,P(Z<((valor_fin+0.5)-media)/desviacion).evalf(4),2*(P(Z<((valor_fin+0.5)-media)/desviacion).evalf(4)-0.5)])\n",
    "\n",
    "media, desviacion.evalf(6), P(And(Z>((valor_ini-0.5)-media)/desviacion,Z<((valor_fin+0.5)-media)/desviacion)).evalf(4), P(And(Y<=valor_fin,Y>=valor_ini)).evalf(4)"
   ]
  },
  {
   "cell_type": "markdown",
   "metadata": {},
   "source": [
    "**Ejercicio:** Una dado se lanza 1000 veces. Calcula la probabilidad de\n",
    "que haya salido número impar:\n",
    "a) Al menos 501 veces.\n",
    "b) Entre 490 y 510 veces, ambos incluidos."
   ]
  },
  {
   "cell_type": "code",
   "execution_count": 2,
   "metadata": {},
   "outputs": [],
   "source": [
    "# datos\n",
    "\n",
    "# n = 30\n",
    "\n",
    "n = 1000\n",
    "\n",
    "#p = 1/4\n",
    "\n",
    "p = 1/2\n",
    "\n",
    "# valores mayores o iguales que\n",
    "\n",
    "valor = 501"
   ]
  },
  {
   "cell_type": "code",
   "execution_count": 3,
   "metadata": {},
   "outputs": [],
   "source": [
    "Y=Binomial('Y',n,p)\n",
    "Z=Normal('Z',0,1)"
   ]
  },
  {
   "cell_type": "code",
   "execution_count": 4,
   "metadata": {},
   "outputs": [
    {
     "name": "stdout",
     "output_type": "stream",
     "text": [
      "[0.0316227766016838, 0.5126, 0.4874]\n"
     ]
    },
    {
     "data": {
      "text/plain": [
       "(500.0, 15.8114, 0.4874, 0.4874)"
      ]
     },
     "execution_count": 4,
     "metadata": {},
     "output_type": "execute_result"
    }
   ],
   "source": [
    "media = n*p\n",
    "desviacion = sqrt(n*p*(1-p))\n",
    "pprint([((valor-0.5)-media)/desviacion,P(Z<((valor-0.5)-media)/desviacion).evalf(4), 1 - P(Z<((valor-0.5)-media)/desviacion).evalf(4)])\n",
    "\n",
    "media, desviacion.evalf(6), P(Z>((valor-0.5)-media)/desviacion).evalf(4), P(Y>=valor).evalf(4)"
   ]
  },
  {
   "cell_type": "code",
   "execution_count": 7,
   "metadata": {},
   "outputs": [
    {
     "name": "stdout",
     "output_type": "stream",
     "text": [
      "[0.66407830863536, 0.7467, 0.493362426757813]\n"
     ]
    },
    {
     "data": {
      "text/plain": [
       "(500.0, 15.8114, 0.4934, 0.4933)"
      ]
     },
     "execution_count": 7,
     "metadata": {},
     "output_type": "execute_result"
    }
   ],
   "source": [
    "valor_ini = 490\n",
    "valor_fin = 510\n",
    "\n",
    "pprint([((valor_fin+0.5)-media)/desviacion,P(Z<((valor_fin+0.5)-media)/desviacion).evalf(4),2*(P(Z<((valor_fin+0.5)-media)/desviacion).evalf(4)-0.5)])\n",
    "\n",
    "media, desviacion.evalf(6), P(And(Z>((valor_ini-0.5)-media)/desviacion,Z<((valor_fin+0.5)-media)/desviacion)).evalf(4), P(And(Y<=valor_fin,Y>=valor_ini)).evalf(4)"
   ]
  },
  {
   "cell_type": "markdown",
   "metadata": {},
   "source": [
    "## Ejercicio"
   ]
  },
  {
   "cell_type": "markdown",
   "metadata": {},
   "source": [
    "Una caja de doce bombones contiene dos de licor, pero todos tienen el mismo aspecto. Se eligen dos bombones al azar. Cacula:\n",
    "a) La probabilidad de no coger ninguno de licor.\n",
    "b) La probabilidad de coger exactamente uno de licor.\n",
    "c) La probabilidad de coger al menos uno de licor.\n",
    "d) La probabilidad de que al coger un tercer bombón éste sea de licor, si antes he cogido dos que no llevaban \n"
   ]
  },
  {
   "cell_type": "code",
   "execution_count": 7,
   "metadata": {},
   "outputs": [
    {
     "data": {
      "text/plain": [
       "[15/22, 10/33, 7/22, 1/5]"
      ]
     },
     "execution_count": 7,
     "metadata": {},
     "output_type": "execute_result"
    }
   ],
   "source": [
    "a = 2\n",
    "total = 12\n",
    "\n",
    "[nsimplify((10/12)*(9/11)), nsimplify((2/12)*(10/11)+(10/12)*(2/11)), 1 - nsimplify((10/12)*(9/11)), nsimplify(2/10)]\n",
    "\n"
   ]
  },
  {
   "cell_type": "markdown",
   "metadata": {},
   "source": [
    "## Ejercicio\n",
    "\n",
    "Una bandeja de doce pimientos de piquillo contiene tres que pican, pero todos tienen el mismo aspecto. Se comen dos pimientos al azar. Cacula:\n",
    "a) La probabilidad de no coger ninguno que pique.\n",
    "b) La probabilidad de coger exactamente uno que pique.\n",
    "c) La probabilidad de coger al menos uno que pique.\n",
    "d) La probabilidad de que al coger un tercero pique, si antes he cogido dos que no picaban\n"
   ]
  },
  {
   "cell_type": "code",
   "execution_count": 12,
   "metadata": {},
   "outputs": [
    {
     "data": {
      "text/plain": [
       "[6/11, 47/132, 5/11, 3/10]"
      ]
     },
     "execution_count": 12,
     "metadata": {},
     "output_type": "execute_result"
    }
   ],
   "source": [
    "\n",
    "\n",
    "a = 3\n",
    "total = 12\n",
    "b= total - a\n",
    "\n",
    "[nsimplify((b/total)*((b-1)/(total-1))), nsimplify((a/total)*(b/(total-1))+(10/12)*(2/11)), 1 - nsimplify((b/total)*((b-1)/(total-1))), nsimplify(a/(total-2))]\n",
    "\n"
   ]
  }
 ],
 "metadata": {
  "kernelspec": {
   "display_name": "Python 3",
   "language": "python",
   "name": "python3"
  },
  "language_info": {
   "codemirror_mode": {
    "name": "ipython",
    "version": 3
   },
   "file_extension": ".py",
   "mimetype": "text/x-python",
   "name": "python",
   "nbconvert_exporter": "python",
   "pygments_lexer": "ipython3",
   "version": "3.6.13"
  }
 },
 "nbformat": 4,
 "nbformat_minor": 2
}
