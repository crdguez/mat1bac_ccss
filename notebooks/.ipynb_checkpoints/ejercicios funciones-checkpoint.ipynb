{
 "cells": [
  {
   "cell_type": "code",
   "execution_count": 1,
   "metadata": {},
   "outputs": [
    {
     "name": "stdout",
     "output_type": "stream",
     "text": [
      "IPython console for SymPy 1.4 (Python 3.6.8-64-bit) (ground types: gmpy)\n",
      "\n",
      "These commands were executed:\n",
      ">>> from __future__ import division\n",
      ">>> from sympy import *\n",
      ">>> x, y, z, t = symbols('x y z t')\n",
      ">>> k, m, n = symbols('k m n', integer=True)\n",
      ">>> f, g, h = symbols('f g h', cls=Function)\n",
      ">>> init_printing()\n",
      "\n",
      "Documentation can be found at https://docs.sympy.org/1.4/\n",
      "\n"
     ]
    }
   ],
   "source": [
    "from sympy import init_session\n",
    "from sympy import div, QQ\n",
    "from sympy.parsing.latex import parse_latex\n",
    "from sympy.parsing.sympy_parser import parse_expr\n",
    "from IPython.display import Markdown as md\n",
    "from IPython.display import display\n",
    "import pandas as pd\n",
    "\n",
    "import numpy as np\n",
    "\n",
    "\n",
    "\n",
    "\n",
    "init_session()\n",
    "\n",
    "a, b, c, d = symbols('a b c d', real = True)\n",
    "from docparts import añadir_ejercicios, doc_ejer, escribir_preambulo, escribir_ejercicios, escribir_fin\n",
    "\n",
    "df_ejercicios = pd.DataFrame()\n",
    "\n",
    "fichero = 'funciones'\n",
    "titulo = 'Continuidad'\n",
    "curso = '1BC'\n",
    "\n",
    "\n",
    "x,y = symbols('x, y', real=True)\n",
    "\n",
    "\n",
    "\n",
    "import matplotlib.pyplot as plt\n",
    "from matplotlib import style\n",
    "#style.use('ggplot')\n",
    "style.use('seaborn-whitegrid')\n",
    "\n",
    "\n",
    "%matplotlib inline\n"
   ]
  },
  {
   "cell_type": "code",
   "execution_count": 2,
   "metadata": {},
   "outputs": [],
   "source": [
    "from sympy.calculus.util import continuous_domain\n",
    "from sympy import solve_poly_inequality, reduce_abs_inequality\n",
    "from sympy.solvers.inequalities import solve_univariate_inequality, reduce_rational_inequalities"
   ]
  },
  {
   "cell_type": "code",
   "execution_count": 3,
   "metadata": {},
   "outputs": [],
   "source": [
    "def trozos(f):\n",
    "    # Función que devuelve el extremo superior de los tramos, los límites laterales, y el valor de la función\n",
    "    sol = []\n",
    "    for i,s  in enumerate(f.args):\n",
    "        if(i<len(f.args)-1):\n",
    "            extremo = f.args[i][1].as_set().sup\n",
    "            #display(extremo)\n",
    "            #display(s)\n",
    "            #display(limit(f.args[i][0],x,extremo, dir='-'))\n",
    "            #display(limit(f.args[i][0],x,extremo, dir='+'))\n",
    "            #display(f.subs(x,extremo))\n",
    "            sol.append((extremo, limit(f.args[i][0],x,extremo, dir='-'), limit(f.args[i+1][0],x,extremo, dir='+'),f.subs(x,extremo)))        \n",
    "    return sol        \n",
    "            "
   ]
  },
  {
   "cell_type": "code",
   "execution_count": 4,
   "metadata": {},
   "outputs": [],
   "source": [
    "def estudio(f) :\n",
    "    # Estudio en una función a trozos\n",
    "    \n",
    "    set = S.Reals\n",
    "    conj_singular = S.EmptySet\n",
    "    for j, t in enumerate(f.args) :\n",
    "        #display(singularities(t[0],x))\n",
    "        #conj_singular = Union(conj_singular,singularities(t[0],x))\n",
    "        #display(Union(conj_singular,singularities(t[0],x)))\n",
    "        #conj_singular = Union(conj_singular,Complement(S.Reals,continuous_domain(t[0],x,S.Reals)))\n",
    "        #conj_singular = Union(conj_singular,Intersection(t[1].as_set(),Complement(S.Reals,continuous_domain(t[0],x,S.Reals))))\n",
    "        set2 = Intersection(set,t[1].as_set())\n",
    "        conj_singular = Union(conj_singular,Intersection(set2,Complement(S.Reals,continuous_domain(t[0],x,S.Reals))))\n",
    "        set = Complement(S.Reals,t[1].as_set())\n",
    "        \n",
    "    sol = r\"Singularidades de las expresiones analíticas: $\"+ latex(conj_singular)+\"$\"  \n",
    "    sol += r\".\\\\ Posibles discontinuidades en los extremos de los trozos:\"\n",
    "\n",
    "    xs = []\n",
    "    estudio = []\n",
    "\n",
    "    for j, t in enumerate(trozos(f)) :\n",
    "        xs.append(str(t[0]))\n",
    "        if (t[1]==t[2]) :\n",
    "            estudio.append(r\"\\\\En {} es continua ya que hay límite y $\\lim = f({})={}$\".format(t[0],t[0],t[3]))\n",
    "            display(r\"En $x_0={}$ hay límite y f({})={}\".format(t[0],t[0],t[3]))\n",
    "        else :\n",
    "            estudio.append(r\"\\\\En {} no es continua porque no existe límite. Límites laterales: ${}$ y ${}$\".format(t[0], latex(t[1]), latex(t[2])))\n",
    "            display(r\"En {} no existe límite. Límites laterales: {} y  {}\".format(t[0], t[1], t[2]))\n",
    "\n",
    "    sol+=', '.join(xs)+r\".\"+'. '.join(estudio)\n",
    "    return(sol)\n",
    "    \n",
    "    \n",
    "def asintotas(f) :\n",
    "    # Igual usar singularities mejor: asintotas, verticales, horizontales y oblícuas (a,b) en oo y -oo\n",
    "    asint = []\n",
    "    asintex = r'Asíntotas:\\\\'\n",
    "    sing=EmptySet()\n",
    "    for k in [(Intersection(j.boundary,j.complement(S.Reals))) for j in [i for i in list(continuous_domain(f,x,domain=S.Reals).args)]] :\n",
    "            sing = sing + k\n",
    "    list(sing)\n",
    "    asint.append([(i,limit(f,x,i)) for i in list(sing)])\n",
    "    asintex += ', '.join(r'A.V. $x='+str(i)+r'$\\\\' for i in list(sing))\n",
    "#     asint.append([(i,limit(f,x,i)) for i in list(S.Reals - continuous_domain(f,x,domain=S.Reals))])\n",
    "#     asintex += ', '.join(r'A.V. $x='+str(i)+r'$\\\\' for i in list(S.Reals - continuous_domain(f,x,domain=S.Reals)))\n",
    "    if abs(limit(f,x,oo)) != oo:\n",
    "        asintex += r'A.H. $y='+latex(limit(f,x,oo))+r'$\\\\'\n",
    "    if abs(limit(f,x,-oo)) != oo:\n",
    "        asintex += r'A.H. $y='+latex(limit(f,x,-oo))+r'$\\\\'\n",
    "  \n",
    "    asint.append([(oo,limit(f,x,oo)), (-oo,limit(f,x,-oo))])\n",
    "    oblicuas=[]\n",
    "    if abs(limit(f/x,x,oo)) != oo :\n",
    "        oblicuas.append((oo,limit(f/x,x,oo)*x+limit(f-limit(f/x,x,oo)*x,x,oo)))\n",
    "        #display(latex(limit(f/x,x,oo)*x+limit(f-limit(f/x,x,oo)*x,x,oo)))\n",
    "        asintex += r'A.O. $y='+latex(limit(f/x,x,oo)*x+limit(f-limit(f/x,x,oo)*x,x,oo))+r'$ \\\\'\n",
    "    if abs(limit(f/x,x,-oo)) != oo :\n",
    "        oblicuas.append((-oo,limit(f/x,x,-oo)*x+limit(f-limit(f/x,x,-oo)*x,x,-oo)))\n",
    "        asintex += r'A.O. $y='+latex(limit(f/x,x,-oo)*x+limit(f-limit(f/x,x,-oo)*x,x,-oo))+r'$ \\\\'\n",
    "    asint.append(oblicuas)\n",
    "    return asint,asintex\n"
   ]
  },
  {
   "cell_type": "code",
   "execution_count": 5,
   "metadata": {},
   "outputs": [],
   "source": [
    "def crecimiento(f) :\n",
    "    #crecimiento, decrecimiento y puntos singulares\n",
    "    crec = reduce_rational_inequalities([[f.diff()>0]],x,relational=False)\n",
    "    decrec = reduce_rational_inequalities([[f.diff()<0]],x,relational=False)\n",
    "    sing = []\n",
    "    for t in solve(f.diff()) :\n",
    "        if f.diff().diff().subs(x,t) < 0 :\n",
    "            tipo = 'máx'\n",
    "        elif f.diff().diff().subs(x,t) > 0 :\n",
    "            tipo = 'mín'\n",
    "        else :\n",
    "            tipo = 'inflex'      \n",
    "        sing.append([t,tipo])\n",
    "\n",
    "    sol=[crec,decrec,sing]\n",
    "\n",
    "    return sol\n",
    "\n",
    "\n",
    "\n"
   ]
  },
  {
   "cell_type": "code",
   "execution_count": 6,
   "metadata": {},
   "outputs": [],
   "source": [
    "def mi_plot(f, nombre='sin_nombre', xmax=10) :\n",
    "        plt.rcParams['figure.figsize'] = 10,10\n",
    "        #p1 = plot(f,show=True, xlim=(-xmax,xmax), ylim=(-xmax,xmax))\n",
    "        \n",
    "        #p1 = plot(f, xlim=(-xmax,xmax), ylim=(-xmax,xmax))\n",
    "        p1 = plot_implicit(Eq(y,f),x_var=(x, -xmax, xmax), y_var=(y, -xmax, xmax))\n",
    "        p1.save(nombre+\".png\")\n",
    "#        p1.save(\"prueba.png\")\n",
    "        return r\"\\\\ \\resizebox{0.4\\textwidth}{!}{\\includegraphics[width=1\\columnwidth]{%s}}\" % (nombre)\n",
    "\n"
   ]
  },
  {
   "cell_type": "code",
   "execution_count": 7,
   "metadata": {},
   "outputs": [
    {
     "data": {
      "text/markdown": [
       "Dada la función:$f(x)=\\frac{x^{2} - 2 x + 1}{2 x + 3}$, calcular:"
      ],
      "text/plain": [
       "<IPython.core.display.Markdown object>"
      ]
     },
     "metadata": {},
     "output_type": "display_data"
    },
    {
     "data": {
      "image/png": "[encoded data removed]",
      "text/plain": [
       "<Figure size 720x720 with 1 Axes>"
      ]
     },
     "metadata": {},
     "output_type": "display_data"
    },
    {
     "data": {
      "text/markdown": [
       "Dominio de $f(x)$ $ \\rightarrow $$Dom(f)=\\left(-\\infty, - \\frac{3}{2}\\right) \\cup \\left(- \\frac{3}{2}, \\infty\\right)$\\\\ \\resizebox{0.4\\textwidth}{!}{\\includegraphics[width=1\\columnwidth]{ejfunc1-0}}"
      ],
      "text/plain": [
       "<IPython.core.display.Markdown object>"
      ]
     },
     "metadata": {},
     "output_type": "display_data"
    },
    {
     "data": {
      "text/markdown": [
       "¿Para qué valores de $x$ la función es creciente? $ \\rightarrow $$\\left(-\\infty, -4\\right) \\cup \\left(1, \\infty\\right)$"
      ],
      "text/plain": [
       "<IPython.core.display.Markdown object>"
      ]
     },
     "metadata": {},
     "output_type": "display_data"
    },
    {
     "data": {
      "text/markdown": [
       "Asíntotas verticales, horizontales y oblicuas, en caso que existan $ \\rightarrow $Asíntotas:\\\\A.V. $x=-3/2$\\\\A.O. $y=\\frac{x}{2} - \\frac{7}{4}$ \\\\A.O. $y=\\frac{x}{2} - \\frac{7}{4}$ \\\\"
      ],
      "text/plain": [
       "<IPython.core.display.Markdown object>"
      ]
     },
     "metadata": {},
     "output_type": "display_data"
    },
    {
     "data": {
      "text/markdown": [
       "Dada la función:$f(x)=\\frac{- x^{2} - x + 3}{x^{2} + x - 2}$, calcular:"
      ],
      "text/plain": [
       "<IPython.core.display.Markdown object>"
      ]
     },
     "metadata": {},
     "output_type": "display_data"
    },
    {
     "data": {
      "image/png": "[encoded data removed]",
      "text/plain": [
       "<Figure size 720x720 with 1 Axes>"
      ]
     },
     "metadata": {},
     "output_type": "display_data"
    },
    {
     "data": {
      "image/png": "[encoded data removed]",
      "text/plain": [
       "<Figure size 720x720 with 1 Axes>"
      ]
     },
     "metadata": {},
     "output_type": "display_data"
    },
    {
     "data": {
      "text/markdown": [
       "Dominio de $f(x)$ $ \\rightarrow $$Dom(f)=\\left(-\\infty, -2\\right) \\cup \\left(-2, 1\\right) \\cup \\left(1, \\infty\\right)$\\\\ \\resizebox{0.4\\textwidth}{!}{\\includegraphics[width=1\\columnwidth]{ejfunc1-1}}"
      ],
      "text/plain": [
       "<IPython.core.display.Markdown object>"
      ]
     },
     "metadata": {},
     "output_type": "display_data"
    },
    {
     "data": {
      "text/markdown": [
       "¿Para qué valores de $x$ la función es creciente? $ \\rightarrow $$\\left(-\\infty, -2\\right) \\cup \\left(-2, - \\frac{1}{2}\\right)$"
      ],
      "text/plain": [
       "<IPython.core.display.Markdown object>"
      ]
     },
     "metadata": {},
     "output_type": "display_data"
    },
    {
     "data": {
      "text/markdown": [
       "Asíntotas verticales, horizontales y oblicuas, en caso que existan $ \\rightarrow $Asíntotas:\\\\A.V. $x=-2$\\\\, A.V. $x=1$\\\\A.H. $y=-1$\\\\A.H. $y=-1$\\\\A.O. $y=-1$ \\\\A.O. $y=-1$ \\\\"
      ],
      "text/plain": [
       "<IPython.core.display.Markdown object>"
      ]
     },
     "metadata": {},
     "output_type": "display_data"
    },
    {
     "data": {
      "image/png": "[encoded data removed]",
      "text/plain": [
       "<Figure size 720x720 with 1 Axes>"
      ]
     },
     "metadata": {},
     "output_type": "display_data"
    }
   ],
   "source": [
    "datos = [(x**2-2*x+1)/(2*x+3),(-x**2 - x + 3)/(x**2 + x - 2)]\n",
    "\n",
    "for i, s in enumerate(datos) : \n",
    "    n_ejercicio = 'ejfunc1-'+str(i)\n",
    "    enunciado_latex, enunciado, solucion = [],[],[]\n",
    "    \n",
    "    ejercicio=s\n",
    "    texto_ejercicio = r\"\"\"Dada la función:$f(x)=\"\"\"+latex(ejercicio)+\"$, calcular:\"\n",
    "    \n",
    "    display(md(texto_ejercicio))\n",
    "    enun = r\"Dominio de $f(x)$\"\n",
    "    enunciado_latex.append(enun)\n",
    "    enunciado.append(enun)\n",
    "    sol=r\"$Dom(f)=\"+latex(continuous_domain(s,x,domain=S.Reals))+\"$\"\n",
    "    sol+=mi_plot(s,n_ejercicio)\n",
    "    display(md(enun +\" $ \\\\rightarrow $\" + sol ))                 \n",
    "    solucion.append(latex(sol))\n",
    "    #df_ejercicios = df_ejercicios.append(añadir_ejercicios(enunciado_latex, enunciado, solucion, texto_ejercicio, curso, titulo , n_ejercicio, '5', '1', enun_tex=False, sol_tex=False), ignore_index=True)\n",
    "\n",
    "    enun = r\"¿Para qué valores de $x$ la función es creciente?\"\n",
    "    enunciado_latex.append(enun)\n",
    "    enunciado.append(enun)\n",
    "    #sol=r\"$\"+latex(reduce_rational_inequalities([[s.diff()>0]],x,relational=False))+\"$\"\n",
    "    sol = r\"$\"+latex(crecimiento(s)[0])+\"$\"\n",
    "    display(md(enun +\" $ \\\\rightarrow $\" + sol ))                 \n",
    "    solucion.append(latex(sol))\n",
    "    #df_ejercicios = df_ejercicios.append(añadir_ejercicios(enunciado_latex, enunciado, solucion, texto_ejercicio, curso, titulo , n_ejercicio, '5', '1', enun_tex=False, sol_tex=False), ignore_index=True)\n",
    "\n",
    "    enun = r\"Asíntotas verticales, horizontales y oblicuas, en caso que existan\"\n",
    "    enunciado_latex.append(enun)\n",
    "    enunciado.append(enun)\n",
    "    sol=r\"\"+(asintotas(s)[1])+\"\"\n",
    "    display(md(enun +\" $ \\\\rightarrow $\" + sol ))                 \n",
    "    solucion.append((sol))\n",
    "    df_ejercicios = df_ejercicios.append(añadir_ejercicios(enunciado_latex, enunciado, solucion, texto_ejercicio, curso, titulo , n_ejercicio, '5', '1', enun_tex=False, sol_tex=False), ignore_index=True)\n",
    "\n",
    "#     for j, t in enumerate(s):\n",
    "#         enunciado_latex.append(\"$f(x)=\"+latex(t)+\"$\")\n",
    "#         enunciado.append(t)\n",
    "#         # voy por aquí\n",
    "\n",
    "#         sol = r\"$Dom\\left(f \\right)=\"\n",
    "#         sol+=latex(S.Reals - singularities(eval(str(parse_latex(t))),x))+r\"$\"\n",
    "#         solucion.append(sol)\n",
    "#         display(md(enunciado_latex[j] +\" $ \\\\rightarrow $\" + solucion[j] ))\n",
    "        \n",
    "\n",
    "        \n",
    "#     df_ejercicios = df_ejercicios.append(añadir_ejercicios(enunciado_latex, enunciado, solucion, texto_ejercicio, curso, titulo , n_ejercicio, '5', '1', enun_tex=False, sol_tex=False), ignore_index=True)\n"
   ]
  },
  {
   "cell_type": "code",
   "execution_count": 8,
   "metadata": {},
   "outputs": [
    {
     "data": {
      "text/markdown": [
       "**En la función:$f(x)=\\begin{cases} - k + 3 x & \\text{for}\\: x < 2 \\\\3 & \\text{for}\\: x \\leq 5 \\\\9 - 2 x & \\text{otherwise} \\end{cases}$**"
      ],
      "text/plain": [
       "<IPython.core.display.Markdown object>"
      ]
     },
     "metadata": {},
     "output_type": "display_data"
    },
    {
     "data": {
      "text/plain": [
       "'Calcula k para que tenga límite en $x=2'"
      ]
     },
     "metadata": {},
     "output_type": "display_data"
    },
    {
     "data": {
      "image/png": "[encoded data removed]",
      "text/latex": [
       "$\\displaystyle \\left[ 2, \\  5\\right]$"
      ],
      "text/plain": [
       "[2, 5]"
      ]
     },
     "metadata": {},
     "output_type": "display_data"
    }
   ],
   "source": [
    "datos = [Piecewise((3*x-k,x<2),(3,x<=5),(-2*x+9,True))]\n",
    "\n",
    "\n",
    "for i, s in enumerate(datos) : \n",
    "    n_ejercicio = 'ej2'+str(i)\n",
    "    enunciado_latex, enunciado, solucion = [],[],[]\n",
    "    \n",
    "    ejercicio = datos[i]\n",
    "    extremos=[ejercicio.args[n][1].args[1] for n in range(len(ejercicio.args)-1)]\n",
    "    \n",
    "    texto_ejercicio = r\"\"\"En la función:$f(x)=\"\"\"+latex(ejercicio)+\"$\"\n",
    "    \n",
    "    \n",
    "    display(md(\"**\"+texto_ejercicio+\"**\"))\n",
    "    display(\"Calcula k para que tenga límite en $x={}\".format(extremos[0]))\n",
    "    display(extremos)\n",
    "    enunciado_latex.append(\"Calcula k para que tenga límite en $x={}\".format(extremos[0]))\n",
    "    enunciado.append(\"Calcula k para que tenga límite en $x={}\".format(extremos[0]))\n",
    "\n",
    "    \n",
    "    \n",
    "#     for j, t in enumerate(s):\n",
    "#         enunciado_latex.append(\"$f(x)=\"+latex(t)+\"$\")\n",
    "#         enunciado.append(t)\n",
    "#         # voy por aquí\n",
    "\n",
    "#         sol = r\"$Dom\\left(f \\right)=\"\n",
    "#         sol+=latex(S.Reals - singularities(eval(str(parse_latex(t))),x))+r\"$\"\n",
    "#         solucion.append(sol)\n",
    "#         display(md(enunciado_latex[j] +\" $ \\\\rightarrow $\" + solucion[j] ))\n",
    "        \n",
    "\n",
    "        \n",
    "#     df_ejercicios = df_ejercicios.append(añadir_ejercicios(enunciado_latex, enunciado, solucion, texto_ejercicio, curso, titulo , n_ejercicio, '5', '1', enun_tex=False, sol_tex=False), ignore_index=True)\n"
   ]
  },
  {
   "cell_type": "code",
   "execution_count": 9,
   "metadata": {},
   "outputs": [
    {
     "data": {
      "text/markdown": [
       "**Calcula los siguientes límites:\n",
       "**"
      ],
      "text/plain": [
       "<IPython.core.display.Markdown object>"
      ]
     },
     "metadata": {},
     "output_type": "display_data"
    },
    {
     "data": {
      "text/markdown": [
       "$$\\lim_{x \\to -2}\\left(\\frac{2 x^{2} + 7 x + 6}{x^{3} + 3 x^{2} + 3 x + 2}\\right)$$ $ \\rightarrow $$- \\frac{1}{3}$"
      ],
      "text/plain": [
       "<IPython.core.display.Markdown object>"
      ]
     },
     "metadata": {},
     "output_type": "display_data"
    },
    {
     "data": {
      "text/markdown": [
       "$$\\lim_{x \\to -1}\\left(\\frac{x^{3} + 1}{x^{2} + 2 x + 1}\\right)$$ $ \\rightarrow $No existe el límite"
      ],
      "text/plain": [
       "<IPython.core.display.Markdown object>"
      ]
     },
     "metadata": {},
     "output_type": "display_data"
    },
    {
     "data": {
      "text/markdown": [
       "$$\\lim_{x \\to \\infty} \\left(\\frac{3 x - 1}{3 x - 2}\\right)^{2 x}$$ $ \\rightarrow $$e^{\\frac{2}{3}}$"
      ],
      "text/plain": [
       "<IPython.core.display.Markdown object>"
      ]
     },
     "metadata": {},
     "output_type": "display_data"
    }
   ],
   "source": [
    "puntuacion = '1'                          \n",
    "                      \n",
    "datos =  [  \n",
    "            [(2*x**2+7*x+6)/(x**3+3*x**2+3*x+2),-2],\n",
    "            [(x**3+1)/(x**2+2*x+1),-1],\n",
    "            [((3*x-1)/(3*x-2))**(2*x),oo],\n",
    "    \n",
    "         ]\n",
    "        \n",
    "\n",
    "# vectores iniciales correspondientes al texto del enunciado\n",
    "\n",
    "n_ejercicio = 'Ejercicios2: '\n",
    "enunciado_latex, enunciado, solucion = [],[],[]\n",
    "\n",
    "texto_ejercicio = r\"\"\"Calcula los siguientes límites:\n",
    "\"\"\"\n",
    "\n",
    "display(md(\"**\"+texto_ejercicio+\"**\"))\n",
    "\n",
    "for j, t in enumerate(datos):\n",
    "    enunciado_latex.append(r'$$'+latex(Limit(t[0],x,t[1],dir='+-'))+r'$$')\n",
    "    enunciado.append(Limit(t[0],x,t[1],dir='+-'))\n",
    "   \n",
    "    \n",
    "    if  limit(t[0],x,t[1],dir='-') == limit(t[0],x,t[1],dir='+'):      \n",
    "        sol=r\"$\"+latex(limit(t[0],x,t[1],dir='+-'))+r\"$\"\n",
    "    else:\n",
    "        sol = r\"No existe el límite\"\n",
    "    \n",
    "    solucion.append(sol)\n",
    "    display(md(enunciado_latex[j] +\" $ \\\\rightarrow $\" + solucion[j] ))\n",
    "\n",
    "\n",
    "df_ejercicios = df_ejercicios.append(añadir_ejercicios(enunciado_latex, enunciado, solucion, texto_ejercicio, curso, titulo , n_ejercicio, '5', '3', enun_tex=False, sol_tex=False), ignore_index=True)\n",
    "\n",
    "\n"
   ]
  },
  {
   "cell_type": "code",
   "execution_count": null,
   "metadata": {},
   "outputs": [],
   "source": [
    "dato"
   ]
  },
  {
   "cell_type": "code",
   "execution_count": 10,
   "metadata": {},
   "outputs": [
    {
     "data": {
      "text/html": [
       "<div>\n",
       "<style scoped>\n",
       "    .dataframe tbody tr th:only-of-type {\n",
       "        vertical-align: middle;\n",
       "    }\n",
       "\n",
       "    .dataframe tbody tr th {\n",
       "        vertical-align: top;\n",
       "    }\n",
       "\n",
       "    .dataframe thead th {\n",
       "        text-align: right;\n",
       "    }\n",
       "</style>\n",
       "<table border=\"1\" class=\"dataframe\">\n",
       "  <thead>\n",
       "    <tr style=\"text-align: right;\">\n",
       "      <th></th>\n",
       "      <th>enunciado_latex</th>\n",
       "      <th>enunciado</th>\n",
       "      <th>solucion</th>\n",
       "      <th>texto</th>\n",
       "      <th>curso</th>\n",
       "      <th>titulo</th>\n",
       "      <th>n_ejercicio</th>\n",
       "      <th>dificultad</th>\n",
       "      <th>n_columnas</th>\n",
       "      <th>puntos</th>\n",
       "      <th>enun_tex</th>\n",
       "      <th>sol_tex</th>\n",
       "    </tr>\n",
       "  </thead>\n",
       "  <tbody>\n",
       "    <tr>\n",
       "      <th>0</th>\n",
       "      <td>Dominio de $f(x)$</td>\n",
       "      <td>Dominio de $f(x)$</td>\n",
       "      <td>$Dom(f)=\\left(-\\infty, - \\frac{3}{2}\\right) \\c...</td>\n",
       "      <td>Dada la función:$f(x)=\\frac{x^{2} - 2 x + 1}{2...</td>\n",
       "      <td>1BC</td>\n",
       "      <td>Continuidad</td>\n",
       "      <td>ejfunc1-0</td>\n",
       "      <td>5</td>\n",
       "      <td>1</td>\n",
       "      <td>1</td>\n",
       "      <td>False</td>\n",
       "      <td>False</td>\n",
       "    </tr>\n",
       "    <tr>\n",
       "      <th>1</th>\n",
       "      <td>¿Para qué valores de $x$ la función es creciente?</td>\n",
       "      <td>¿Para qué valores de $x$ la función es creciente?</td>\n",
       "      <td>$\\left(-\\infty, -4\\right) \\cup \\left(1, \\infty...</td>\n",
       "      <td>Dada la función:$f(x)=\\frac{x^{2} - 2 x + 1}{2...</td>\n",
       "      <td>1BC</td>\n",
       "      <td>Continuidad</td>\n",
       "      <td>ejfunc1-0</td>\n",
       "      <td>5</td>\n",
       "      <td>1</td>\n",
       "      <td>1</td>\n",
       "      <td>False</td>\n",
       "      <td>False</td>\n",
       "    </tr>\n",
       "    <tr>\n",
       "      <th>2</th>\n",
       "      <td>Asíntotas verticales, horizontales y oblicuas,...</td>\n",
       "      <td>Asíntotas verticales, horizontales y oblicuas,...</td>\n",
       "      <td>Asíntotas:\\\\A.V. $x=-3/2$\\\\A.O. $y=\\frac{x}{2}...</td>\n",
       "      <td>Dada la función:$f(x)=\\frac{x^{2} - 2 x + 1}{2...</td>\n",
       "      <td>1BC</td>\n",
       "      <td>Continuidad</td>\n",
       "      <td>ejfunc1-0</td>\n",
       "      <td>5</td>\n",
       "      <td>1</td>\n",
       "      <td>1</td>\n",
       "      <td>False</td>\n",
       "      <td>False</td>\n",
       "    </tr>\n",
       "    <tr>\n",
       "      <th>3</th>\n",
       "      <td>Dominio de $f(x)$</td>\n",
       "      <td>Dominio de $f(x)$</td>\n",
       "      <td>$Dom(f)=\\left(-\\infty, -2\\right) \\cup \\left(-2...</td>\n",
       "      <td>Dada la función:$f(x)=\\frac{- x^{2} - x + 3}{x...</td>\n",
       "      <td>1BC</td>\n",
       "      <td>Continuidad</td>\n",
       "      <td>ejfunc1-1</td>\n",
       "      <td>5</td>\n",
       "      <td>1</td>\n",
       "      <td>1</td>\n",
       "      <td>False</td>\n",
       "      <td>False</td>\n",
       "    </tr>\n",
       "    <tr>\n",
       "      <th>4</th>\n",
       "      <td>¿Para qué valores de $x$ la función es creciente?</td>\n",
       "      <td>¿Para qué valores de $x$ la función es creciente?</td>\n",
       "      <td>$\\left(-\\infty, -2\\right) \\cup \\left(-2, - \\fr...</td>\n",
       "      <td>Dada la función:$f(x)=\\frac{- x^{2} - x + 3}{x...</td>\n",
       "      <td>1BC</td>\n",
       "      <td>Continuidad</td>\n",
       "      <td>ejfunc1-1</td>\n",
       "      <td>5</td>\n",
       "      <td>1</td>\n",
       "      <td>1</td>\n",
       "      <td>False</td>\n",
       "      <td>False</td>\n",
       "    </tr>\n",
       "    <tr>\n",
       "      <th>5</th>\n",
       "      <td>Asíntotas verticales, horizontales y oblicuas,...</td>\n",
       "      <td>Asíntotas verticales, horizontales y oblicuas,...</td>\n",
       "      <td>Asíntotas:\\\\A.V. $x=-2$\\\\, A.V. $x=1$\\\\A.H. $y...</td>\n",
       "      <td>Dada la función:$f(x)=\\frac{- x^{2} - x + 3}{x...</td>\n",
       "      <td>1BC</td>\n",
       "      <td>Continuidad</td>\n",
       "      <td>ejfunc1-1</td>\n",
       "      <td>5</td>\n",
       "      <td>1</td>\n",
       "      <td>1</td>\n",
       "      <td>False</td>\n",
       "      <td>False</td>\n",
       "    </tr>\n",
       "    <tr>\n",
       "      <th>6</th>\n",
       "      <td>$$\\lim_{x \\to -2}\\left(\\frac{2 x^{2} + 7 x + 6...</td>\n",
       "      <td>Limit((2*x**2 + 7*x + 6)/(x**3 + 3*x**2 + 3*x ...</td>\n",
       "      <td>$- \\frac{1}{3}$</td>\n",
       "      <td>Calcula los siguientes límites:\\n</td>\n",
       "      <td>1BC</td>\n",
       "      <td>Continuidad</td>\n",
       "      <td>Ejercicios2:</td>\n",
       "      <td>5</td>\n",
       "      <td>3</td>\n",
       "      <td>1</td>\n",
       "      <td>False</td>\n",
       "      <td>False</td>\n",
       "    </tr>\n",
       "    <tr>\n",
       "      <th>7</th>\n",
       "      <td>$$\\lim_{x \\to -1}\\left(\\frac{x^{3} + 1}{x^{2} ...</td>\n",
       "      <td>Limit((x**3 + 1)/(x**2 + 2*x + 1), x, -1, dir=...</td>\n",
       "      <td>No existe el límite</td>\n",
       "      <td>Calcula los siguientes límites:\\n</td>\n",
       "      <td>1BC</td>\n",
       "      <td>Continuidad</td>\n",
       "      <td>Ejercicios2:</td>\n",
       "      <td>5</td>\n",
       "      <td>3</td>\n",
       "      <td>1</td>\n",
       "      <td>False</td>\n",
       "      <td>False</td>\n",
       "    </tr>\n",
       "    <tr>\n",
       "      <th>8</th>\n",
       "      <td>$$\\lim_{x \\to \\infty} \\left(\\frac{3 x - 1}{3 x...</td>\n",
       "      <td>Limit(((3*x - 1)/(3*x - 2))**(2*x), x, oo, dir...</td>\n",
       "      <td>$e^{\\frac{2}{3}}$</td>\n",
       "      <td>Calcula los siguientes límites:\\n</td>\n",
       "      <td>1BC</td>\n",
       "      <td>Continuidad</td>\n",
       "      <td>Ejercicios2:</td>\n",
       "      <td>5</td>\n",
       "      <td>3</td>\n",
       "      <td>1</td>\n",
       "      <td>False</td>\n",
       "      <td>False</td>\n",
       "    </tr>\n",
       "  </tbody>\n",
       "</table>\n",
       "</div>"
      ],
      "text/plain": [
       "                                     enunciado_latex  \\\n",
       "0                                  Dominio de $f(x)$   \n",
       "1  ¿Para qué valores de $x$ la función es creciente?   \n",
       "2  Asíntotas verticales, horizontales y oblicuas,...   \n",
       "3                                  Dominio de $f(x)$   \n",
       "4  ¿Para qué valores de $x$ la función es creciente?   \n",
       "5  Asíntotas verticales, horizontales y oblicuas,...   \n",
       "6  $$\\lim_{x \\to -2}\\left(\\frac{2 x^{2} + 7 x + 6...   \n",
       "7  $$\\lim_{x \\to -1}\\left(\\frac{x^{3} + 1}{x^{2} ...   \n",
       "8  $$\\lim_{x \\to \\infty} \\left(\\frac{3 x - 1}{3 x...   \n",
       "\n",
       "                                           enunciado  \\\n",
       "0                                  Dominio de $f(x)$   \n",
       "1  ¿Para qué valores de $x$ la función es creciente?   \n",
       "2  Asíntotas verticales, horizontales y oblicuas,...   \n",
       "3                                  Dominio de $f(x)$   \n",
       "4  ¿Para qué valores de $x$ la función es creciente?   \n",
       "5  Asíntotas verticales, horizontales y oblicuas,...   \n",
       "6  Limit((2*x**2 + 7*x + 6)/(x**3 + 3*x**2 + 3*x ...   \n",
       "7  Limit((x**3 + 1)/(x**2 + 2*x + 1), x, -1, dir=...   \n",
       "8  Limit(((3*x - 1)/(3*x - 2))**(2*x), x, oo, dir...   \n",
       "\n",
       "                                            solucion  \\\n",
       "0  $Dom(f)=\\left(-\\infty, - \\frac{3}{2}\\right) \\c...   \n",
       "1  $\\left(-\\infty, -4\\right) \\cup \\left(1, \\infty...   \n",
       "2  Asíntotas:\\\\A.V. $x=-3/2$\\\\A.O. $y=\\frac{x}{2}...   \n",
       "3  $Dom(f)=\\left(-\\infty, -2\\right) \\cup \\left(-2...   \n",
       "4  $\\left(-\\infty, -2\\right) \\cup \\left(-2, - \\fr...   \n",
       "5  Asíntotas:\\\\A.V. $x=-2$\\\\, A.V. $x=1$\\\\A.H. $y...   \n",
       "6                                    $- \\frac{1}{3}$   \n",
       "7                                No existe el límite   \n",
       "8                                  $e^{\\frac{2}{3}}$   \n",
       "\n",
       "                                               texto curso       titulo  \\\n",
       "0  Dada la función:$f(x)=\\frac{x^{2} - 2 x + 1}{2...   1BC  Continuidad   \n",
       "1  Dada la función:$f(x)=\\frac{x^{2} - 2 x + 1}{2...   1BC  Continuidad   \n",
       "2  Dada la función:$f(x)=\\frac{x^{2} - 2 x + 1}{2...   1BC  Continuidad   \n",
       "3  Dada la función:$f(x)=\\frac{- x^{2} - x + 3}{x...   1BC  Continuidad   \n",
       "4  Dada la función:$f(x)=\\frac{- x^{2} - x + 3}{x...   1BC  Continuidad   \n",
       "5  Dada la función:$f(x)=\\frac{- x^{2} - x + 3}{x...   1BC  Continuidad   \n",
       "6                  Calcula los siguientes límites:\\n   1BC  Continuidad   \n",
       "7                  Calcula los siguientes límites:\\n   1BC  Continuidad   \n",
       "8                  Calcula los siguientes límites:\\n   1BC  Continuidad   \n",
       "\n",
       "     n_ejercicio dificultad n_columnas puntos  enun_tex  sol_tex  \n",
       "0      ejfunc1-0          5          1      1     False    False  \n",
       "1      ejfunc1-0          5          1      1     False    False  \n",
       "2      ejfunc1-0          5          1      1     False    False  \n",
       "3      ejfunc1-1          5          1      1     False    False  \n",
       "4      ejfunc1-1          5          1      1     False    False  \n",
       "5      ejfunc1-1          5          1      1     False    False  \n",
       "6  Ejercicios2:           5          3      1     False    False  \n",
       "7  Ejercicios2:           5          3      1     False    False  \n",
       "8  Ejercicios2:           5          3      1     False    False  "
      ]
     },
     "execution_count": 10,
     "metadata": {},
     "output_type": "execute_result"
    }
   ],
   "source": [
    "df_ejercicios"
   ]
  },
  {
   "cell_type": "code",
   "execution_count": 11,
   "metadata": {},
   "outputs": [
    {
     "data": {
      "text/markdown": [
       "**Ejercicio: **Ejercicios2: "
      ],
      "text/plain": [
       "<IPython.core.display.Markdown object>"
      ]
     },
     "metadata": {},
     "output_type": "display_data"
    },
    {
     "data": {
      "text/html": [
       "<div>\n",
       "<style scoped>\n",
       "    .dataframe tbody tr th:only-of-type {\n",
       "        vertical-align: middle;\n",
       "    }\n",
       "\n",
       "    .dataframe tbody tr th {\n",
       "        vertical-align: top;\n",
       "    }\n",
       "\n",
       "    .dataframe thead th {\n",
       "        text-align: right;\n",
       "    }\n",
       "</style>\n",
       "<table border=\"1\" class=\"dataframe\">\n",
       "  <thead>\n",
       "    <tr style=\"text-align: right;\">\n",
       "      <th></th>\n",
       "      <th>enunciado_latex</th>\n",
       "      <th>enunciado</th>\n",
       "      <th>solucion</th>\n",
       "      <th>texto</th>\n",
       "      <th>curso</th>\n",
       "      <th>titulo</th>\n",
       "      <th>n_ejercicio</th>\n",
       "      <th>dificultad</th>\n",
       "      <th>n_columnas</th>\n",
       "      <th>puntos</th>\n",
       "      <th>enun_tex</th>\n",
       "      <th>sol_tex</th>\n",
       "    </tr>\n",
       "  </thead>\n",
       "  <tbody>\n",
       "    <tr>\n",
       "      <th>6</th>\n",
       "      <td>$$\\lim_{x \\to -2}\\left(\\frac{2 x^{2} + 7 x + 6...</td>\n",
       "      <td>Limit((2*x**2 + 7*x + 6)/(x**3 + 3*x**2 + 3*x ...</td>\n",
       "      <td>$- \\frac{1}{3}$</td>\n",
       "      <td>Calcula los siguientes límites:\\n</td>\n",
       "      <td>1BC</td>\n",
       "      <td>Continuidad</td>\n",
       "      <td>Ejercicios2:</td>\n",
       "      <td>5</td>\n",
       "      <td>3</td>\n",
       "      <td>1</td>\n",
       "      <td>False</td>\n",
       "      <td>False</td>\n",
       "    </tr>\n",
       "    <tr>\n",
       "      <th>7</th>\n",
       "      <td>$$\\lim_{x \\to -1}\\left(\\frac{x^{3} + 1}{x^{2} ...</td>\n",
       "      <td>Limit((x**3 + 1)/(x**2 + 2*x + 1), x, -1, dir=...</td>\n",
       "      <td>No existe el límite</td>\n",
       "      <td>Calcula los siguientes límites:\\n</td>\n",
       "      <td>1BC</td>\n",
       "      <td>Continuidad</td>\n",
       "      <td>Ejercicios2:</td>\n",
       "      <td>5</td>\n",
       "      <td>3</td>\n",
       "      <td>1</td>\n",
       "      <td>False</td>\n",
       "      <td>False</td>\n",
       "    </tr>\n",
       "    <tr>\n",
       "      <th>8</th>\n",
       "      <td>$$\\lim_{x \\to \\infty} \\left(\\frac{3 x - 1}{3 x...</td>\n",
       "      <td>Limit(((3*x - 1)/(3*x - 2))**(2*x), x, oo, dir...</td>\n",
       "      <td>$e^{\\frac{2}{3}}$</td>\n",
       "      <td>Calcula los siguientes límites:\\n</td>\n",
       "      <td>1BC</td>\n",
       "      <td>Continuidad</td>\n",
       "      <td>Ejercicios2:</td>\n",
       "      <td>5</td>\n",
       "      <td>3</td>\n",
       "      <td>1</td>\n",
       "      <td>False</td>\n",
       "      <td>False</td>\n",
       "    </tr>\n",
       "  </tbody>\n",
       "</table>\n",
       "</div>"
      ],
      "text/plain": [
       "                                     enunciado_latex  \\\n",
       "6  $$\\lim_{x \\to -2}\\left(\\frac{2 x^{2} + 7 x + 6...   \n",
       "7  $$\\lim_{x \\to -1}\\left(\\frac{x^{3} + 1}{x^{2} ...   \n",
       "8  $$\\lim_{x \\to \\infty} \\left(\\frac{3 x - 1}{3 x...   \n",
       "\n",
       "                                           enunciado             solucion  \\\n",
       "6  Limit((2*x**2 + 7*x + 6)/(x**3 + 3*x**2 + 3*x ...      $- \\frac{1}{3}$   \n",
       "7  Limit((x**3 + 1)/(x**2 + 2*x + 1), x, -1, dir=...  No existe el límite   \n",
       "8  Limit(((3*x - 1)/(3*x - 2))**(2*x), x, oo, dir...    $e^{\\frac{2}{3}}$   \n",
       "\n",
       "                               texto curso       titulo    n_ejercicio  \\\n",
       "6  Calcula los siguientes límites:\\n   1BC  Continuidad  Ejercicios2:    \n",
       "7  Calcula los siguientes límites:\\n   1BC  Continuidad  Ejercicios2:    \n",
       "8  Calcula los siguientes límites:\\n   1BC  Continuidad  Ejercicios2:    \n",
       "\n",
       "  dificultad n_columnas puntos  enun_tex  sol_tex  \n",
       "6          5          3      1     False    False  \n",
       "7          5          3      1     False    False  \n",
       "8          5          3      1     False    False  "
      ]
     },
     "metadata": {},
     "output_type": "display_data"
    },
    {
     "data": {
      "text/markdown": [
       "**Ejercicio: **ejfunc1-0"
      ],
      "text/plain": [
       "<IPython.core.display.Markdown object>"
      ]
     },
     "metadata": {},
     "output_type": "display_data"
    },
    {
     "data": {
      "text/html": [
       "<div>\n",
       "<style scoped>\n",
       "    .dataframe tbody tr th:only-of-type {\n",
       "        vertical-align: middle;\n",
       "    }\n",
       "\n",
       "    .dataframe tbody tr th {\n",
       "        vertical-align: top;\n",
       "    }\n",
       "\n",
       "    .dataframe thead th {\n",
       "        text-align: right;\n",
       "    }\n",
       "</style>\n",
       "<table border=\"1\" class=\"dataframe\">\n",
       "  <thead>\n",
       "    <tr style=\"text-align: right;\">\n",
       "      <th></th>\n",
       "      <th>enunciado_latex</th>\n",
       "      <th>enunciado</th>\n",
       "      <th>solucion</th>\n",
       "      <th>texto</th>\n",
       "      <th>curso</th>\n",
       "      <th>titulo</th>\n",
       "      <th>n_ejercicio</th>\n",
       "      <th>dificultad</th>\n",
       "      <th>n_columnas</th>\n",
       "      <th>puntos</th>\n",
       "      <th>enun_tex</th>\n",
       "      <th>sol_tex</th>\n",
       "    </tr>\n",
       "  </thead>\n",
       "  <tbody>\n",
       "    <tr>\n",
       "      <th>0</th>\n",
       "      <td>Dominio de $f(x)$</td>\n",
       "      <td>Dominio de $f(x)$</td>\n",
       "      <td>$Dom(f)=\\left(-\\infty, - \\frac{3}{2}\\right) \\c...</td>\n",
       "      <td>Dada la función:$f(x)=\\frac{x^{2} - 2 x + 1}{2...</td>\n",
       "      <td>1BC</td>\n",
       "      <td>Continuidad</td>\n",
       "      <td>ejfunc1-0</td>\n",
       "      <td>5</td>\n",
       "      <td>1</td>\n",
       "      <td>1</td>\n",
       "      <td>False</td>\n",
       "      <td>False</td>\n",
       "    </tr>\n",
       "    <tr>\n",
       "      <th>1</th>\n",
       "      <td>¿Para qué valores de $x$ la función es creciente?</td>\n",
       "      <td>¿Para qué valores de $x$ la función es creciente?</td>\n",
       "      <td>$\\left(-\\infty, -4\\right) \\cup \\left(1, \\infty...</td>\n",
       "      <td>Dada la función:$f(x)=\\frac{x^{2} - 2 x + 1}{2...</td>\n",
       "      <td>1BC</td>\n",
       "      <td>Continuidad</td>\n",
       "      <td>ejfunc1-0</td>\n",
       "      <td>5</td>\n",
       "      <td>1</td>\n",
       "      <td>1</td>\n",
       "      <td>False</td>\n",
       "      <td>False</td>\n",
       "    </tr>\n",
       "    <tr>\n",
       "      <th>2</th>\n",
       "      <td>Asíntotas verticales, horizontales y oblicuas,...</td>\n",
       "      <td>Asíntotas verticales, horizontales y oblicuas,...</td>\n",
       "      <td>Asíntotas:\\\\A.V. $x=-3/2$\\\\A.O. $y=\\frac{x}{2}...</td>\n",
       "      <td>Dada la función:$f(x)=\\frac{x^{2} - 2 x + 1}{2...</td>\n",
       "      <td>1BC</td>\n",
       "      <td>Continuidad</td>\n",
       "      <td>ejfunc1-0</td>\n",
       "      <td>5</td>\n",
       "      <td>1</td>\n",
       "      <td>1</td>\n",
       "      <td>False</td>\n",
       "      <td>False</td>\n",
       "    </tr>\n",
       "  </tbody>\n",
       "</table>\n",
       "</div>"
      ],
      "text/plain": [
       "                                     enunciado_latex  \\\n",
       "0                                  Dominio de $f(x)$   \n",
       "1  ¿Para qué valores de $x$ la función es creciente?   \n",
       "2  Asíntotas verticales, horizontales y oblicuas,...   \n",
       "\n",
       "                                           enunciado  \\\n",
       "0                                  Dominio de $f(x)$   \n",
       "1  ¿Para qué valores de $x$ la función es creciente?   \n",
       "2  Asíntotas verticales, horizontales y oblicuas,...   \n",
       "\n",
       "                                            solucion  \\\n",
       "0  $Dom(f)=\\left(-\\infty, - \\frac{3}{2}\\right) \\c...   \n",
       "1  $\\left(-\\infty, -4\\right) \\cup \\left(1, \\infty...   \n",
       "2  Asíntotas:\\\\A.V. $x=-3/2$\\\\A.O. $y=\\frac{x}{2}...   \n",
       "\n",
       "                                               texto curso       titulo  \\\n",
       "0  Dada la función:$f(x)=\\frac{x^{2} - 2 x + 1}{2...   1BC  Continuidad   \n",
       "1  Dada la función:$f(x)=\\frac{x^{2} - 2 x + 1}{2...   1BC  Continuidad   \n",
       "2  Dada la función:$f(x)=\\frac{x^{2} - 2 x + 1}{2...   1BC  Continuidad   \n",
       "\n",
       "  n_ejercicio dificultad n_columnas puntos  enun_tex  sol_tex  \n",
       "0   ejfunc1-0          5          1      1     False    False  \n",
       "1   ejfunc1-0          5          1      1     False    False  \n",
       "2   ejfunc1-0          5          1      1     False    False  "
      ]
     },
     "metadata": {},
     "output_type": "display_data"
    },
    {
     "data": {
      "text/markdown": [
       "**Ejercicio: **ejfunc1-1"
      ],
      "text/plain": [
       "<IPython.core.display.Markdown object>"
      ]
     },
     "metadata": {},
     "output_type": "display_data"
    },
    {
     "data": {
      "text/html": [
       "<div>\n",
       "<style scoped>\n",
       "    .dataframe tbody tr th:only-of-type {\n",
       "        vertical-align: middle;\n",
       "    }\n",
       "\n",
       "    .dataframe tbody tr th {\n",
       "        vertical-align: top;\n",
       "    }\n",
       "\n",
       "    .dataframe thead th {\n",
       "        text-align: right;\n",
       "    }\n",
       "</style>\n",
       "<table border=\"1\" class=\"dataframe\">\n",
       "  <thead>\n",
       "    <tr style=\"text-align: right;\">\n",
       "      <th></th>\n",
       "      <th>enunciado_latex</th>\n",
       "      <th>enunciado</th>\n",
       "      <th>solucion</th>\n",
       "      <th>texto</th>\n",
       "      <th>curso</th>\n",
       "      <th>titulo</th>\n",
       "      <th>n_ejercicio</th>\n",
       "      <th>dificultad</th>\n",
       "      <th>n_columnas</th>\n",
       "      <th>puntos</th>\n",
       "      <th>enun_tex</th>\n",
       "      <th>sol_tex</th>\n",
       "    </tr>\n",
       "  </thead>\n",
       "  <tbody>\n",
       "    <tr>\n",
       "      <th>3</th>\n",
       "      <td>Dominio de $f(x)$</td>\n",
       "      <td>Dominio de $f(x)$</td>\n",
       "      <td>$Dom(f)=\\left(-\\infty, -2\\right) \\cup \\left(-2...</td>\n",
       "      <td>Dada la función:$f(x)=\\frac{- x^{2} - x + 3}{x...</td>\n",
       "      <td>1BC</td>\n",
       "      <td>Continuidad</td>\n",
       "      <td>ejfunc1-1</td>\n",
       "      <td>5</td>\n",
       "      <td>1</td>\n",
       "      <td>1</td>\n",
       "      <td>False</td>\n",
       "      <td>False</td>\n",
       "    </tr>\n",
       "    <tr>\n",
       "      <th>4</th>\n",
       "      <td>¿Para qué valores de $x$ la función es creciente?</td>\n",
       "      <td>¿Para qué valores de $x$ la función es creciente?</td>\n",
       "      <td>$\\left(-\\infty, -2\\right) \\cup \\left(-2, - \\fr...</td>\n",
       "      <td>Dada la función:$f(x)=\\frac{- x^{2} - x + 3}{x...</td>\n",
       "      <td>1BC</td>\n",
       "      <td>Continuidad</td>\n",
       "      <td>ejfunc1-1</td>\n",
       "      <td>5</td>\n",
       "      <td>1</td>\n",
       "      <td>1</td>\n",
       "      <td>False</td>\n",
       "      <td>False</td>\n",
       "    </tr>\n",
       "    <tr>\n",
       "      <th>5</th>\n",
       "      <td>Asíntotas verticales, horizontales y oblicuas,...</td>\n",
       "      <td>Asíntotas verticales, horizontales y oblicuas,...</td>\n",
       "      <td>Asíntotas:\\\\A.V. $x=-2$\\\\, A.V. $x=1$\\\\A.H. $y...</td>\n",
       "      <td>Dada la función:$f(x)=\\frac{- x^{2} - x + 3}{x...</td>\n",
       "      <td>1BC</td>\n",
       "      <td>Continuidad</td>\n",
       "      <td>ejfunc1-1</td>\n",
       "      <td>5</td>\n",
       "      <td>1</td>\n",
       "      <td>1</td>\n",
       "      <td>False</td>\n",
       "      <td>False</td>\n",
       "    </tr>\n",
       "  </tbody>\n",
       "</table>\n",
       "</div>"
      ],
      "text/plain": [
       "                                     enunciado_latex  \\\n",
       "3                                  Dominio de $f(x)$   \n",
       "4  ¿Para qué valores de $x$ la función es creciente?   \n",
       "5  Asíntotas verticales, horizontales y oblicuas,...   \n",
       "\n",
       "                                           enunciado  \\\n",
       "3                                  Dominio de $f(x)$   \n",
       "4  ¿Para qué valores de $x$ la función es creciente?   \n",
       "5  Asíntotas verticales, horizontales y oblicuas,...   \n",
       "\n",
       "                                            solucion  \\\n",
       "3  $Dom(f)=\\left(-\\infty, -2\\right) \\cup \\left(-2...   \n",
       "4  $\\left(-\\infty, -2\\right) \\cup \\left(-2, - \\fr...   \n",
       "5  Asíntotas:\\\\A.V. $x=-2$\\\\, A.V. $x=1$\\\\A.H. $y...   \n",
       "\n",
       "                                               texto curso       titulo  \\\n",
       "3  Dada la función:$f(x)=\\frac{- x^{2} - x + 3}{x...   1BC  Continuidad   \n",
       "4  Dada la función:$f(x)=\\frac{- x^{2} - x + 3}{x...   1BC  Continuidad   \n",
       "5  Dada la función:$f(x)=\\frac{- x^{2} - x + 3}{x...   1BC  Continuidad   \n",
       "\n",
       "  n_ejercicio dificultad n_columnas puntos  enun_tex  sol_tex  \n",
       "3   ejfunc1-1          5          1      1     False    False  \n",
       "4   ejfunc1-1          5          1      1     False    False  \n",
       "5   ejfunc1-1          5          1      1     False    False  "
      ]
     },
     "metadata": {},
     "output_type": "display_data"
    }
   ],
   "source": [
    "escribir_preambulo(fichero, titulo, 'ejercicios')\n",
    "for s in df_ejercicios.groupby('n_ejercicio').count().index : \n",
    "    display(md(\"**Ejercicio: **\" + s ))\n",
    "    display(df_ejercicios[df_ejercicios.n_ejercicio == s])\n",
    "    escribir_ejercicios(df_ejercicios[df_ejercicios.n_ejercicio == s],fichero)\n",
    "\n",
    "escribir_fin(fichero)"
   ]
  },
  {
   "cell_type": "code",
   "execution_count": 12,
   "metadata": {},
   "outputs": [
    {
     "data": {
      "text/markdown": [
       "**Ejercicio: **Ejercicios2: "
      ],
      "text/plain": [
       "<IPython.core.display.Markdown object>"
      ]
     },
     "metadata": {},
     "output_type": "display_data"
    },
    {
     "data": {
      "text/html": [
       "<div>\n",
       "<style scoped>\n",
       "    .dataframe tbody tr th:only-of-type {\n",
       "        vertical-align: middle;\n",
       "    }\n",
       "\n",
       "    .dataframe tbody tr th {\n",
       "        vertical-align: top;\n",
       "    }\n",
       "\n",
       "    .dataframe thead th {\n",
       "        text-align: right;\n",
       "    }\n",
       "</style>\n",
       "<table border=\"1\" class=\"dataframe\">\n",
       "  <thead>\n",
       "    <tr style=\"text-align: right;\">\n",
       "      <th></th>\n",
       "      <th>enunciado_latex</th>\n",
       "      <th>enunciado</th>\n",
       "      <th>solucion</th>\n",
       "      <th>texto</th>\n",
       "      <th>curso</th>\n",
       "      <th>titulo</th>\n",
       "      <th>n_ejercicio</th>\n",
       "      <th>dificultad</th>\n",
       "      <th>n_columnas</th>\n",
       "      <th>puntos</th>\n",
       "      <th>enun_tex</th>\n",
       "      <th>sol_tex</th>\n",
       "    </tr>\n",
       "  </thead>\n",
       "  <tbody>\n",
       "    <tr>\n",
       "      <th>6</th>\n",
       "      <td>$$\\lim_{x \\to -2}\\left(\\frac{2 x^{2} + 7 x + 6...</td>\n",
       "      <td>Limit((2*x**2 + 7*x + 6)/(x**3 + 3*x**2 + 3*x ...</td>\n",
       "      <td>$- \\frac{1}{3}$</td>\n",
       "      <td>Calcula los siguientes límites:\\n</td>\n",
       "      <td>1BC</td>\n",
       "      <td>Continuidad</td>\n",
       "      <td>Ejercicios2:</td>\n",
       "      <td>5</td>\n",
       "      <td>3</td>\n",
       "      <td>1</td>\n",
       "      <td>False</td>\n",
       "      <td>False</td>\n",
       "    </tr>\n",
       "    <tr>\n",
       "      <th>7</th>\n",
       "      <td>$$\\lim_{x \\to -1}\\left(\\frac{x^{3} + 1}{x^{2} ...</td>\n",
       "      <td>Limit((x**3 + 1)/(x**2 + 2*x + 1), x, -1, dir=...</td>\n",
       "      <td>No existe el límite</td>\n",
       "      <td>Calcula los siguientes límites:\\n</td>\n",
       "      <td>1BC</td>\n",
       "      <td>Continuidad</td>\n",
       "      <td>Ejercicios2:</td>\n",
       "      <td>5</td>\n",
       "      <td>3</td>\n",
       "      <td>1</td>\n",
       "      <td>False</td>\n",
       "      <td>False</td>\n",
       "    </tr>\n",
       "    <tr>\n",
       "      <th>8</th>\n",
       "      <td>$$\\lim_{x \\to \\infty} \\left(\\frac{3 x - 1}{3 x...</td>\n",
       "      <td>Limit(((3*x - 1)/(3*x - 2))**(2*x), x, oo, dir...</td>\n",
       "      <td>$e^{\\frac{2}{3}}$</td>\n",
       "      <td>Calcula los siguientes límites:\\n</td>\n",
       "      <td>1BC</td>\n",
       "      <td>Continuidad</td>\n",
       "      <td>Ejercicios2:</td>\n",
       "      <td>5</td>\n",
       "      <td>3</td>\n",
       "      <td>1</td>\n",
       "      <td>False</td>\n",
       "      <td>False</td>\n",
       "    </tr>\n",
       "  </tbody>\n",
       "</table>\n",
       "</div>"
      ],
      "text/plain": [
       "                                     enunciado_latex  \\\n",
       "6  $$\\lim_{x \\to -2}\\left(\\frac{2 x^{2} + 7 x + 6...   \n",
       "7  $$\\lim_{x \\to -1}\\left(\\frac{x^{3} + 1}{x^{2} ...   \n",
       "8  $$\\lim_{x \\to \\infty} \\left(\\frac{3 x - 1}{3 x...   \n",
       "\n",
       "                                           enunciado             solucion  \\\n",
       "6  Limit((2*x**2 + 7*x + 6)/(x**3 + 3*x**2 + 3*x ...      $- \\frac{1}{3}$   \n",
       "7  Limit((x**3 + 1)/(x**2 + 2*x + 1), x, -1, dir=...  No existe el límite   \n",
       "8  Limit(((3*x - 1)/(3*x - 2))**(2*x), x, oo, dir...    $e^{\\frac{2}{3}}$   \n",
       "\n",
       "                               texto curso       titulo    n_ejercicio  \\\n",
       "6  Calcula los siguientes límites:\\n   1BC  Continuidad  Ejercicios2:    \n",
       "7  Calcula los siguientes límites:\\n   1BC  Continuidad  Ejercicios2:    \n",
       "8  Calcula los siguientes límites:\\n   1BC  Continuidad  Ejercicios2:    \n",
       "\n",
       "  dificultad n_columnas puntos  enun_tex  sol_tex  \n",
       "6          5          3      1     False    False  \n",
       "7          5          3      1     False    False  \n",
       "8          5          3      1     False    False  "
      ]
     },
     "metadata": {},
     "output_type": "display_data"
    },
    {
     "data": {
      "text/markdown": [
       "**Ejercicio: **ejfunc1-0"
      ],
      "text/plain": [
       "<IPython.core.display.Markdown object>"
      ]
     },
     "metadata": {},
     "output_type": "display_data"
    },
    {
     "data": {
      "text/html": [
       "<div>\n",
       "<style scoped>\n",
       "    .dataframe tbody tr th:only-of-type {\n",
       "        vertical-align: middle;\n",
       "    }\n",
       "\n",
       "    .dataframe tbody tr th {\n",
       "        vertical-align: top;\n",
       "    }\n",
       "\n",
       "    .dataframe thead th {\n",
       "        text-align: right;\n",
       "    }\n",
       "</style>\n",
       "<table border=\"1\" class=\"dataframe\">\n",
       "  <thead>\n",
       "    <tr style=\"text-align: right;\">\n",
       "      <th></th>\n",
       "      <th>enunciado_latex</th>\n",
       "      <th>enunciado</th>\n",
       "      <th>solucion</th>\n",
       "      <th>texto</th>\n",
       "      <th>curso</th>\n",
       "      <th>titulo</th>\n",
       "      <th>n_ejercicio</th>\n",
       "      <th>dificultad</th>\n",
       "      <th>n_columnas</th>\n",
       "      <th>puntos</th>\n",
       "      <th>enun_tex</th>\n",
       "      <th>sol_tex</th>\n",
       "    </tr>\n",
       "  </thead>\n",
       "  <tbody>\n",
       "    <tr>\n",
       "      <th>0</th>\n",
       "      <td>Dominio de $f(x)$</td>\n",
       "      <td>Dominio de $f(x)$</td>\n",
       "      <td>$Dom(f)=\\left(-\\infty, - \\frac{3}{2}\\right) \\c...</td>\n",
       "      <td>Dada la función:$f(x)=\\frac{x^{2} - 2 x + 1}{2...</td>\n",
       "      <td>1BC</td>\n",
       "      <td>Continuidad</td>\n",
       "      <td>ejfunc1-0</td>\n",
       "      <td>5</td>\n",
       "      <td>1</td>\n",
       "      <td>1</td>\n",
       "      <td>False</td>\n",
       "      <td>False</td>\n",
       "    </tr>\n",
       "    <tr>\n",
       "      <th>1</th>\n",
       "      <td>¿Para qué valores de $x$ la función es creciente?</td>\n",
       "      <td>¿Para qué valores de $x$ la función es creciente?</td>\n",
       "      <td>$\\left(-\\infty, -4\\right) \\cup \\left(1, \\infty...</td>\n",
       "      <td>Dada la función:$f(x)=\\frac{x^{2} - 2 x + 1}{2...</td>\n",
       "      <td>1BC</td>\n",
       "      <td>Continuidad</td>\n",
       "      <td>ejfunc1-0</td>\n",
       "      <td>5</td>\n",
       "      <td>1</td>\n",
       "      <td>1</td>\n",
       "      <td>False</td>\n",
       "      <td>False</td>\n",
       "    </tr>\n",
       "    <tr>\n",
       "      <th>2</th>\n",
       "      <td>Asíntotas verticales, horizontales y oblicuas,...</td>\n",
       "      <td>Asíntotas verticales, horizontales y oblicuas,...</td>\n",
       "      <td>Asíntotas:\\\\A.V. $x=-3/2$\\\\A.O. $y=\\frac{x}{2}...</td>\n",
       "      <td>Dada la función:$f(x)=\\frac{x^{2} - 2 x + 1}{2...</td>\n",
       "      <td>1BC</td>\n",
       "      <td>Continuidad</td>\n",
       "      <td>ejfunc1-0</td>\n",
       "      <td>5</td>\n",
       "      <td>1</td>\n",
       "      <td>1</td>\n",
       "      <td>False</td>\n",
       "      <td>False</td>\n",
       "    </tr>\n",
       "  </tbody>\n",
       "</table>\n",
       "</div>"
      ],
      "text/plain": [
       "                                     enunciado_latex  \\\n",
       "0                                  Dominio de $f(x)$   \n",
       "1  ¿Para qué valores de $x$ la función es creciente?   \n",
       "2  Asíntotas verticales, horizontales y oblicuas,...   \n",
       "\n",
       "                                           enunciado  \\\n",
       "0                                  Dominio de $f(x)$   \n",
       "1  ¿Para qué valores de $x$ la función es creciente?   \n",
       "2  Asíntotas verticales, horizontales y oblicuas,...   \n",
       "\n",
       "                                            solucion  \\\n",
       "0  $Dom(f)=\\left(-\\infty, - \\frac{3}{2}\\right) \\c...   \n",
       "1  $\\left(-\\infty, -4\\right) \\cup \\left(1, \\infty...   \n",
       "2  Asíntotas:\\\\A.V. $x=-3/2$\\\\A.O. $y=\\frac{x}{2}...   \n",
       "\n",
       "                                               texto curso       titulo  \\\n",
       "0  Dada la función:$f(x)=\\frac{x^{2} - 2 x + 1}{2...   1BC  Continuidad   \n",
       "1  Dada la función:$f(x)=\\frac{x^{2} - 2 x + 1}{2...   1BC  Continuidad   \n",
       "2  Dada la función:$f(x)=\\frac{x^{2} - 2 x + 1}{2...   1BC  Continuidad   \n",
       "\n",
       "  n_ejercicio dificultad n_columnas puntos  enun_tex  sol_tex  \n",
       "0   ejfunc1-0          5          1      1     False    False  \n",
       "1   ejfunc1-0          5          1      1     False    False  \n",
       "2   ejfunc1-0          5          1      1     False    False  "
      ]
     },
     "metadata": {},
     "output_type": "display_data"
    },
    {
     "data": {
      "text/markdown": [
       "**Ejercicio: **ejfunc1-1"
      ],
      "text/plain": [
       "<IPython.core.display.Markdown object>"
      ]
     },
     "metadata": {},
     "output_type": "display_data"
    },
    {
     "data": {
      "text/html": [
       "<div>\n",
       "<style scoped>\n",
       "    .dataframe tbody tr th:only-of-type {\n",
       "        vertical-align: middle;\n",
       "    }\n",
       "\n",
       "    .dataframe tbody tr th {\n",
       "        vertical-align: top;\n",
       "    }\n",
       "\n",
       "    .dataframe thead th {\n",
       "        text-align: right;\n",
       "    }\n",
       "</style>\n",
       "<table border=\"1\" class=\"dataframe\">\n",
       "  <thead>\n",
       "    <tr style=\"text-align: right;\">\n",
       "      <th></th>\n",
       "      <th>enunciado_latex</th>\n",
       "      <th>enunciado</th>\n",
       "      <th>solucion</th>\n",
       "      <th>texto</th>\n",
       "      <th>curso</th>\n",
       "      <th>titulo</th>\n",
       "      <th>n_ejercicio</th>\n",
       "      <th>dificultad</th>\n",
       "      <th>n_columnas</th>\n",
       "      <th>puntos</th>\n",
       "      <th>enun_tex</th>\n",
       "      <th>sol_tex</th>\n",
       "    </tr>\n",
       "  </thead>\n",
       "  <tbody>\n",
       "    <tr>\n",
       "      <th>3</th>\n",
       "      <td>Dominio de $f(x)$</td>\n",
       "      <td>Dominio de $f(x)$</td>\n",
       "      <td>$Dom(f)=\\left(-\\infty, -2\\right) \\cup \\left(-2...</td>\n",
       "      <td>Dada la función:$f(x)=\\frac{- x^{2} - x + 3}{x...</td>\n",
       "      <td>1BC</td>\n",
       "      <td>Continuidad</td>\n",
       "      <td>ejfunc1-1</td>\n",
       "      <td>5</td>\n",
       "      <td>1</td>\n",
       "      <td>1</td>\n",
       "      <td>False</td>\n",
       "      <td>False</td>\n",
       "    </tr>\n",
       "    <tr>\n",
       "      <th>4</th>\n",
       "      <td>¿Para qué valores de $x$ la función es creciente?</td>\n",
       "      <td>¿Para qué valores de $x$ la función es creciente?</td>\n",
       "      <td>$\\left(-\\infty, -2\\right) \\cup \\left(-2, - \\fr...</td>\n",
       "      <td>Dada la función:$f(x)=\\frac{- x^{2} - x + 3}{x...</td>\n",
       "      <td>1BC</td>\n",
       "      <td>Continuidad</td>\n",
       "      <td>ejfunc1-1</td>\n",
       "      <td>5</td>\n",
       "      <td>1</td>\n",
       "      <td>1</td>\n",
       "      <td>False</td>\n",
       "      <td>False</td>\n",
       "    </tr>\n",
       "    <tr>\n",
       "      <th>5</th>\n",
       "      <td>Asíntotas verticales, horizontales y oblicuas,...</td>\n",
       "      <td>Asíntotas verticales, horizontales y oblicuas,...</td>\n",
       "      <td>Asíntotas:\\\\A.V. $x=-2$\\\\, A.V. $x=1$\\\\A.H. $y...</td>\n",
       "      <td>Dada la función:$f(x)=\\frac{- x^{2} - x + 3}{x...</td>\n",
       "      <td>1BC</td>\n",
       "      <td>Continuidad</td>\n",
       "      <td>ejfunc1-1</td>\n",
       "      <td>5</td>\n",
       "      <td>1</td>\n",
       "      <td>1</td>\n",
       "      <td>False</td>\n",
       "      <td>False</td>\n",
       "    </tr>\n",
       "  </tbody>\n",
       "</table>\n",
       "</div>"
      ],
      "text/plain": [
       "                                     enunciado_latex  \\\n",
       "3                                  Dominio de $f(x)$   \n",
       "4  ¿Para qué valores de $x$ la función es creciente?   \n",
       "5  Asíntotas verticales, horizontales y oblicuas,...   \n",
       "\n",
       "                                           enunciado  \\\n",
       "3                                  Dominio de $f(x)$   \n",
       "4  ¿Para qué valores de $x$ la función es creciente?   \n",
       "5  Asíntotas verticales, horizontales y oblicuas,...   \n",
       "\n",
       "                                            solucion  \\\n",
       "3  $Dom(f)=\\left(-\\infty, -2\\right) \\cup \\left(-2...   \n",
       "4  $\\left(-\\infty, -2\\right) \\cup \\left(-2, - \\fr...   \n",
       "5  Asíntotas:\\\\A.V. $x=-2$\\\\, A.V. $x=1$\\\\A.H. $y...   \n",
       "\n",
       "                                               texto curso       titulo  \\\n",
       "3  Dada la función:$f(x)=\\frac{- x^{2} - x + 3}{x...   1BC  Continuidad   \n",
       "4  Dada la función:$f(x)=\\frac{- x^{2} - x + 3}{x...   1BC  Continuidad   \n",
       "5  Dada la función:$f(x)=\\frac{- x^{2} - x + 3}{x...   1BC  Continuidad   \n",
       "\n",
       "  n_ejercicio dificultad n_columnas puntos  enun_tex  sol_tex  \n",
       "3   ejfunc1-1          5          1      1     False    False  \n",
       "4   ejfunc1-1          5          1      1     False    False  \n",
       "5   ejfunc1-1          5          1      1     False    False  "
      ]
     },
     "metadata": {},
     "output_type": "display_data"
    }
   ],
   "source": [
    "escribir_preambulo(fichero, titulo, 'ejercicios')\n",
    "for s in df_ejercicios.groupby('n_ejercicio').count().index : \n",
    "    display(md(\"**Ejercicio: **\" + s ))\n",
    "    display(df_ejercicios[df_ejercicios.n_ejercicio == s])\n",
    "    escribir_ejercicios(df_ejercicios[df_ejercicios.n_ejercicio == s],fichero)\n",
    "\n",
    "escribir_fin(fichero)"
   ]
  }
 ],
 "metadata": {
  "kernelspec": {
   "display_name": "Python 3",
   "language": "python",
   "name": "python3"
  },
  "language_info": {
   "codemirror_mode": {
    "name": "ipython",
    "version": 3
   },
   "file_extension": ".py",
   "mimetype": "text/x-python",
   "name": "python",
   "nbconvert_exporter": "python",
   "pygments_lexer": "ipython3",
   "version": "3.6.8"
  }
 },
 "nbformat": 4,
 "nbformat_minor": 2
}
