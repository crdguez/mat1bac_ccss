{
 "cells": [
  {
   "cell_type": "code",
   "execution_count": 105,
   "metadata": {},
   "outputs": [],
   "source": [
    "import numpy as np\n",
    "import pandas as pd\n",
    "from scipy import stats\n",
    "from sympy import *"
   ]
  },
  {
   "cell_type": "code",
   "execution_count": 6,
   "metadata": {},
   "outputs": [
    {
     "data": {
      "text/plain": [
       "array([[36., 42., 39., 12.],\n",
       "       [42., 48., 45., 28.],\n",
       "       [48., 54., 51., 44.],\n",
       "       [54., 60., 57., 11.],\n",
       "       [60., 66., 63.,  5.]])"
      ]
     },
     "execution_count": 6,
     "metadata": {},
     "output_type": "execute_result"
    }
   ],
   "source": [
    "# límite inferior, superior y frecuencia\n",
    "datos = np.array([[36,42,12],[42,48,28],[48,54,44],[54,60,11],[60,66,5]])\n",
    "marca = (datos[:,1]+datos[:,0])/2\n",
    "marca = marca.reshape(-1,1)\n",
    "datos = np.concatenate((datos, marca), axis=1)[:,[0,1,3,2]]\n",
    "datos"
   ]
  },
  {
   "cell_type": "markdown",
   "metadata": {},
   "source": [
    "$x^2_if^2_i$"
   ]
  },
  {
   "cell_type": "code",
   "execution_count": 77,
   "metadata": {},
   "outputs": [
    {
     "data": {
      "text/html": [
       "<div>\n",
       "<style scoped>\n",
       "    .dataframe tbody tr th:only-of-type {\n",
       "        vertical-align: middle;\n",
       "    }\n",
       "\n",
       "    .dataframe tbody tr th {\n",
       "        vertical-align: top;\n",
       "    }\n",
       "\n",
       "    .dataframe thead th {\n",
       "        text-align: right;\n",
       "    }\n",
       "</style>\n",
       "<table border=\"1\" class=\"dataframe\">\n",
       "  <thead>\n",
       "    <tr style=\"text-align: right;\">\n",
       "      <th></th>\n",
       "      <th>lim_inf</th>\n",
       "      <th>lim_sup</th>\n",
       "      <th>x_i</th>\n",
       "      <th>f_i</th>\n",
       "      <th>F_i</th>\n",
       "      <th>h_i</th>\n",
       "      <th>H_i</th>\n",
       "      <th>x_if_i</th>\n",
       "      <th>x^2_if_i</th>\n",
       "    </tr>\n",
       "  </thead>\n",
       "  <tbody>\n",
       "    <tr>\n",
       "      <th>0</th>\n",
       "      <td>36.0</td>\n",
       "      <td>42.0</td>\n",
       "      <td>39.0</td>\n",
       "      <td>12.0</td>\n",
       "      <td>12.0</td>\n",
       "      <td>0.12</td>\n",
       "      <td>0.12</td>\n",
       "      <td>468.0</td>\n",
       "      <td>18252.0</td>\n",
       "    </tr>\n",
       "    <tr>\n",
       "      <th>1</th>\n",
       "      <td>42.0</td>\n",
       "      <td>48.0</td>\n",
       "      <td>45.0</td>\n",
       "      <td>28.0</td>\n",
       "      <td>40.0</td>\n",
       "      <td>0.28</td>\n",
       "      <td>0.40</td>\n",
       "      <td>1260.0</td>\n",
       "      <td>56700.0</td>\n",
       "    </tr>\n",
       "    <tr>\n",
       "      <th>2</th>\n",
       "      <td>48.0</td>\n",
       "      <td>54.0</td>\n",
       "      <td>51.0</td>\n",
       "      <td>44.0</td>\n",
       "      <td>84.0</td>\n",
       "      <td>0.44</td>\n",
       "      <td>0.84</td>\n",
       "      <td>2244.0</td>\n",
       "      <td>114444.0</td>\n",
       "    </tr>\n",
       "    <tr>\n",
       "      <th>3</th>\n",
       "      <td>54.0</td>\n",
       "      <td>60.0</td>\n",
       "      <td>57.0</td>\n",
       "      <td>11.0</td>\n",
       "      <td>95.0</td>\n",
       "      <td>0.11</td>\n",
       "      <td>0.95</td>\n",
       "      <td>627.0</td>\n",
       "      <td>35739.0</td>\n",
       "    </tr>\n",
       "    <tr>\n",
       "      <th>4</th>\n",
       "      <td>60.0</td>\n",
       "      <td>66.0</td>\n",
       "      <td>63.0</td>\n",
       "      <td>5.0</td>\n",
       "      <td>100.0</td>\n",
       "      <td>0.05</td>\n",
       "      <td>1.00</td>\n",
       "      <td>315.0</td>\n",
       "      <td>19845.0</td>\n",
       "    </tr>\n",
       "    <tr>\n",
       "      <th>5</th>\n",
       "      <td>NaN</td>\n",
       "      <td>NaN</td>\n",
       "      <td>NaN</td>\n",
       "      <td>100.0</td>\n",
       "      <td>NaN</td>\n",
       "      <td>1.00</td>\n",
       "      <td>NaN</td>\n",
       "      <td>4914.0</td>\n",
       "      <td>244980.0</td>\n",
       "    </tr>\n",
       "  </tbody>\n",
       "</table>\n",
       "</div>"
      ],
      "text/plain": [
       "   lim_inf  lim_sup   x_i    f_i    F_i   h_i   H_i  x_if_i  x^2_if_i\n",
       "0     36.0     42.0  39.0   12.0   12.0  0.12  0.12   468.0   18252.0\n",
       "1     42.0     48.0  45.0   28.0   40.0  0.28  0.40  1260.0   56700.0\n",
       "2     48.0     54.0  51.0   44.0   84.0  0.44  0.84  2244.0  114444.0\n",
       "3     54.0     60.0  57.0   11.0   95.0  0.11  0.95   627.0   35739.0\n",
       "4     60.0     66.0  63.0    5.0  100.0  0.05  1.00   315.0   19845.0\n",
       "5      NaN      NaN   NaN  100.0    NaN  1.00   NaN  4914.0  244980.0"
      ]
     },
     "execution_count": 77,
     "metadata": {},
     "output_type": "execute_result"
    }
   ],
   "source": [
    "tabla = pd.DataFrame({r'lim_inf': datos[:,0],'lim_sup': datos[:,1],\n",
    "                      'x_i': datos[:,2],'f_i':datos[:,3],'F_i':datos[:,3].cumsum(),\n",
    "                     'h_i': datos[:,3]/datos[:,3].sum(), 'H_i':(datos[:,3]/datos[:,3].sum()).cumsum(),\n",
    "                     'x_if_i': datos[:,2]*datos[:,3], 'x^2_if_i': datos[:,2]**2*datos[:,3]})\n",
    "tabla\n",
    "\n",
    "#totales = np.array([np.nan,np.nan,np.nan,tabla.f_i.sum(),tabla.F_i.sum()])\n",
    "totales = pd.DataFrame([[np.nan,np.nan,np.nan,tabla.f_i.sum(),\n",
    "                         np.nan, tabla.h_i.sum(), np.nan,\n",
    "                        tabla.x_if_i.sum(),tabla['x^2_if_i'].sum()]],columns=list(tabla.columns))\n",
    "totales\n",
    "\n",
    "tabla.append(totales,ignore_index=True)"
   ]
  },
  {
   "cell_type": "code",
   "execution_count": 57,
   "metadata": {},
   "outputs": [
    {
     "data": {
      "text/plain": [
       "['lim_inf', 'lim_sup', 'x_i', 'f_i', 'F_i']"
      ]
     },
     "execution_count": 57,
     "metadata": {},
     "output_type": "execute_result"
    }
   ],
   "source": [
    "list(tabla.columns)"
   ]
  },
  {
   "cell_type": "markdown",
   "metadata": {},
   "source": [
    "Determina la media, la varianza y la desviación típica:"
   ]
  },
  {
   "cell_type": "code",
   "execution_count": 110,
   "metadata": {},
   "outputs": [
    {
     "data": {
      "text/plain": [
       "(49.14, 35.0604000000003, 5.92118231436934)"
      ]
     },
     "execution_count": 110,
     "metadata": {},
     "output_type": "execute_result"
    }
   ],
   "source": [
    "media = (totales['x_if_i']/totales['f_i'])[0]\n",
    "media\n",
    "\n",
    "var = (totales['x^2_if_i']/totales['f_i']-media**2)[0]\n",
    "\n",
    "desv_tip = sqrt(var)\n",
    "\n",
    "{'media':media, 'varianza': var, 'd'desv_tip}"
   ]
  },
  {
   "cell_type": "code",
   "execution_count": 91,
   "metadata": {},
   "outputs": [
    {
     "data": {
      "text/plain": [
       "49.14"
      ]
     },
     "execution_count": 91,
     "metadata": {},
     "output_type": "execute_result"
    }
   ],
   "source": [
    "frecuencias = datos[:,[2,3]]\n",
    "\n",
    "frecuencias\n",
    "\n",
    "(frecuencias[:,0]*frecuencias[:,1]).sum()/frecuencias[:,1].sum()\n",
    "#stats.describe(frecuencias[:,0]*frecuencias[:,1])\n"
   ]
  },
  {
   "cell_type": "code",
   "execution_count": 110,
   "metadata": {},
   "outputs": [
    {
     "data": {
      "text/plain": [
       "array([[ 468.],\n",
       "       [1260.],\n",
       "       [2244.],\n",
       "       [ 627.],\n",
       "       [ 315.]])"
      ]
     },
     "execution_count": 110,
     "metadata": {},
     "output_type": "execute_result"
    }
   ],
   "source": [
    "(frecuencias[:,0]*frecuencias[:,1]).reshape(-1,1)"
   ]
  }
 ],
 "metadata": {
  "kernelspec": {
   "display_name": "Python 3",
   "language": "python",
   "name": "python3"
  },
  "language_info": {
   "codemirror_mode": {
    "name": "ipython",
    "version": 3
   },
   "file_extension": ".py",
   "mimetype": "text/x-python",
   "name": "python",
   "nbconvert_exporter": "python",
   "pygments_lexer": "ipython3",
   "version": "3.6.5"
  }
 },
 "nbformat": 4,
 "nbformat_minor": 2
}
